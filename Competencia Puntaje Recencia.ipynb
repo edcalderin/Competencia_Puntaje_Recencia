{
 "cells": [
  {
   "cell_type": "markdown",
   "metadata": {
    "id": "3645nYHP5Vrx"
   },
   "source": [
    "# Predecir el Puntaje de Recencia en Papers de Investigación\n",
    "*Notebook created by Erick Calderin*\n",
    "\n",
    "**Web site:** https://www.datasource.ai/es/home/data-science-competitions-for-startups/predecir-el-puntaje-de-recencia-en-papers-de-investigacion"
   ]
  },
  {
   "cell_type": "markdown",
   "metadata": {
    "id": "k4FyA6GkWWOK"
   },
   "source": [
    "## Modules"
   ]
  },
  {
   "cell_type": "code",
   "execution_count": 1,
   "metadata": {
    "ExecuteTime": {
     "end_time": "2021-09-01T22:35:00.227719Z",
     "start_time": "2021-09-01T22:34:57.102336Z"
    },
    "colab": {
     "base_uri": "https://localhost:8080/"
    },
    "id": "oT_E3HTtWZwT",
    "outputId": "1ef38774-086d-4e4b-96ea-76ff48bf5cc9"
   },
   "outputs": [],
   "source": [
    "# Utilities\n",
    "\n",
    "import pandas as pd\n",
    "import numpy as np\n",
    "import matplotlib.pyplot as plt\n",
    "import seaborn as sns\n",
    "from tqdm.notebook import tqdm\n",
    "#from google.colab import drive\n",
    "#drive.mount('/content/drive')"
   ]
  },
  {
   "cell_type": "code",
   "execution_count": 2,
   "metadata": {
    "ExecuteTime": {
     "end_time": "2021-09-01T22:35:00.617719Z",
     "start_time": "2021-09-01T22:35:00.229711Z"
    },
    "id": "QDbHTrTDWirE"
   },
   "outputs": [],
   "source": [
    "# For ML\n",
    "from sklearn.metrics import mean_squared_log_error\n",
    "from sklearn.ensemble import RandomForestRegressor\n",
    "from sklearn.linear_model import BayesianRidge\n",
    "from sklearn.model_selection import train_test_split\n",
    "from sklearn.preprocessing import OneHotEncoder, MinMaxScaler\n",
    "from sklearn.decomposition import PCA\n",
    "import multiprocessing as mp"
   ]
  },
  {
   "cell_type": "markdown",
   "metadata": {
    "id": "tVNRS2Msi85I"
   },
   "source": [
    "For NLP"
   ]
  },
  {
   "cell_type": "code",
   "execution_count": 4,
   "metadata": {
    "ExecuteTime": {
     "end_time": "2021-08-31T04:37:49.630719Z",
     "start_time": "2021-08-31T04:36:46.017668Z"
    },
    "colab": {
     "base_uri": "https://localhost:8080/"
    },
    "id": "Tj83K0RGigS2",
    "outputId": "fc045c10-875c-4e0c-b1c3-54c8421de500"
   },
   "outputs": [
    {
     "name": "stdout",
     "output_type": "stream",
     "text": [
      "Requirement already satisfied: spacy in c:\\users\\erick\\anaconda3\\lib\\site-packages (3.1.1)\n",
      "Collecting spacy\n",
      "  Downloading spacy-3.1.2-cp37-cp37m-win_amd64.whl (11.8 MB)\n",
      "Requirement already satisfied: srsly<3.0.0,>=2.4.1 in c:\\users\\erick\\anaconda3\\lib\\site-packages (from spacy) (2.4.1)\n",
      "Requirement already satisfied: numpy>=1.15.0 in c:\\users\\erick\\anaconda3\\lib\\site-packages (from spacy) (1.19.5)\n",
      "Requirement already satisfied: tqdm<5.0.0,>=4.38.0 in c:\\users\\erick\\anaconda3\\lib\\site-packages (from spacy) (4.42.1)\n",
      "Requirement already satisfied: typer<0.4.0,>=0.3.0 in c:\\users\\erick\\anaconda3\\lib\\site-packages (from spacy) (0.3.2)\n",
      "Requirement already satisfied: requests<3.0.0,>=2.13.0 in c:\\users\\erick\\anaconda3\\lib\\site-packages (from spacy) (2.22.0)\n",
      "Requirement already satisfied: preshed<3.1.0,>=3.0.2 in c:\\users\\erick\\anaconda3\\lib\\site-packages (from spacy) (3.0.5)\n",
      "Requirement already satisfied: packaging>=20.0 in c:\\users\\erick\\anaconda3\\lib\\site-packages (from spacy) (20.1)\n",
      "Requirement already satisfied: murmurhash<1.1.0,>=0.28.0 in c:\\users\\erick\\anaconda3\\lib\\site-packages (from spacy) (1.0.5)\n",
      "Requirement already satisfied: spacy-legacy<3.1.0,>=3.0.7 in c:\\users\\erick\\anaconda3\\lib\\site-packages (from spacy) (3.0.8)\n",
      "Requirement already satisfied: setuptools in c:\\users\\erick\\anaconda3\\lib\\site-packages (from spacy) (45.2.0.post20200210)\n",
      "Requirement already satisfied: cymem<2.1.0,>=2.0.2 in c:\\users\\erick\\anaconda3\\lib\\site-packages (from spacy) (2.0.5)\n",
      "Requirement already satisfied: typing-extensions<4.0.0.0,>=3.7.4 in c:\\users\\erick\\anaconda3\\lib\\site-packages (from spacy) (3.7.4.3)\n",
      "Requirement already satisfied: wasabi<1.1.0,>=0.8.1 in c:\\users\\erick\\anaconda3\\lib\\site-packages (from spacy) (0.8.2)\n",
      "Requirement already satisfied: thinc<8.1.0,>=8.0.8 in c:\\users\\erick\\anaconda3\\lib\\site-packages (from spacy) (8.0.8)\n",
      "Requirement already satisfied: jinja2 in c:\\users\\erick\\anaconda3\\lib\\site-packages (from spacy) (2.11.1)\n",
      "Requirement already satisfied: catalogue<2.1.0,>=2.0.4 in c:\\users\\erick\\anaconda3\\lib\\site-packages (from spacy) (2.0.4)\n",
      "Requirement already satisfied: blis<0.8.0,>=0.4.0 in c:\\users\\erick\\anaconda3\\lib\\site-packages (from spacy) (0.7.4)\n",
      "Requirement already satisfied: pathy>=0.3.5 in c:\\users\\erick\\anaconda3\\lib\\site-packages (from spacy) (0.6.0)\n",
      "Requirement already satisfied: pydantic!=1.8,!=1.8.1,<1.9.0,>=1.7.4 in c:\\users\\erick\\anaconda3\\lib\\site-packages (from spacy) (1.8.2)\n",
      "Requirement already satisfied: zipp>=0.5 in c:\\users\\erick\\anaconda3\\lib\\site-packages (from catalogue<2.1.0,>=2.0.4->spacy) (2.2.0)\n",
      "Requirement already satisfied: six in c:\\users\\erick\\anaconda3\\lib\\site-packages (from packaging>=20.0->spacy) (1.15.0)\n",
      "Requirement already satisfied: pyparsing>=2.0.2 in c:\\users\\erick\\anaconda3\\lib\\site-packages (from packaging>=20.0->spacy) (2.4.6)\n",
      "Requirement already satisfied: smart-open<6.0.0,>=5.0.0 in c:\\users\\erick\\anaconda3\\lib\\site-packages (from pathy>=0.3.5->spacy) (5.1.0)\n",
      "Requirement already satisfied: urllib3!=1.25.0,!=1.25.1,<1.26,>=1.21.1 in c:\\users\\erick\\anaconda3\\lib\\site-packages (from requests<3.0.0,>=2.13.0->spacy) (1.25.8)\n",
      "Requirement already satisfied: chardet<3.1.0,>=3.0.2 in c:\\users\\erick\\anaconda3\\lib\\site-packages (from requests<3.0.0,>=2.13.0->spacy) (3.0.4)\n",
      "Requirement already satisfied: idna<2.9,>=2.5 in c:\\users\\erick\\anaconda3\\lib\\site-packages (from requests<3.0.0,>=2.13.0->spacy) (2.8)\n",
      "Requirement already satisfied: certifi>=2017.4.17 in c:\\users\\erick\\anaconda3\\lib\\site-packages (from requests<3.0.0,>=2.13.0->spacy) (2019.11.28)\n",
      "Requirement already satisfied: click<7.2.0,>=7.1.1 in c:\\users\\erick\\anaconda3\\lib\\site-packages (from typer<0.4.0,>=0.3.0->spacy) (7.1.2)\n",
      "Requirement already satisfied: MarkupSafe>=0.23 in c:\\users\\erick\\anaconda3\\lib\\site-packages (from jinja2->spacy) (1.1.1)\n",
      "Installing collected packages: spacy\n",
      "  Attempting uninstall: spacy\n",
      "    Found existing installation: spacy 3.1.1\n",
      "    Uninstalling spacy-3.1.1:\n",
      "      Successfully uninstalled spacy-3.1.1\n",
      "Successfully installed spacy-3.1.2\n"
     ]
    },
    {
     "name": "stderr",
     "output_type": "stream",
     "text": [
      "WARNING: Ignoring invalid distribution -umpy (c:\\users\\erick\\anaconda3\\lib\\site-packages)\n",
      "WARNING: Ignoring invalid distribution -umpy (c:\\users\\erick\\anaconda3\\lib\\site-packages)\n",
      "WARNING: Ignoring invalid distribution -umpy (c:\\users\\erick\\anaconda3\\lib\\site-packages)\n",
      "    WARNING: Ignoring invalid distribution -umpy (c:\\users\\erick\\anaconda3\\lib\\site-packages)\n",
      "WARNING: Ignoring invalid distribution -umpy (c:\\users\\erick\\anaconda3\\lib\\site-packages)\n",
      "WARNING: Ignoring invalid distribution -umpy (c:\\users\\erick\\anaconda3\\lib\\site-packages)\n",
      "WARNING: Ignoring invalid distribution -umpy (c:\\users\\erick\\anaconda3\\lib\\site-packages)\n",
      "WARNING: Ignoring invalid distribution -umpy (c:\\users\\erick\\anaconda3\\lib\\site-packages)\n",
      "WARNING: You are using pip version 21.1.3; however, version 21.2.4 is available.\n",
      "You should consider upgrading via the 'c:\\users\\erick\\anaconda3\\python.exe -m pip install --upgrade pip' command.\n"
     ]
    },
    {
     "name": "stdout",
     "output_type": "stream",
     "text": [
      "Collecting en-core-web-sm==3.1.0\n",
      "  Downloading https://github.com/explosion/spacy-models/releases/download/en_core_web_sm-3.1.0/en_core_web_sm-3.1.0-py3-none-any.whl (13.6 MB)\n",
      "Requirement already satisfied: spacy<3.2.0,>=3.1.0 in c:\\users\\erick\\anaconda3\\lib\\site-packages (from en-core-web-sm==3.1.0) (3.1.2)\n",
      "Requirement already satisfied: thinc<8.1.0,>=8.0.8 in c:\\users\\erick\\anaconda3\\lib\\site-packages (from spacy<3.2.0,>=3.1.0->en-core-web-sm==3.1.0) (8.0.8)\n",
      "Requirement already satisfied: setuptools in c:\\users\\erick\\anaconda3\\lib\\site-packages (from spacy<3.2.0,>=3.1.0->en-core-web-sm==3.1.0) (45.2.0.post20200210)\n",
      "Requirement already satisfied: wasabi<1.1.0,>=0.8.1 in c:\\users\\erick\\anaconda3\\lib\\site-packages (from spacy<3.2.0,>=3.1.0->en-core-web-sm==3.1.0) (0.8.2)\n",
      "Requirement already satisfied: tqdm<5.0.0,>=4.38.0 in c:\\users\\erick\\anaconda3\\lib\\site-packages (from spacy<3.2.0,>=3.1.0->en-core-web-sm==3.1.0) (4.42.1)\n",
      "Requirement already satisfied: srsly<3.0.0,>=2.4.1 in c:\\users\\erick\\anaconda3\\lib\\site-packages (from spacy<3.2.0,>=3.1.0->en-core-web-sm==3.1.0) (2.4.1)\n",
      "Requirement already satisfied: typing-extensions<4.0.0.0,>=3.7.4 in c:\\users\\erick\\anaconda3\\lib\\site-packages (from spacy<3.2.0,>=3.1.0->en-core-web-sm==3.1.0) (3.7.4.3)\n",
      "Requirement already satisfied: preshed<3.1.0,>=3.0.2 in c:\\users\\erick\\anaconda3\\lib\\site-packages (from spacy<3.2.0,>=3.1.0->en-core-web-sm==3.1.0) (3.0.5)\n",
      "Requirement already satisfied: cymem<2.1.0,>=2.0.2 in c:\\users\\erick\\anaconda3\\lib\\site-packages (from spacy<3.2.0,>=3.1.0->en-core-web-sm==3.1.0) (2.0.5)\n",
      "Requirement already satisfied: pydantic!=1.8,!=1.8.1,<1.9.0,>=1.7.4 in c:\\users\\erick\\anaconda3\\lib\\site-packages (from spacy<3.2.0,>=3.1.0->en-core-web-sm==3.1.0) (1.8.2)\n",
      "Requirement already satisfied: typer<0.4.0,>=0.3.0 in c:\\users\\erick\\anaconda3\\lib\\site-packages (from spacy<3.2.0,>=3.1.0->en-core-web-sm==3.1.0) (0.3.2)\n",
      "Requirement already satisfied: requests<3.0.0,>=2.13.0 in c:\\users\\erick\\anaconda3\\lib\\site-packages (from spacy<3.2.0,>=3.1.0->en-core-web-sm==3.1.0) (2.22.0)\n",
      "Requirement already satisfied: packaging>=20.0 in c:\\users\\erick\\anaconda3\\lib\\site-packages (from spacy<3.2.0,>=3.1.0->en-core-web-sm==3.1.0) (20.1)\n",
      "Requirement already satisfied: numpy>=1.15.0 in c:\\users\\erick\\anaconda3\\lib\\site-packages (from spacy<3.2.0,>=3.1.0->en-core-web-sm==3.1.0) (1.19.5)\n",
      "Requirement already satisfied: spacy-legacy<3.1.0,>=3.0.7 in c:\\users\\erick\\anaconda3\\lib\\site-packages (from spacy<3.2.0,>=3.1.0->en-core-web-sm==3.1.0) (3.0.8)\n",
      "Requirement already satisfied: pathy>=0.3.5 in c:\\users\\erick\\anaconda3\\lib\\site-packages (from spacy<3.2.0,>=3.1.0->en-core-web-sm==3.1.0) (0.6.0)\n",
      "Requirement already satisfied: catalogue<2.1.0,>=2.0.4 in c:\\users\\erick\\anaconda3\\lib\\site-packages (from spacy<3.2.0,>=3.1.0->en-core-web-sm==3.1.0) (2.0.4)\n",
      "Requirement already satisfied: murmurhash<1.1.0,>=0.28.0 in c:\\users\\erick\\anaconda3\\lib\\site-packages (from spacy<3.2.0,>=3.1.0->en-core-web-sm==3.1.0) (1.0.5)\n",
      "Requirement already satisfied: blis<0.8.0,>=0.4.0 in c:\\users\\erick\\anaconda3\\lib\\site-packages (from spacy<3.2.0,>=3.1.0->en-core-web-sm==3.1.0) (0.7.4)\n",
      "Requirement already satisfied: jinja2 in c:\\users\\erick\\anaconda3\\lib\\site-packages (from spacy<3.2.0,>=3.1.0->en-core-web-sm==3.1.0) (2.11.1)\n",
      "Requirement already satisfied: zipp>=0.5 in c:\\users\\erick\\anaconda3\\lib\\site-packages (from catalogue<2.1.0,>=2.0.4->spacy<3.2.0,>=3.1.0->en-core-web-sm==3.1.0) (2.2.0)\n",
      "Requirement already satisfied: pyparsing>=2.0.2 in c:\\users\\erick\\anaconda3\\lib\\site-packages (from packaging>=20.0->spacy<3.2.0,>=3.1.0->en-core-web-sm==3.1.0) (2.4.6)\n",
      "Requirement already satisfied: six in c:\\users\\erick\\anaconda3\\lib\\site-packages (from packaging>=20.0->spacy<3.2.0,>=3.1.0->en-core-web-sm==3.1.0) (1.15.0)\n",
      "Requirement already satisfied: smart-open<6.0.0,>=5.0.0 in c:\\users\\erick\\anaconda3\\lib\\site-packages (from pathy>=0.3.5->spacy<3.2.0,>=3.1.0->en-core-web-sm==3.1.0) (5.1.0)\n",
      "Requirement already satisfied: certifi>=2017.4.17 in c:\\users\\erick\\anaconda3\\lib\\site-packages (from requests<3.0.0,>=2.13.0->spacy<3.2.0,>=3.1.0->en-core-web-sm==3.1.0) (2019.11.28)\n",
      "Requirement already satisfied: urllib3!=1.25.0,!=1.25.1,<1.26,>=1.21.1 in c:\\users\\erick\\anaconda3\\lib\\site-packages (from requests<3.0.0,>=2.13.0->spacy<3.2.0,>=3.1.0->en-core-web-sm==3.1.0) (1.25.8)\n",
      "Requirement already satisfied: chardet<3.1.0,>=3.0.2 in c:\\users\\erick\\anaconda3\\lib\\site-packages (from requests<3.0.0,>=2.13.0->spacy<3.2.0,>=3.1.0->en-core-web-sm==3.1.0) (3.0.4)\n",
      "Requirement already satisfied: idna<2.9,>=2.5 in c:\\users\\erick\\anaconda3\\lib\\site-packages (from requests<3.0.0,>=2.13.0->spacy<3.2.0,>=3.1.0->en-core-web-sm==3.1.0) (2.8)\n",
      "Requirement already satisfied: click<7.2.0,>=7.1.1 in c:\\users\\erick\\anaconda3\\lib\\site-packages (from typer<0.4.0,>=0.3.0->spacy<3.2.0,>=3.1.0->en-core-web-sm==3.1.0) (7.1.2)\n",
      "Requirement already satisfied: MarkupSafe>=0.23 in c:\\users\\erick\\anaconda3\\lib\\site-packages (from jinja2->spacy<3.2.0,>=3.1.0->en-core-web-sm==3.1.0) (1.1.1)\n",
      "[+] Download and installation successful\n",
      "You can now load the package via spacy.load('en_core_web_sm')\n"
     ]
    },
    {
     "name": "stderr",
     "output_type": "stream",
     "text": [
      "2021-08-31 01:37:03.303834: I tensorflow/stream_executor/platform/default/dso_loader.cc:53] Successfully opened dynamic library cudart64_110.dll\n",
      "WARNING: Ignoring invalid distribution -umpy (c:\\users\\erick\\anaconda3\\lib\\site-packages)\n",
      "WARNING: Ignoring invalid distribution -umpy (c:\\users\\erick\\anaconda3\\lib\\site-packages)\n",
      "WARNING: Ignoring invalid distribution -umpy (c:\\users\\erick\\anaconda3\\lib\\site-packages)\n",
      "WARNING: Ignoring invalid distribution -umpy (c:\\users\\erick\\anaconda3\\lib\\site-packages)\n",
      "WARNING: Ignoring invalid distribution -umpy (c:\\users\\erick\\anaconda3\\lib\\site-packages)\n",
      "WARNING: Ignoring invalid distribution -umpy (c:\\users\\erick\\anaconda3\\lib\\site-packages)\n",
      "WARNING: You are using pip version 21.1.3; however, version 21.2.4 is available.\n",
      "You should consider upgrading via the 'C:\\Users\\Erick\\anaconda3\\python.exe -m pip install --upgrade pip' command.\n"
     ]
    },
    {
     "name": "stdout",
     "output_type": "stream",
     "text": [
      "Collecting es-core-news-sm==3.1.0\n",
      "  Downloading https://github.com/explosion/spacy-models/releases/download/es_core_news_sm-3.1.0/es_core_news_sm-3.1.0-py3-none-any.whl (13.7 MB)\n",
      "Requirement already satisfied: spacy<3.2.0,>=3.1.0 in c:\\users\\erick\\anaconda3\\lib\\site-packages (from es-core-news-sm==3.1.0) (3.1.2)\n",
      "Requirement already satisfied: typing-extensions<4.0.0.0,>=3.7.4 in c:\\users\\erick\\anaconda3\\lib\\site-packages (from spacy<3.2.0,>=3.1.0->es-core-news-sm==3.1.0) (3.7.4.3)\n",
      "Requirement already satisfied: srsly<3.0.0,>=2.4.1 in c:\\users\\erick\\anaconda3\\lib\\site-packages (from spacy<3.2.0,>=3.1.0->es-core-news-sm==3.1.0) (2.4.1)\n",
      "Requirement already satisfied: pydantic!=1.8,!=1.8.1,<1.9.0,>=1.7.4 in c:\\users\\erick\\anaconda3\\lib\\site-packages (from spacy<3.2.0,>=3.1.0->es-core-news-sm==3.1.0) (1.8.2)\n",
      "Requirement already satisfied: typer<0.4.0,>=0.3.0 in c:\\users\\erick\\anaconda3\\lib\\site-packages (from spacy<3.2.0,>=3.1.0->es-core-news-sm==3.1.0) (0.3.2)\n",
      "Requirement already satisfied: murmurhash<1.1.0,>=0.28.0 in c:\\users\\erick\\anaconda3\\lib\\site-packages (from spacy<3.2.0,>=3.1.0->es-core-news-sm==3.1.0) (1.0.5)\n",
      "Requirement already satisfied: packaging>=20.0 in c:\\users\\erick\\anaconda3\\lib\\site-packages (from spacy<3.2.0,>=3.1.0->es-core-news-sm==3.1.0) (20.1)\n",
      "Requirement already satisfied: catalogue<2.1.0,>=2.0.4 in c:\\users\\erick\\anaconda3\\lib\\site-packages (from spacy<3.2.0,>=3.1.0->es-core-news-sm==3.1.0) (2.0.4)\n",
      "Requirement already satisfied: blis<0.8.0,>=0.4.0 in c:\\users\\erick\\anaconda3\\lib\\site-packages (from spacy<3.2.0,>=3.1.0->es-core-news-sm==3.1.0) (0.7.4)\n",
      "Requirement already satisfied: pathy>=0.3.5 in c:\\users\\erick\\anaconda3\\lib\\site-packages (from spacy<3.2.0,>=3.1.0->es-core-news-sm==3.1.0) (0.6.0)\n",
      "Requirement already satisfied: thinc<8.1.0,>=8.0.8 in c:\\users\\erick\\anaconda3\\lib\\site-packages (from spacy<3.2.0,>=3.1.0->es-core-news-sm==3.1.0) (8.0.8)\n",
      "Requirement already satisfied: jinja2 in c:\\users\\erick\\anaconda3\\lib\\site-packages (from spacy<3.2.0,>=3.1.0->es-core-news-sm==3.1.0) (2.11.1)\n",
      "Requirement already satisfied: tqdm<5.0.0,>=4.38.0 in c:\\users\\erick\\anaconda3\\lib\\site-packages (from spacy<3.2.0,>=3.1.0->es-core-news-sm==3.1.0) (4.42.1)\n",
      "Requirement already satisfied: numpy>=1.15.0 in c:\\users\\erick\\anaconda3\\lib\\site-packages (from spacy<3.2.0,>=3.1.0->es-core-news-sm==3.1.0) (1.19.5)\n",
      "Requirement already satisfied: cymem<2.1.0,>=2.0.2 in c:\\users\\erick\\anaconda3\\lib\\site-packages (from spacy<3.2.0,>=3.1.0->es-core-news-sm==3.1.0) (2.0.5)\n",
      "Requirement already satisfied: requests<3.0.0,>=2.13.0 in c:\\users\\erick\\anaconda3\\lib\\site-packages (from spacy<3.2.0,>=3.1.0->es-core-news-sm==3.1.0) (2.22.0)\n",
      "Requirement already satisfied: setuptools in c:\\users\\erick\\anaconda3\\lib\\site-packages (from spacy<3.2.0,>=3.1.0->es-core-news-sm==3.1.0) (45.2.0.post20200210)\n",
      "Requirement already satisfied: wasabi<1.1.0,>=0.8.1 in c:\\users\\erick\\anaconda3\\lib\\site-packages (from spacy<3.2.0,>=3.1.0->es-core-news-sm==3.1.0) (0.8.2)\n",
      "Requirement already satisfied: preshed<3.1.0,>=3.0.2 in c:\\users\\erick\\anaconda3\\lib\\site-packages (from spacy<3.2.0,>=3.1.0->es-core-news-sm==3.1.0) (3.0.5)\n",
      "Requirement already satisfied: spacy-legacy<3.1.0,>=3.0.7 in c:\\users\\erick\\anaconda3\\lib\\site-packages (from spacy<3.2.0,>=3.1.0->es-core-news-sm==3.1.0) (3.0.8)\n",
      "Requirement already satisfied: zipp>=0.5 in c:\\users\\erick\\anaconda3\\lib\\site-packages (from catalogue<2.1.0,>=2.0.4->spacy<3.2.0,>=3.1.0->es-core-news-sm==3.1.0) (2.2.0)\n",
      "Requirement already satisfied: pyparsing>=2.0.2 in c:\\users\\erick\\anaconda3\\lib\\site-packages (from packaging>=20.0->spacy<3.2.0,>=3.1.0->es-core-news-sm==3.1.0) (2.4.6)\n",
      "Requirement already satisfied: six in c:\\users\\erick\\anaconda3\\lib\\site-packages (from packaging>=20.0->spacy<3.2.0,>=3.1.0->es-core-news-sm==3.1.0) (1.15.0)\n",
      "Requirement already satisfied: smart-open<6.0.0,>=5.0.0 in c:\\users\\erick\\anaconda3\\lib\\site-packages (from pathy>=0.3.5->spacy<3.2.0,>=3.1.0->es-core-news-sm==3.1.0) (5.1.0)\n",
      "Requirement already satisfied: certifi>=2017.4.17 in c:\\users\\erick\\anaconda3\\lib\\site-packages (from requests<3.0.0,>=2.13.0->spacy<3.2.0,>=3.1.0->es-core-news-sm==3.1.0) (2019.11.28)\n",
      "Requirement already satisfied: idna<2.9,>=2.5 in c:\\users\\erick\\anaconda3\\lib\\site-packages (from requests<3.0.0,>=2.13.0->spacy<3.2.0,>=3.1.0->es-core-news-sm==3.1.0) (2.8)\n",
      "Requirement already satisfied: urllib3!=1.25.0,!=1.25.1,<1.26,>=1.21.1 in c:\\users\\erick\\anaconda3\\lib\\site-packages (from requests<3.0.0,>=2.13.0->spacy<3.2.0,>=3.1.0->es-core-news-sm==3.1.0) (1.25.8)\n",
      "Requirement already satisfied: chardet<3.1.0,>=3.0.2 in c:\\users\\erick\\anaconda3\\lib\\site-packages (from requests<3.0.0,>=2.13.0->spacy<3.2.0,>=3.1.0->es-core-news-sm==3.1.0) (3.0.4)\n",
      "Requirement already satisfied: click<7.2.0,>=7.1.1 in c:\\users\\erick\\anaconda3\\lib\\site-packages (from typer<0.4.0,>=0.3.0->spacy<3.2.0,>=3.1.0->es-core-news-sm==3.1.0) (7.1.2)\n",
      "Requirement already satisfied: MarkupSafe>=0.23 in c:\\users\\erick\\anaconda3\\lib\\site-packages (from jinja2->spacy<3.2.0,>=3.1.0->es-core-news-sm==3.1.0) (1.1.1)\n",
      "[+] Download and installation successful\n",
      "You can now load the package via spacy.load('es_core_news_sm')\n"
     ]
    },
    {
     "name": "stderr",
     "output_type": "stream",
     "text": [
      "2021-08-31 01:37:23.791077: I tensorflow/stream_executor/platform/default/dso_loader.cc:53] Successfully opened dynamic library cudart64_110.dll\n",
      "WARNING: Ignoring invalid distribution -umpy (c:\\users\\erick\\anaconda3\\lib\\site-packages)\n",
      "WARNING: Ignoring invalid distribution -umpy (c:\\users\\erick\\anaconda3\\lib\\site-packages)\n",
      "WARNING: Ignoring invalid distribution -umpy (c:\\users\\erick\\anaconda3\\lib\\site-packages)\n",
      "WARNING: Ignoring invalid distribution -umpy (c:\\users\\erick\\anaconda3\\lib\\site-packages)\n",
      "WARNING: Ignoring invalid distribution -umpy (c:\\users\\erick\\anaconda3\\lib\\site-packages)\n",
      "WARNING: Ignoring invalid distribution -umpy (c:\\users\\erick\\anaconda3\\lib\\site-packages)\n",
      "WARNING: You are using pip version 21.1.3; however, version 21.2.4 is available.\n",
      "You should consider upgrading via the 'C:\\Users\\Erick\\anaconda3\\python.exe -m pip install --upgrade pip' command.\n"
     ]
    },
    {
     "name": "stdout",
     "output_type": "stream",
     "text": [
      "Collecting pt-core-news-sm==3.1.0\n",
      "  Downloading https://github.com/explosion/spacy-models/releases/download/pt_core_news_sm-3.1.0/pt_core_news_sm-3.1.0-py3-none-any.whl (21.9 MB)\n",
      "Requirement already satisfied: spacy<3.2.0,>=3.1.0 in c:\\users\\erick\\anaconda3\\lib\\site-packages (from pt-core-news-sm==3.1.0) (3.1.2)\n",
      "Requirement already satisfied: packaging>=20.0 in c:\\users\\erick\\anaconda3\\lib\\site-packages (from spacy<3.2.0,>=3.1.0->pt-core-news-sm==3.1.0) (20.1)\n",
      "Requirement already satisfied: srsly<3.0.0,>=2.4.1 in c:\\users\\erick\\anaconda3\\lib\\site-packages (from spacy<3.2.0,>=3.1.0->pt-core-news-sm==3.1.0) (2.4.1)\n",
      "Requirement already satisfied: jinja2 in c:\\users\\erick\\anaconda3\\lib\\site-packages (from spacy<3.2.0,>=3.1.0->pt-core-news-sm==3.1.0) (2.11.1)\n",
      "Requirement already satisfied: typer<0.4.0,>=0.3.0 in c:\\users\\erick\\anaconda3\\lib\\site-packages (from spacy<3.2.0,>=3.1.0->pt-core-news-sm==3.1.0) (0.3.2)\n",
      "Requirement already satisfied: preshed<3.1.0,>=3.0.2 in c:\\users\\erick\\anaconda3\\lib\\site-packages (from spacy<3.2.0,>=3.1.0->pt-core-news-sm==3.1.0) (3.0.5)\n",
      "Requirement already satisfied: pathy>=0.3.5 in c:\\users\\erick\\anaconda3\\lib\\site-packages (from spacy<3.2.0,>=3.1.0->pt-core-news-sm==3.1.0) (0.6.0)\n",
      "Requirement already satisfied: catalogue<2.1.0,>=2.0.4 in c:\\users\\erick\\anaconda3\\lib\\site-packages (from spacy<3.2.0,>=3.1.0->pt-core-news-sm==3.1.0) (2.0.4)\n",
      "Requirement already satisfied: requests<3.0.0,>=2.13.0 in c:\\users\\erick\\anaconda3\\lib\\site-packages (from spacy<3.2.0,>=3.1.0->pt-core-news-sm==3.1.0) (2.22.0)\n",
      "Requirement already satisfied: blis<0.8.0,>=0.4.0 in c:\\users\\erick\\anaconda3\\lib\\site-packages (from spacy<3.2.0,>=3.1.0->pt-core-news-sm==3.1.0) (0.7.4)\n",
      "Requirement already satisfied: numpy>=1.15.0 in c:\\users\\erick\\anaconda3\\lib\\site-packages (from spacy<3.2.0,>=3.1.0->pt-core-news-sm==3.1.0) (1.19.5)\n",
      "Requirement already satisfied: typing-extensions<4.0.0.0,>=3.7.4 in c:\\users\\erick\\anaconda3\\lib\\site-packages (from spacy<3.2.0,>=3.1.0->pt-core-news-sm==3.1.0) (3.7.4.3)\n",
      "Requirement already satisfied: setuptools in c:\\users\\erick\\anaconda3\\lib\\site-packages (from spacy<3.2.0,>=3.1.0->pt-core-news-sm==3.1.0) (45.2.0.post20200210)\n",
      "Requirement already satisfied: thinc<8.1.0,>=8.0.8 in c:\\users\\erick\\anaconda3\\lib\\site-packages (from spacy<3.2.0,>=3.1.0->pt-core-news-sm==3.1.0) (8.0.8)\n",
      "Requirement already satisfied: spacy-legacy<3.1.0,>=3.0.7 in c:\\users\\erick\\anaconda3\\lib\\site-packages (from spacy<3.2.0,>=3.1.0->pt-core-news-sm==3.1.0) (3.0.8)\n",
      "Requirement already satisfied: wasabi<1.1.0,>=0.8.1 in c:\\users\\erick\\anaconda3\\lib\\site-packages (from spacy<3.2.0,>=3.1.0->pt-core-news-sm==3.1.0) (0.8.2)\n",
      "Requirement already satisfied: cymem<2.1.0,>=2.0.2 in c:\\users\\erick\\anaconda3\\lib\\site-packages (from spacy<3.2.0,>=3.1.0->pt-core-news-sm==3.1.0) (2.0.5)\n",
      "Requirement already satisfied: murmurhash<1.1.0,>=0.28.0 in c:\\users\\erick\\anaconda3\\lib\\site-packages (from spacy<3.2.0,>=3.1.0->pt-core-news-sm==3.1.0) (1.0.5)\n",
      "Requirement already satisfied: tqdm<5.0.0,>=4.38.0 in c:\\users\\erick\\anaconda3\\lib\\site-packages (from spacy<3.2.0,>=3.1.0->pt-core-news-sm==3.1.0) (4.42.1)\n",
      "Requirement already satisfied: pydantic!=1.8,!=1.8.1,<1.9.0,>=1.7.4 in c:\\users\\erick\\anaconda3\\lib\\site-packages (from spacy<3.2.0,>=3.1.0->pt-core-news-sm==3.1.0) (1.8.2)\n",
      "Requirement already satisfied: zipp>=0.5 in c:\\users\\erick\\anaconda3\\lib\\site-packages (from catalogue<2.1.0,>=2.0.4->spacy<3.2.0,>=3.1.0->pt-core-news-sm==3.1.0) (2.2.0)\n",
      "Requirement already satisfied: six in c:\\users\\erick\\anaconda3\\lib\\site-packages (from packaging>=20.0->spacy<3.2.0,>=3.1.0->pt-core-news-sm==3.1.0) (1.15.0)\n",
      "Requirement already satisfied: pyparsing>=2.0.2 in c:\\users\\erick\\anaconda3\\lib\\site-packages (from packaging>=20.0->spacy<3.2.0,>=3.1.0->pt-core-news-sm==3.1.0) (2.4.6)\n",
      "Requirement already satisfied: smart-open<6.0.0,>=5.0.0 in c:\\users\\erick\\anaconda3\\lib\\site-packages (from pathy>=0.3.5->spacy<3.2.0,>=3.1.0->pt-core-news-sm==3.1.0) (5.1.0)\n",
      "Requirement already satisfied: urllib3!=1.25.0,!=1.25.1,<1.26,>=1.21.1 in c:\\users\\erick\\anaconda3\\lib\\site-packages (from requests<3.0.0,>=2.13.0->spacy<3.2.0,>=3.1.0->pt-core-news-sm==3.1.0) (1.25.8)\n",
      "Requirement already satisfied: idna<2.9,>=2.5 in c:\\users\\erick\\anaconda3\\lib\\site-packages (from requests<3.0.0,>=2.13.0->spacy<3.2.0,>=3.1.0->pt-core-news-sm==3.1.0) (2.8)\n",
      "Requirement already satisfied: chardet<3.1.0,>=3.0.2 in c:\\users\\erick\\anaconda3\\lib\\site-packages (from requests<3.0.0,>=2.13.0->spacy<3.2.0,>=3.1.0->pt-core-news-sm==3.1.0) (3.0.4)\n",
      "Requirement already satisfied: certifi>=2017.4.17 in c:\\users\\erick\\anaconda3\\lib\\site-packages (from requests<3.0.0,>=2.13.0->spacy<3.2.0,>=3.1.0->pt-core-news-sm==3.1.0) (2019.11.28)\n",
      "Requirement already satisfied: click<7.2.0,>=7.1.1 in c:\\users\\erick\\anaconda3\\lib\\site-packages (from typer<0.4.0,>=0.3.0->spacy<3.2.0,>=3.1.0->pt-core-news-sm==3.1.0) (7.1.2)\n",
      "Requirement already satisfied: MarkupSafe>=0.23 in c:\\users\\erick\\anaconda3\\lib\\site-packages (from jinja2->spacy<3.2.0,>=3.1.0->pt-core-news-sm==3.1.0) (1.1.1)\n",
      "[+] Download and installation successful\n",
      "You can now load the package via spacy.load('pt_core_news_sm')\n"
     ]
    },
    {
     "name": "stderr",
     "output_type": "stream",
     "text": [
      "2021-08-31 01:37:36.335597: I tensorflow/stream_executor/platform/default/dso_loader.cc:53] Successfully opened dynamic library cudart64_110.dll\n",
      "WARNING: Ignoring invalid distribution -umpy (c:\\users\\erick\\anaconda3\\lib\\site-packages)\n",
      "WARNING: Ignoring invalid distribution -umpy (c:\\users\\erick\\anaconda3\\lib\\site-packages)\n",
      "WARNING: Ignoring invalid distribution -umpy (c:\\users\\erick\\anaconda3\\lib\\site-packages)\n",
      "WARNING: Ignoring invalid distribution -umpy (c:\\users\\erick\\anaconda3\\lib\\site-packages)\n",
      "WARNING: Ignoring invalid distribution -umpy (c:\\users\\erick\\anaconda3\\lib\\site-packages)\n",
      "WARNING: Ignoring invalid distribution -umpy (c:\\users\\erick\\anaconda3\\lib\\site-packages)\n",
      "WARNING: You are using pip version 21.1.3; however, version 21.2.4 is available.\n",
      "You should consider upgrading via the 'C:\\Users\\Erick\\anaconda3\\python.exe -m pip install --upgrade pip' command.\n"
     ]
    }
   ],
   "source": [
    "# Install\n",
    "!pip install -U spacy\n",
    "!python -m spacy download en_core_web_sm\n",
    "!python -m spacy download es_core_news_sm\n",
    "!python -m spacy download pt_core_news_sm"
   ]
  },
  {
   "cell_type": "code",
   "execution_count": 3,
   "metadata": {
    "ExecuteTime": {
     "end_time": "2021-09-01T22:35:09.079662Z",
     "start_time": "2021-09-01T22:35:01.120652Z"
    },
    "id": "c3KaKw1UUsY8"
   },
   "outputs": [],
   "source": [
    "import spacy\n",
    "import re\n",
    "from nltk.stem import SnowballStemmer\n",
    "from sklearn.feature_extraction.text import TfidfVectorizer"
   ]
  },
  {
   "cell_type": "markdown",
   "metadata": {
    "id": "qdkuI_m-8zZq"
   },
   "source": [
    "## Importing data\n",
    "\n",
    "Getting training and test datasets from Drive."
   ]
  },
  {
   "cell_type": "code",
   "execution_count": 4,
   "metadata": {
    "ExecuteTime": {
     "end_time": "2021-09-01T22:35:09.684702Z",
     "start_time": "2021-09-01T22:35:09.081648Z"
    },
    "id": "NtGSww8n8tnP"
   },
   "outputs": [],
   "source": [
    "# Train\n",
    "#PREFIX = '/content/drive/MyDrive/Colab Notebooks/CompetenciaPuntajeRecencia'\n",
    "#train = pd.read_csv(PREFIX+'/Train.csv')\n",
    "#test = pd.read_csv(PREFIX+'/Test.csv')\n",
    "\n",
    "train = pd.read_csv('Train.csv')\n",
    "test = pd.read_csv('Test.csv')"
   ]
  },
  {
   "cell_type": "markdown",
   "metadata": {
    "id": "Iyg1pKaKZFIY"
   },
   "source": [
    "## Exploring"
   ]
  },
  {
   "cell_type": "code",
   "execution_count": 5,
   "metadata": {
    "ExecuteTime": {
     "end_time": "2021-09-01T13:25:24.759489Z",
     "start_time": "2021-09-01T13:25:24.733489Z"
    },
    "colab": {
     "base_uri": "https://localhost:8080/",
     "height": 203
    },
    "id": "0tvqpPz1Yr2a",
    "outputId": "97bc249f-0a6d-45a5-a1ab-e79f2bdcd9bd"
   },
   "outputs": [
    {
     "data": {
      "text/html": [
       "<div>\n",
       "<style scoped>\n",
       "    .dataframe tbody tr th:only-of-type {\n",
       "        vertical-align: middle;\n",
       "    }\n",
       "\n",
       "    .dataframe tbody tr th {\n",
       "        vertical-align: top;\n",
       "    }\n",
       "\n",
       "    .dataframe thead th {\n",
       "        text-align: right;\n",
       "    }\n",
       "</style>\n",
       "<table border=\"1\" class=\"dataframe\">\n",
       "  <thead>\n",
       "    <tr style=\"text-align: right;\">\n",
       "      <th></th>\n",
       "      <th>id</th>\n",
       "      <th>Language</th>\n",
       "      <th>Year</th>\n",
       "      <th>Abstract</th>\n",
       "      <th>Title</th>\n",
       "      <th>total_rel_score</th>\n",
       "    </tr>\n",
       "  </thead>\n",
       "  <tbody>\n",
       "    <tr>\n",
       "      <th>0</th>\n",
       "      <td>1</td>\n",
       "      <td>en</td>\n",
       "      <td>2016</td>\n",
       "      <td>The present study investigates an inventory mo...</td>\n",
       "      <td>Replenishment policy for non-instantaneous det...</td>\n",
       "      <td>0.630682</td>\n",
       "    </tr>\n",
       "    <tr>\n",
       "      <th>1</th>\n",
       "      <td>2</td>\n",
       "      <td>en</td>\n",
       "      <td>2019</td>\n",
       "      <td>AIM: To investigate the clinical characteristi...</td>\n",
       "      <td>Analysis of soldiers' orbital wall fracture su...</td>\n",
       "      <td>0.583333</td>\n",
       "    </tr>\n",
       "    <tr>\n",
       "      <th>2</th>\n",
       "      <td>3</td>\n",
       "      <td>en</td>\n",
       "      <td>2019</td>\n",
       "      <td>Aflatoxin M1 (AFM1) and ochratoxin A (OTA), wh...</td>\n",
       "      <td>Modulation of Mucin (MUC2, MUC5AC and MUC5B) m...</td>\n",
       "      <td>0.372222</td>\n",
       "    </tr>\n",
       "    <tr>\n",
       "      <th>3</th>\n",
       "      <td>4</td>\n",
       "      <td>en</td>\n",
       "      <td>2017</td>\n",
       "      <td>Background/Aim: There are still unrevealed tre...</td>\n",
       "      <td>Traditional dentistry knowledge among Serbs in...</td>\n",
       "      <td>0.661765</td>\n",
       "    </tr>\n",
       "    <tr>\n",
       "      <th>4</th>\n",
       "      <td>5</td>\n",
       "      <td>en</td>\n",
       "      <td>2015</td>\n",
       "      <td>Impairment in empathy has been demonstrated in...</td>\n",
       "      <td>Dimensional schizotypy and social cognition: A...</td>\n",
       "      <td>0.373737</td>\n",
       "    </tr>\n",
       "  </tbody>\n",
       "</table>\n",
       "</div>"
      ],
      "text/plain": [
       "   id Language  Year                                           Abstract  \\\n",
       "0   1       en  2016  The present study investigates an inventory mo...   \n",
       "1   2       en  2019  AIM: To investigate the clinical characteristi...   \n",
       "2   3       en  2019  Aflatoxin M1 (AFM1) and ochratoxin A (OTA), wh...   \n",
       "3   4       en  2017  Background/Aim: There are still unrevealed tre...   \n",
       "4   5       en  2015  Impairment in empathy has been demonstrated in...   \n",
       "\n",
       "                                               Title  total_rel_score  \n",
       "0  Replenishment policy for non-instantaneous det...         0.630682  \n",
       "1  Analysis of soldiers' orbital wall fracture su...         0.583333  \n",
       "2  Modulation of Mucin (MUC2, MUC5AC and MUC5B) m...         0.372222  \n",
       "3  Traditional dentistry knowledge among Serbs in...         0.661765  \n",
       "4  Dimensional schizotypy and social cognition: A...         0.373737  "
      ]
     },
     "execution_count": 5,
     "metadata": {},
     "output_type": "execute_result"
    }
   ],
   "source": [
    "train.head()"
   ]
  },
  {
   "cell_type": "code",
   "execution_count": 6,
   "metadata": {
    "ExecuteTime": {
     "end_time": "2021-08-31T16:48:48.087565Z",
     "start_time": "2021-08-31T16:48:48.079563Z"
    },
    "colab": {
     "base_uri": "https://localhost:8080/"
    },
    "id": "VyQnNt2UZG0D",
    "outputId": "0319cb84-13fe-4f01-d56f-7367b9b3037f"
   },
   "outputs": [
    {
     "name": "stdout",
     "output_type": "stream",
     "text": [
      "Train Shape (21456, 6)\n",
      "Test Shape (10728, 5)\n"
     ]
    }
   ],
   "source": [
    "print('Train Shape', train.shape)\n",
    "print('Test Shape', test.shape)"
   ]
  },
  {
   "cell_type": "code",
   "execution_count": 7,
   "metadata": {
    "ExecuteTime": {
     "end_time": "2021-08-31T16:48:48.119565Z",
     "start_time": "2021-08-31T16:48:48.089564Z"
    },
    "colab": {
     "base_uri": "https://localhost:8080/"
    },
    "id": "z0WUTK0RZLP7",
    "outputId": "8c9e6568-65cc-4f37-9842-88f1dfec36af"
   },
   "outputs": [
    {
     "name": "stdout",
     "output_type": "stream",
     "text": [
      "Unique languages\n",
      " en    18539\n",
      "pt     1539\n",
      "es     1378\n",
      "Name: Language, dtype: int64\n",
      "\n",
      "Amount Unique Years 59\n"
     ]
    }
   ],
   "source": [
    "print('Unique languages\\n', train.Language.value_counts())\n",
    "print('\\nAmount Unique Years', len(train.Year.value_counts()))"
   ]
  },
  {
   "cell_type": "markdown",
   "metadata": {
    "id": "llGF-1vAbgz8"
   },
   "source": [
    "No missing values!"
   ]
  },
  {
   "cell_type": "code",
   "execution_count": 8,
   "metadata": {
    "ExecuteTime": {
     "end_time": "2021-08-31T16:48:48.144565Z",
     "start_time": "2021-08-31T16:48:48.123565Z"
    },
    "colab": {
     "base_uri": "https://localhost:8080/"
    },
    "id": "vZSuuQLwbBhW",
    "outputId": "a0b6edca-3c21-48a7-816b-d8733a7aac20"
   },
   "outputs": [
    {
     "data": {
      "text/plain": [
       "id                 0\n",
       "Language           0\n",
       "Year               0\n",
       "Abstract           0\n",
       "Title              0\n",
       "total_rel_score    0\n",
       "dtype: int64"
      ]
     },
     "execution_count": 8,
     "metadata": {},
     "output_type": "execute_result"
    }
   ],
   "source": [
    "train.isna().sum()"
   ]
  },
  {
   "cell_type": "markdown",
   "metadata": {
    "id": "i27nkSSpjKXN"
   },
   "source": [
    "Score distribution for each language"
   ]
  },
  {
   "cell_type": "code",
   "execution_count": 12,
   "metadata": {
    "ExecuteTime": {
     "end_time": "2021-08-31T04:40:34.186887Z",
     "start_time": "2021-08-31T04:40:33.527854Z"
    },
    "colab": {
     "base_uri": "https://localhost:8080/",
     "height": 417
    },
    "id": "AqN3LCXIbnlq",
    "outputId": "7dc826fd-d416-42af-b5a6-89a7a727dc76"
   },
   "outputs": [
    {
     "data": {
      "text/plain": [
       "Text(0.5, 6.79999999999999, 'Scores')"
      ]
     },
     "execution_count": 12,
     "metadata": {},
     "output_type": "execute_result"
    },
    {
     "data": {
      "image/png": "[encoded data removed]",
      "text/plain": [
       "<Figure size 561.375x360 with 1 Axes>"
      ]
     },
     "metadata": {
      "needs_background": "light"
     },
     "output_type": "display_data"
    }
   ],
   "source": [
    "sns.displot(data=train, x= 'total_rel_score', aspect=1.4, hue='Language')\n",
    "plt.title('Histogram of score by language', fontsize=15, pad=20)\n",
    "plt.xlabel('Scores')"
   ]
  },
  {
   "cell_type": "markdown",
   "metadata": {
    "id": "qATbgO81ljGd"
   },
   "source": [
    "Plot above indicate us there is no outliers within data, another great new! However we can notice that papers at english language overcome to ones created in other languages."
   ]
  },
  {
   "cell_type": "code",
   "execution_count": 13,
   "metadata": {
    "ExecuteTime": {
     "end_time": "2021-08-31T04:40:38.753054Z",
     "start_time": "2021-08-31T04:40:35.833047Z"
    },
    "colab": {
     "base_uri": "https://localhost:8080/",
     "height": 461
    },
    "id": "8RnDyEomjTt8",
    "outputId": "b5b764fd-ba7a-42a6-8423-f00f5acbd1d3"
   },
   "outputs": [
    {
     "data": {
      "text/plain": [
       "<seaborn.axisgrid.PairGrid at 0x2459cf8f688>"
      ]
     },
     "execution_count": 13,
     "metadata": {},
     "output_type": "execute_result"
    },
    {
     "data": {
      "image/png": "[encoded data removed]",
      "text/plain": [
       "<Figure size 618.975x432 with 5 Axes>"
      ]
     },
     "metadata": {
      "needs_background": "light"
     },
     "output_type": "display_data"
    }
   ],
   "source": [
    "sns.pairplot(train.drop(columns=['id']), hue='Language', corner=True, aspect=1.3, height=3)"
   ]
  },
  {
   "cell_type": "markdown",
   "metadata": {
    "id": "d37BvyEqkTJ9"
   },
   "source": [
    "In another hand, there is a clear separation between papers at spanish language in early years and rest of papers."
   ]
  },
  {
   "cell_type": "markdown",
   "metadata": {
    "id": "zHcZOHEeo2VP"
   },
   "source": [
    "## Preprocessing"
   ]
  },
  {
   "cell_type": "markdown",
   "metadata": {
    "id": "Ij5GCS9ro4ug"
   },
   "source": [
    "### Creating dummy variables for Language"
   ]
  },
  {
   "cell_type": "code",
   "execution_count": 5,
   "metadata": {
    "ExecuteTime": {
     "end_time": "2021-09-01T22:35:21.619037Z",
     "start_time": "2021-09-01T22:35:21.602037Z"
    },
    "id": "GPCrgqTEpDCq"
   },
   "outputs": [],
   "source": [
    "dummy_language = OneHotEncoder(dtype='int8')\n",
    "df_dummy_language = dummy_language.fit_transform(train[['Language']]).toarray()"
   ]
  },
  {
   "cell_type": "code",
   "execution_count": 6,
   "metadata": {
    "ExecuteTime": {
     "end_time": "2021-09-01T22:35:21.941887Z",
     "start_time": "2021-09-01T22:35:21.929919Z"
    },
    "id": "-h9Fy535r9fk"
   },
   "outputs": [],
   "source": [
    "train = train.join(pd.DataFrame(df_dummy_language, columns=dummy_language.categories_[0]))"
   ]
  },
  {
   "cell_type": "markdown",
   "metadata": {
    "id": "MmjDpkkZRPcQ"
   },
   "source": [
    "### MinMaxScaler to Year"
   ]
  },
  {
   "cell_type": "code",
   "execution_count": 7,
   "metadata": {
    "ExecuteTime": {
     "end_time": "2021-09-01T22:35:23.127569Z",
     "start_time": "2021-09-01T22:35:23.111609Z"
    },
    "id": "B0oSGARLEAoA"
   },
   "outputs": [],
   "source": [
    "minMaxScaler = MinMaxScaler()\n",
    "year_minmax = minMaxScaler.fit_transform(train[['Year']])\n",
    "train.Year = year_minmax"
   ]
  },
  {
   "cell_type": "code",
   "execution_count": 8,
   "metadata": {
    "ExecuteTime": {
     "end_time": "2021-09-01T22:35:23.619687Z",
     "start_time": "2021-09-01T22:35:23.599663Z"
    },
    "colab": {
     "base_uri": "https://localhost:8080/",
     "height": 0
    },
    "id": "Nmj4wGHr-zqu",
    "outputId": "517394df-d13a-4614-9aa5-8231bc5c2cee"
   },
   "outputs": [
    {
     "data": {
      "text/html": [
       "<div>\n",
       "<style scoped>\n",
       "    .dataframe tbody tr th:only-of-type {\n",
       "        vertical-align: middle;\n",
       "    }\n",
       "\n",
       "    .dataframe tbody tr th {\n",
       "        vertical-align: top;\n",
       "    }\n",
       "\n",
       "    .dataframe thead th {\n",
       "        text-align: right;\n",
       "    }\n",
       "</style>\n",
       "<table border=\"1\" class=\"dataframe\">\n",
       "  <thead>\n",
       "    <tr style=\"text-align: right;\">\n",
       "      <th></th>\n",
       "      <th>id</th>\n",
       "      <th>Language</th>\n",
       "      <th>Year</th>\n",
       "      <th>Abstract</th>\n",
       "      <th>Title</th>\n",
       "      <th>total_rel_score</th>\n",
       "      <th>en</th>\n",
       "      <th>es</th>\n",
       "      <th>pt</th>\n",
       "    </tr>\n",
       "  </thead>\n",
       "  <tbody>\n",
       "    <tr>\n",
       "      <th>0</th>\n",
       "      <td>1</td>\n",
       "      <td>en</td>\n",
       "      <td>0.946667</td>\n",
       "      <td>The present study investigates an inventory mo...</td>\n",
       "      <td>Replenishment policy for non-instantaneous det...</td>\n",
       "      <td>0.630682</td>\n",
       "      <td>1</td>\n",
       "      <td>0</td>\n",
       "      <td>0</td>\n",
       "    </tr>\n",
       "    <tr>\n",
       "      <th>1</th>\n",
       "      <td>2</td>\n",
       "      <td>en</td>\n",
       "      <td>0.986667</td>\n",
       "      <td>AIM: To investigate the clinical characteristi...</td>\n",
       "      <td>Analysis of soldiers' orbital wall fracture su...</td>\n",
       "      <td>0.583333</td>\n",
       "      <td>1</td>\n",
       "      <td>0</td>\n",
       "      <td>0</td>\n",
       "    </tr>\n",
       "    <tr>\n",
       "      <th>2</th>\n",
       "      <td>3</td>\n",
       "      <td>en</td>\n",
       "      <td>0.986667</td>\n",
       "      <td>Aflatoxin M1 (AFM1) and ochratoxin A (OTA), wh...</td>\n",
       "      <td>Modulation of Mucin (MUC2, MUC5AC and MUC5B) m...</td>\n",
       "      <td>0.372222</td>\n",
       "      <td>1</td>\n",
       "      <td>0</td>\n",
       "      <td>0</td>\n",
       "    </tr>\n",
       "    <tr>\n",
       "      <th>3</th>\n",
       "      <td>4</td>\n",
       "      <td>en</td>\n",
       "      <td>0.960000</td>\n",
       "      <td>Background/Aim: There are still unrevealed tre...</td>\n",
       "      <td>Traditional dentistry knowledge among Serbs in...</td>\n",
       "      <td>0.661765</td>\n",
       "      <td>1</td>\n",
       "      <td>0</td>\n",
       "      <td>0</td>\n",
       "    </tr>\n",
       "    <tr>\n",
       "      <th>4</th>\n",
       "      <td>5</td>\n",
       "      <td>en</td>\n",
       "      <td>0.933333</td>\n",
       "      <td>Impairment in empathy has been demonstrated in...</td>\n",
       "      <td>Dimensional schizotypy and social cognition: A...</td>\n",
       "      <td>0.373737</td>\n",
       "      <td>1</td>\n",
       "      <td>0</td>\n",
       "      <td>0</td>\n",
       "    </tr>\n",
       "  </tbody>\n",
       "</table>\n",
       "</div>"
      ],
      "text/plain": [
       "   id Language      Year                                           Abstract  \\\n",
       "0   1       en  0.946667  The present study investigates an inventory mo...   \n",
       "1   2       en  0.986667  AIM: To investigate the clinical characteristi...   \n",
       "2   3       en  0.986667  Aflatoxin M1 (AFM1) and ochratoxin A (OTA), wh...   \n",
       "3   4       en  0.960000  Background/Aim: There are still unrevealed tre...   \n",
       "4   5       en  0.933333  Impairment in empathy has been demonstrated in...   \n",
       "\n",
       "                                               Title  total_rel_score  en  es  \\\n",
       "0  Replenishment policy for non-instantaneous det...         0.630682   1   0   \n",
       "1  Analysis of soldiers' orbital wall fracture su...         0.583333   1   0   \n",
       "2  Modulation of Mucin (MUC2, MUC5AC and MUC5B) m...         0.372222   1   0   \n",
       "3  Traditional dentistry knowledge among Serbs in...         0.661765   1   0   \n",
       "4  Dimensional schizotypy and social cognition: A...         0.373737   1   0   \n",
       "\n",
       "   pt  \n",
       "0   0  \n",
       "1   0  \n",
       "2   0  \n",
       "3   0  \n",
       "4   0  "
      ]
     },
     "execution_count": 8,
     "metadata": {},
     "output_type": "execute_result"
    }
   ],
   "source": [
    "train.head()"
   ]
  },
  {
   "cell_type": "markdown",
   "metadata": {
    "id": "Zw9s_PWd2gwb"
   },
   "source": [
    "### Applying NLP"
   ]
  },
  {
   "cell_type": "markdown",
   "metadata": {
    "id": "bc8vZMuK2jrE"
   },
   "source": [
    "##### Tokenizing"
   ]
  },
  {
   "cell_type": "code",
   "execution_count": 9,
   "metadata": {
    "ExecuteTime": {
     "end_time": "2021-09-01T22:35:30.218506Z",
     "start_time": "2021-09-01T22:35:26.703877Z"
    },
    "id": "hJolhaGM2m5a"
   },
   "outputs": [],
   "source": [
    "# Loading spacy for every target language\n",
    "nlp_en = spacy.load('en_core_web_sm')\n",
    "nlp_es = spacy.load('es_core_news_sm')\n",
    "nlp_pt = spacy.load('pt_core_news_sm')\n",
    "\n",
    "stem_en = SnowballStemmer(language='english')\n",
    "stem_es = SnowballStemmer(language='spanish')\n",
    "stem_pt = SnowballStemmer(language='portuguese')"
   ]
  },
  {
   "cell_type": "code",
   "execution_count": 10,
   "metadata": {
    "ExecuteTime": {
     "end_time": "2021-09-01T22:39:08.079715Z",
     "start_time": "2021-09-01T22:39:08.069717Z"
    },
    "id": "jlJA0PUp4M6p"
   },
   "outputs": [],
   "source": [
    "# Function for lemmatization, filtering stopword and length of words\n",
    "\n",
    "def get_tokens(dataframe):\n",
    "    '''\n",
    "    dataframe: Pandas Dataframe with two columns 'Abstract' and 'Language'\n",
    "    '''\n",
    "    nlp_dict = {\n",
    "        'en': [nlp_en, stem_en],\n",
    "        'es': [nlp_es, stem_es],\n",
    "        'pt': [nlp_pt, stem_pt]\n",
    "    }\n",
    "    tokens_doc = []\n",
    "    pos_list = []\n",
    "    for item in tqdm(dataframe.itertuples()):\n",
    "        # Features\n",
    "        abstract_title = item.abstract_title\n",
    "        language = item.Language\n",
    "        abstract = item.Abstract\n",
    "        # Re\n",
    "        text_re = re.sub('[^A-ZÜÖÄa-zá-ú]+', ' ', abstract_title).strip()\n",
    "        nlp_spacy = nlp_dict.get(language)[0]        \n",
    "        # Filtering \n",
    "        tokens = [word.lemma_ for word in nlp_spacy(text_re) \n",
    "                  if word.pos_ not in ['PUNCT', 'SPACE', 'NUM', 'DET']\n",
    "                  and not word.is_stop\n",
    "                ]\n",
    "        nlp_nltk = nlp_dict.get(language)[1]\n",
    "        tokens = [nlp_nltk.stem(token) for token in tokens]\n",
    "        tokens = [token for token in tokens if len(token)>3]\n",
    "        tokens_doc.append(' '.join(tokens))\n",
    "        \n",
    "        # Getting tag position\n",
    "        pos = [word.pos_ for word in nlp_spacy(abstract)]\n",
    "        pos_list.append(' '.join(pos))\n",
    "    return tokens_doc, pos_list"
   ]
  },
  {
   "cell_type": "code",
   "execution_count": 12,
   "metadata": {
    "ExecuteTime": {
     "end_time": "2021-09-01T22:40:01.288210Z",
     "start_time": "2021-09-01T22:40:01.186215Z"
    }
   },
   "outputs": [],
   "source": [
    "# Concatenating Abstract and Title\n",
    "\n",
    "train['abstract_title'] = train.Abstract + ' ' + train.Title"
   ]
  },
  {
   "cell_type": "code",
   "execution_count": 13,
   "metadata": {
    "ExecuteTime": {
     "end_time": "2021-09-01T23:05:58.448695Z",
     "start_time": "2021-09-01T22:40:07.514761Z"
    },
    "colab": {
     "base_uri": "https://localhost:8080/",
     "height": 82,
     "referenced_widgets": [
      "02c36a4bd40340388ed56b4e81619151",
      "833feffdd0c44bc6bbf4b573c880e358",
      "f5a9f020f3d14e5187490c919ad9037b",
      "444570b1e443412c8351d4b2a6910227",
      "951c036ede3542ea938dc801d6be5509",
      "6989dc6b78084603a62c45973130dbe9",
      "7a3851785ea6453ba704023af25cb3fd",
      "d8f18d441d434fb59c3e8f4ca50aaf04",
      "87de22250c4e470a8b99e29d3f826999",
      "962ac367ef4e464eba694392782f82cd",
      "7edbfbbb249c4dda82e75b7478db7461"
     ]
    },
    "id": "JT3zpy5n-PfW",
    "outputId": "cb27c6d6-0ba3-48be-95b8-ef2d099a64ef"
   },
   "outputs": [
    {
     "data": {
      "application/vnd.jupyter.widget-view+json": {
       "model_id": "1a0c385d89b1436b87d4f59bd94c3002",
       "version_major": 2,
       "version_minor": 0
      },
      "text/plain": [
       "HBox(children=(FloatProgress(value=1.0, bar_style='info', max=1.0), HTML(value='')))"
      ]
     },
     "metadata": {},
     "output_type": "display_data"
    },
    {
     "name": "stdout",
     "output_type": "stream",
     "text": [
      "\n",
      "Wall time: 25min 50s\n"
     ]
    }
   ],
   "source": [
    "%%time\n",
    "result_tokenization = get_tokens(train[['abstract_title', 'Abstract', 'Language']])"
   ]
  },
  {
   "cell_type": "code",
   "execution_count": 14,
   "metadata": {
    "ExecuteTime": {
     "end_time": "2021-09-01T23:06:13.594289Z",
     "start_time": "2021-09-01T23:06:13.579282Z"
    }
   },
   "outputs": [],
   "source": [
    "train['Abstract_tokens'] = result_tokenization[0]\n",
    "train['pos_tokens'] = result_tokenization[1]"
   ]
  },
  {
   "cell_type": "code",
   "execution_count": 15,
   "metadata": {
    "ExecuteTime": {
     "end_time": "2021-09-01T23:06:17.078208Z",
     "start_time": "2021-09-01T23:06:17.041212Z"
    },
    "colab": {
     "base_uri": "https://localhost:8080/",
     "height": 203
    },
    "id": "8NLiGv2dGyuQ",
    "outputId": "c7e36f59-91fa-49c8-aa9b-7967f65e589c"
   },
   "outputs": [
    {
     "data": {
      "text/html": [
       "<div>\n",
       "<style scoped>\n",
       "    .dataframe tbody tr th:only-of-type {\n",
       "        vertical-align: middle;\n",
       "    }\n",
       "\n",
       "    .dataframe tbody tr th {\n",
       "        vertical-align: top;\n",
       "    }\n",
       "\n",
       "    .dataframe thead th {\n",
       "        text-align: right;\n",
       "    }\n",
       "</style>\n",
       "<table border=\"1\" class=\"dataframe\">\n",
       "  <thead>\n",
       "    <tr style=\"text-align: right;\">\n",
       "      <th></th>\n",
       "      <th>Abstract</th>\n",
       "      <th>Abstract_tokens</th>\n",
       "      <th>pos_tokens</th>\n",
       "      <th>total_rel_score</th>\n",
       "    </tr>\n",
       "  </thead>\n",
       "  <tbody>\n",
       "    <tr>\n",
       "      <th>0</th>\n",
       "      <td>The present study investigates an inventory mo...</td>\n",
       "      <td>present studi investig inventori model instant...</td>\n",
       "      <td>DET ADJ NOUN VERB DET NOUN NOUN ADP ADJ ADJ AD...</td>\n",
       "      <td>0.630682</td>\n",
       "    </tr>\n",
       "    <tr>\n",
       "      <th>1</th>\n",
       "      <td>AIM: To investigate the clinical characteristi...</td>\n",
       "      <td>investig clinic characterist surgic treatment ...</td>\n",
       "      <td>PROPN PUNCT PART VERB DET ADJ NOUN CCONJ ADJ N...</td>\n",
       "      <td>0.583333</td>\n",
       "    </tr>\n",
       "    <tr>\n",
       "      <th>2</th>\n",
       "      <td>Aflatoxin M1 (AFM1) and ochratoxin A (OTA), wh...</td>\n",
       "      <td>aflatoxin ochratoxin wide coexist milk pose th...</td>\n",
       "      <td>PROPN PROPN PUNCT PROPN PUNCT CCONJ PROPN PROP...</td>\n",
       "      <td>0.372222</td>\n",
       "    </tr>\n",
       "    <tr>\n",
       "      <th>3</th>\n",
       "      <td>Background/Aim: There are still unrevealed tre...</td>\n",
       "      <td>background unreveal treasur tradit dental medi...</td>\n",
       "      <td>NOUN PUNCT PROPN PUNCT PRON AUX ADV VERB NOUN ...</td>\n",
       "      <td>0.661765</td>\n",
       "    </tr>\n",
       "    <tr>\n",
       "      <th>4</th>\n",
       "      <td>Impairment in empathy has been demonstrated in...</td>\n",
       "      <td>impair empathi demonstr patient schizophrenia ...</td>\n",
       "      <td>NOUN ADP NOUN AUX AUX VERB ADP NOUN ADP NOUN C...</td>\n",
       "      <td>0.373737</td>\n",
       "    </tr>\n",
       "  </tbody>\n",
       "</table>\n",
       "</div>"
      ],
      "text/plain": [
       "                                            Abstract  \\\n",
       "0  The present study investigates an inventory mo...   \n",
       "1  AIM: To investigate the clinical characteristi...   \n",
       "2  Aflatoxin M1 (AFM1) and ochratoxin A (OTA), wh...   \n",
       "3  Background/Aim: There are still unrevealed tre...   \n",
       "4  Impairment in empathy has been demonstrated in...   \n",
       "\n",
       "                                     Abstract_tokens  \\\n",
       "0  present studi investig inventori model instant...   \n",
       "1  investig clinic characterist surgic treatment ...   \n",
       "2  aflatoxin ochratoxin wide coexist milk pose th...   \n",
       "3  background unreveal treasur tradit dental medi...   \n",
       "4  impair empathi demonstr patient schizophrenia ...   \n",
       "\n",
       "                                          pos_tokens  total_rel_score  \n",
       "0  DET ADJ NOUN VERB DET NOUN NOUN ADP ADJ ADJ AD...         0.630682  \n",
       "1  PROPN PUNCT PART VERB DET ADJ NOUN CCONJ ADJ N...         0.583333  \n",
       "2  PROPN PROPN PUNCT PROPN PUNCT CCONJ PROPN PROP...         0.372222  \n",
       "3  NOUN PUNCT PROPN PUNCT PRON AUX ADV VERB NOUN ...         0.661765  \n",
       "4  NOUN ADP NOUN AUX AUX VERB ADP NOUN ADP NOUN C...         0.373737  "
      ]
     },
     "execution_count": 15,
     "metadata": {},
     "output_type": "execute_result"
    }
   ],
   "source": [
    "train[['Abstract', 'Abstract_tokens', 'pos_tokens', 'total_rel_score']].head()"
   ]
  },
  {
   "cell_type": "markdown",
   "metadata": {
    "id": "VfMfiDbXU8YU"
   },
   "source": [
    "##### Vectorization"
   ]
  },
  {
   "cell_type": "code",
   "execution_count": 26,
   "metadata": {
    "ExecuteTime": {
     "end_time": "2021-09-01T23:40:56.482716Z",
     "start_time": "2021-09-01T23:40:52.522739Z"
    },
    "id": "KXeRCwjEVGfr"
   },
   "outputs": [],
   "source": [
    "vectorizer_model = TfidfVectorizer(min_df=15, encoding='ascii', sublinear_tf=True)\n",
    "vectorizer_values = vectorizer_model.fit_transform(train['Abstract_tokens'])"
   ]
  },
  {
   "cell_type": "code",
   "execution_count": 27,
   "metadata": {
    "ExecuteTime": {
     "end_time": "2021-09-01T23:41:11.790970Z",
     "start_time": "2021-09-01T23:41:00.847082Z"
    },
    "id": "8uV28NoKZ_qi"
   },
   "outputs": [],
   "source": [
    "train_tfidf = train.join(pd.DataFrame(vectorizer_values.toarray(), \n",
    "                        columns=vectorizer_model.get_feature_names())\n",
    "        )"
   ]
  },
  {
   "cell_type": "code",
   "execution_count": 18,
   "metadata": {
    "ExecuteTime": {
     "end_time": "2021-09-01T23:06:39.069767Z",
     "start_time": "2021-09-01T23:06:35.671740Z"
    }
   },
   "outputs": [],
   "source": [
    "tfidf_POS_model = TfidfVectorizer(sublinear_tf=True)\n",
    "tfidf_POS_values = tfidf_POS_model.fit_transform(train['pos_tokens'])"
   ]
  },
  {
   "cell_type": "code",
   "execution_count": 28,
   "metadata": {
    "ExecuteTime": {
     "end_time": "2021-09-01T23:41:15.197206Z",
     "start_time": "2021-09-01T23:41:13.675074Z"
    }
   },
   "outputs": [],
   "source": [
    "train_tfidf = train_tfidf.join(pd.DataFrame(tfidf_POS_values.toarray(), \n",
    "                        columns=list(map(lambda x:'_'+x, tfidf_POS_model.get_feature_names())))\n",
    "        )"
   ]
  },
  {
   "cell_type": "code",
   "execution_count": 29,
   "metadata": {
    "ExecuteTime": {
     "end_time": "2021-09-01T23:41:15.863960Z",
     "start_time": "2021-09-01T23:41:15.848416Z"
    },
    "colab": {
     "base_uri": "https://localhost:8080/"
    },
    "id": "PX5Tk5wnuFIe",
    "outputId": "428bc718-829d-4bda-caa9-c4178bacc320"
   },
   "outputs": [
    {
     "name": "stdout",
     "output_type": "stream",
     "text": [
      "(21456, 8985)\n"
     ]
    }
   ],
   "source": [
    "print(train_tfidf.shape)"
   ]
  },
  {
   "cell_type": "markdown",
   "metadata": {
    "id": "9Rz7YqFrspjN"
   },
   "source": [
    "### Dropping unnecessary columns:"
   ]
  },
  {
   "cell_type": "code",
   "execution_count": 30,
   "metadata": {
    "ExecuteTime": {
     "end_time": "2021-09-01T23:41:32.712354Z",
     "start_time": "2021-09-01T23:41:23.289533Z"
    },
    "id": "PebpD0Q4szQg"
   },
   "outputs": [],
   "source": [
    "COLS = ['id', 'Abstract', 'Title', 'Language', 'Abstract_tokens', 'pos_tokens', 'abstract_title']\n",
    "train_tfidf.drop(COLS, axis=1, inplace=True)"
   ]
  },
  {
   "cell_type": "code",
   "execution_count": 31,
   "metadata": {
    "ExecuteTime": {
     "end_time": "2021-09-01T23:41:33.232766Z",
     "start_time": "2021-09-01T23:41:32.849485Z"
    },
    "colab": {
     "base_uri": "https://localhost:8080/",
     "height": 252
    },
    "id": "VL_-_62Ra4aV",
    "outputId": "e9042526-c06f-45f6-ec51-c7f93d5492f3"
   },
   "outputs": [
    {
     "data": {
      "text/html": [
       "<div>\n",
       "<style scoped>\n",
       "    .dataframe tbody tr th:only-of-type {\n",
       "        vertical-align: middle;\n",
       "    }\n",
       "\n",
       "    .dataframe tbody tr th {\n",
       "        vertical-align: top;\n",
       "    }\n",
       "\n",
       "    .dataframe thead th {\n",
       "        text-align: right;\n",
       "    }\n",
       "</style>\n",
       "<table border=\"1\" class=\"dataframe\">\n",
       "  <thead>\n",
       "    <tr style=\"text-align: right;\">\n",
       "      <th></th>\n",
       "      <th>Year</th>\n",
       "      <th>total_rel_score</th>\n",
       "      <th>en</th>\n",
       "      <th>es</th>\n",
       "      <th>pt</th>\n",
       "      <th>aacut</th>\n",
       "      <th>abaix</th>\n",
       "      <th>abandon</th>\n",
       "      <th>abbrevi</th>\n",
       "      <th>abdoman</th>\n",
       "      <th>...</th>\n",
       "      <th>_noun</th>\n",
       "      <th>_num</th>\n",
       "      <th>_part</th>\n",
       "      <th>_pron</th>\n",
       "      <th>_propn</th>\n",
       "      <th>_punct</th>\n",
       "      <th>_sconj</th>\n",
       "      <th>_space</th>\n",
       "      <th>_sym</th>\n",
       "      <th>_verb</th>\n",
       "    </tr>\n",
       "  </thead>\n",
       "  <tbody>\n",
       "    <tr>\n",
       "      <th>0</th>\n",
       "      <td>0.946667</td>\n",
       "      <td>0.630682</td>\n",
       "      <td>1</td>\n",
       "      <td>0</td>\n",
       "      <td>0</td>\n",
       "      <td>0.0</td>\n",
       "      <td>0.0</td>\n",
       "      <td>0.0</td>\n",
       "      <td>0.0</td>\n",
       "      <td>0.0</td>\n",
       "      <td>...</td>\n",
       "      <td>0.399522</td>\n",
       "      <td>0.000000</td>\n",
       "      <td>0.313849</td>\n",
       "      <td>0.152016</td>\n",
       "      <td>0.000000</td>\n",
       "      <td>0.307946</td>\n",
       "      <td>0.000000</td>\n",
       "      <td>0.181182</td>\n",
       "      <td>0.000000</td>\n",
       "      <td>0.322391</td>\n",
       "    </tr>\n",
       "    <tr>\n",
       "      <th>1</th>\n",
       "      <td>0.986667</td>\n",
       "      <td>0.583333</td>\n",
       "      <td>1</td>\n",
       "      <td>0</td>\n",
       "      <td>0</td>\n",
       "      <td>0.0</td>\n",
       "      <td>0.0</td>\n",
       "      <td>0.0</td>\n",
       "      <td>0.0</td>\n",
       "      <td>0.0</td>\n",
       "      <td>...</td>\n",
       "      <td>0.368929</td>\n",
       "      <td>0.288948</td>\n",
       "      <td>0.212450</td>\n",
       "      <td>0.227331</td>\n",
       "      <td>0.206804</td>\n",
       "      <td>0.320247</td>\n",
       "      <td>0.000000</td>\n",
       "      <td>0.000000</td>\n",
       "      <td>0.157759</td>\n",
       "      <td>0.276929</td>\n",
       "    </tr>\n",
       "    <tr>\n",
       "      <th>2</th>\n",
       "      <td>0.986667</td>\n",
       "      <td>0.372222</td>\n",
       "      <td>1</td>\n",
       "      <td>0</td>\n",
       "      <td>0</td>\n",
       "      <td>0.0</td>\n",
       "      <td>0.0</td>\n",
       "      <td>0.0</td>\n",
       "      <td>0.0</td>\n",
       "      <td>0.0</td>\n",
       "      <td>...</td>\n",
       "      <td>0.370883</td>\n",
       "      <td>0.152849</td>\n",
       "      <td>0.160024</td>\n",
       "      <td>0.181413</td>\n",
       "      <td>0.318057</td>\n",
       "      <td>0.314918</td>\n",
       "      <td>0.164068</td>\n",
       "      <td>0.000000</td>\n",
       "      <td>0.167476</td>\n",
       "      <td>0.290211</td>\n",
       "    </tr>\n",
       "    <tr>\n",
       "      <th>3</th>\n",
       "      <td>0.960000</td>\n",
       "      <td>0.661765</td>\n",
       "      <td>1</td>\n",
       "      <td>0</td>\n",
       "      <td>0</td>\n",
       "      <td>0.0</td>\n",
       "      <td>0.0</td>\n",
       "      <td>0.0</td>\n",
       "      <td>0.0</td>\n",
       "      <td>0.0</td>\n",
       "      <td>...</td>\n",
       "      <td>0.366876</td>\n",
       "      <td>0.318265</td>\n",
       "      <td>0.147178</td>\n",
       "      <td>0.134614</td>\n",
       "      <td>0.231244</td>\n",
       "      <td>0.321016</td>\n",
       "      <td>0.150898</td>\n",
       "      <td>0.160442</td>\n",
       "      <td>0.154032</td>\n",
       "      <td>0.273688</td>\n",
       "    </tr>\n",
       "    <tr>\n",
       "      <th>4</th>\n",
       "      <td>0.933333</td>\n",
       "      <td>0.373737</td>\n",
       "      <td>1</td>\n",
       "      <td>0</td>\n",
       "      <td>0</td>\n",
       "      <td>0.0</td>\n",
       "      <td>0.0</td>\n",
       "      <td>0.0</td>\n",
       "      <td>0.0</td>\n",
       "      <td>0.0</td>\n",
       "      <td>...</td>\n",
       "      <td>0.385220</td>\n",
       "      <td>0.306359</td>\n",
       "      <td>0.000000</td>\n",
       "      <td>0.181185</td>\n",
       "      <td>0.273705</td>\n",
       "      <td>0.339543</td>\n",
       "      <td>0.163862</td>\n",
       "      <td>0.000000</td>\n",
       "      <td>0.000000</td>\n",
       "      <td>0.277218</td>\n",
       "    </tr>\n",
       "  </tbody>\n",
       "</table>\n",
       "<p>5 rows × 8978 columns</p>\n",
       "</div>"
      ],
      "text/plain": [
       "       Year  total_rel_score  en  es  pt  aacut  abaix  abandon  abbrevi  \\\n",
       "0  0.946667         0.630682   1   0   0    0.0    0.0      0.0      0.0   \n",
       "1  0.986667         0.583333   1   0   0    0.0    0.0      0.0      0.0   \n",
       "2  0.986667         0.372222   1   0   0    0.0    0.0      0.0      0.0   \n",
       "3  0.960000         0.661765   1   0   0    0.0    0.0      0.0      0.0   \n",
       "4  0.933333         0.373737   1   0   0    0.0    0.0      0.0      0.0   \n",
       "\n",
       "   abdoman  ...     _noun      _num     _part     _pron    _propn    _punct  \\\n",
       "0      0.0  ...  0.399522  0.000000  0.313849  0.152016  0.000000  0.307946   \n",
       "1      0.0  ...  0.368929  0.288948  0.212450  0.227331  0.206804  0.320247   \n",
       "2      0.0  ...  0.370883  0.152849  0.160024  0.181413  0.318057  0.314918   \n",
       "3      0.0  ...  0.366876  0.318265  0.147178  0.134614  0.231244  0.321016   \n",
       "4      0.0  ...  0.385220  0.306359  0.000000  0.181185  0.273705  0.339543   \n",
       "\n",
       "     _sconj    _space      _sym     _verb  \n",
       "0  0.000000  0.181182  0.000000  0.322391  \n",
       "1  0.000000  0.000000  0.157759  0.276929  \n",
       "2  0.164068  0.000000  0.167476  0.290211  \n",
       "3  0.150898  0.160442  0.154032  0.273688  \n",
       "4  0.163862  0.000000  0.000000  0.277218  \n",
       "\n",
       "[5 rows x 8978 columns]"
      ]
     },
     "execution_count": 31,
     "metadata": {},
     "output_type": "execute_result"
    }
   ],
   "source": [
    "train_tfidf.head()"
   ]
  },
  {
   "cell_type": "markdown",
   "metadata": {
    "id": "x_uFGSdOo5d-"
   },
   "source": [
    "## Training"
   ]
  },
  {
   "cell_type": "code",
   "execution_count": 32,
   "metadata": {
    "ExecuteTime": {
     "end_time": "2021-09-01T23:41:36.587403Z",
     "start_time": "2021-09-01T23:41:35.168311Z"
    },
    "id": "Xmoe-wNqt0BZ"
   },
   "outputs": [],
   "source": [
    "X = train_tfidf.drop('total_rel_score', axis=1)\n",
    "y = train_tfidf.total_rel_score"
   ]
  },
  {
   "cell_type": "code",
   "execution_count": 33,
   "metadata": {
    "ExecuteTime": {
     "end_time": "2021-09-01T23:41:40.658235Z",
     "start_time": "2021-09-01T23:41:36.589309Z"
    },
    "id": "k2UrZAsMt77s"
   },
   "outputs": [],
   "source": [
    "SEED = 42\n",
    "X_train, X_test, y_train, y_test = train_test_split(X, y, test_size=0.3, random_state=SEED, shuffle=True)"
   ]
  },
  {
   "cell_type": "code",
   "execution_count": 34,
   "metadata": {
    "ExecuteTime": {
     "end_time": "2021-09-01T23:56:44.221162Z",
     "start_time": "2021-09-01T23:41:40.725218Z"
    },
    "colab": {
     "base_uri": "https://localhost:8080/"
    },
    "id": "ig99_jGOLZ3t",
    "outputId": "b86a35eb-e6c1-4cd1-b432-401df6587bf4"
   },
   "outputs": [
    {
     "name": "stdout",
     "output_type": "stream",
     "text": [
      "Convergence after  25  iterations\n",
      "Wall time: 15min 2s\n"
     ]
    },
    {
     "data": {
      "text/plain": [
       "BayesianRidge(alpha_1=1e-06, alpha_2=1e-06, alpha_init=None,\n",
       "              compute_score=False, copy_X=True, fit_intercept=True,\n",
       "              lambda_1=1e-06, lambda_2=1e-06, lambda_init=None, n_iter=300,\n",
       "              normalize=False, tol=0.001, verbose=True)"
      ]
     },
     "execution_count": 34,
     "metadata": {},
     "output_type": "execute_result"
    }
   ],
   "source": [
    "%%time\n",
    "model = BayesianRidge(verbose=True)\n",
    "model.fit(X_train, y_train)"
   ]
  },
  {
   "cell_type": "code",
   "execution_count": 35,
   "metadata": {
    "ExecuteTime": {
     "end_time": "2021-09-01T23:57:01.023567Z",
     "start_time": "2021-09-01T23:57:00.906570Z"
    },
    "id": "dvlAC9ZluJ4K"
   },
   "outputs": [],
   "source": [
    "def results_metric(model):\n",
    "    # Predict for train and test\n",
    "    y_pred_train = model.predict(X_train).flatten()\n",
    "    y_pred_test = model.predict(X_test).flatten()\n",
    "\n",
    "    # RMSLE metric\n",
    "    rmsle_train = np.sqrt(mean_squared_log_error(y_train, y_pred_train))\n",
    "    rmsle_test = np.sqrt(mean_squared_log_error(y_test, y_pred_test))\n",
    "\n",
    "    # Plotting results\n",
    "    plt.figure(figsize=(12, 5))\n",
    "    sns.set(color_codes=True)\n",
    "    plt.subplot(1, 2, 1)    \n",
    "    sns.histplot(y_train - y_pred_train, bins=20, kde=True, color='g')\n",
    "    sns.histplot(y_test - y_pred_test, bins=20, kde=True, color='r')\n",
    "    plt.legend(['Train','Test'])\n",
    "    plt.subplot(1, 2, 2)\n",
    "    sns.scatterplot(x=y_test, y=y_pred_test)\n",
    "    sns.set(None)\n",
    "    lims = [\n",
    "        np.min([plt.xlim(), plt.ylim()]),  # min of both axes\n",
    "        np.max([plt.xlim(), plt.ylim()]),  # max of both axes]\n",
    "    ]\n",
    "\n",
    "    plt.plot(lims, lims, 'k-', alpha=0.75, zorder=0)\n",
    "    plt.xlabel('Y Test')\n",
    "    plt.ylabel('Y Pred Test')\n",
    "    print('RMSLE Train', rmsle_train)\n",
    "    print('RMSLE Test', rmsle_test)"
   ]
  },
  {
   "cell_type": "code",
   "execution_count": 36,
   "metadata": {
    "ExecuteTime": {
     "end_time": "2021-09-01T23:57:12.429678Z",
     "start_time": "2021-09-01T23:57:01.639857Z"
    },
    "colab": {
     "base_uri": "https://localhost:8080/",
     "height": 374
    },
    "id": "dLWWh0UyV6BQ",
    "outputId": "73aa4454-2891-4f8c-d23a-4c53afd2ed15"
   },
   "outputs": [
    {
     "name": "stdout",
     "output_type": "stream",
     "text": [
      "RMSLE Train 0.12372225608191549\n",
      "RMSLE Test 0.1348380903600247\n"
     ]
    },
    {
     "data": {
      "image/png": "[encoded data removed]",
      "text/plain": [
       "<Figure size 864x360 with 2 Axes>"
      ]
     },
     "metadata": {
      "needs_background": "light"
     },
     "output_type": "display_data"
    }
   ],
   "source": [
    "results_metric(model)"
   ]
  },
  {
   "cell_type": "markdown",
   "metadata": {
    "id": "s-PRanmQLAGZ"
   },
   "source": [
    "Training with all data:"
   ]
  },
  {
   "cell_type": "code",
   "execution_count": 37,
   "metadata": {
    "ExecuteTime": {
     "end_time": "2021-09-02T00:13:35.161446Z",
     "start_time": "2021-09-01T23:57:41.177504Z"
    },
    "colab": {
     "base_uri": "https://localhost:8080/"
    },
    "id": "pEseClWmLCrA",
    "outputId": "93fe60d8-3f75-496c-e4bd-9e853bdef19a"
   },
   "outputs": [
    {
     "name": "stdout",
     "output_type": "stream",
     "text": [
      "Convergence after  23  iterations\n",
      "Wall time: 15min 53s\n"
     ]
    },
    {
     "data": {
      "text/plain": [
       "BayesianRidge(alpha_1=1e-06, alpha_2=1e-06, alpha_init=None,\n",
       "              compute_score=False, copy_X=True, fit_intercept=True,\n",
       "              lambda_1=1e-06, lambda_2=1e-06, lambda_init=None, n_iter=300,\n",
       "              normalize=False, tol=0.001, verbose=True)"
      ]
     },
     "execution_count": 37,
     "metadata": {},
     "output_type": "execute_result"
    }
   ],
   "source": [
    "%%time\n",
    "full_model = BayesianRidge(verbose=True)\n",
    "full_model.fit(X, y)"
   ]
  },
  {
   "cell_type": "markdown",
   "metadata": {
    "id": "NVgiYKhN5R5k"
   },
   "source": [
    "## Predictions"
   ]
  },
  {
   "cell_type": "markdown",
   "metadata": {
    "id": "LcYgxs_c54g2"
   },
   "source": [
    "Preprocessing Test dataset"
   ]
  },
  {
   "cell_type": "code",
   "execution_count": 38,
   "metadata": {
    "ExecuteTime": {
     "end_time": "2021-09-02T00:14:08.347554Z",
     "start_time": "2021-09-02T00:14:07.697530Z"
    },
    "id": "MLgLjyGu57su"
   },
   "outputs": [],
   "source": [
    "# Creating dummy variables from OneHotEncoder created previosly...\n",
    "dummy_test = dummy_language.transform(test[['Language']]).toarray()\n",
    "\n",
    "# Converting to Dataframe with named columns for dummy\n",
    "dummy_test = pd.DataFrame(dummy_test, columns=dummy_language.categories_[0])\n",
    "\n",
    "# Scaling Year\n",
    "test.Year = minMaxScaler.transform(test[['Year']])\n",
    "\n",
    "# Joining dummy columns to full test dataset\n",
    "test = test.join(dummy_test)"
   ]
  },
  {
   "cell_type": "markdown",
   "metadata": {
    "id": "ZNvBB6h58HHN"
   },
   "source": [
    "Saving Id column for submission csv file:"
   ]
  },
  {
   "cell_type": "code",
   "execution_count": 39,
   "metadata": {
    "ExecuteTime": {
     "end_time": "2021-09-02T00:14:08.364528Z",
     "start_time": "2021-09-02T00:14:08.353522Z"
    },
    "id": "RFEiRjav7Zhv"
   },
   "outputs": [],
   "source": [
    "id = test.id"
   ]
  },
  {
   "cell_type": "markdown",
   "metadata": {
    "id": "AQxgnIGXXJDo"
   },
   "source": [
    "Applying NLP"
   ]
  },
  {
   "cell_type": "code",
   "execution_count": 40,
   "metadata": {
    "ExecuteTime": {
     "end_time": "2021-09-02T00:16:54.716596Z",
     "start_time": "2021-09-02T00:16:54.296730Z"
    }
   },
   "outputs": [],
   "source": [
    "test['abstract_title'] = test.Abstract + ' ' + test.Title"
   ]
  },
  {
   "cell_type": "code",
   "execution_count": 41,
   "metadata": {
    "ExecuteTime": {
     "end_time": "2021-09-02T00:30:38.808637Z",
     "start_time": "2021-09-02T00:17:29.531386Z"
    },
    "colab": {
     "base_uri": "https://localhost:8080/",
     "height": 82,
     "referenced_widgets": [
      "d0491a4eb2a64ef4a3fe9fa487053581",
      "7cf66165eeba4d229403eef5f5baaa65",
      "f9cf8ffec1944a7a8bea12fcc8d6bd55",
      "958c48f07355458f8b53e853099ba692",
      "33cae762bfe4403896e34b0691147bc9",
      "82255f3cbd2943969696125444afa81d",
      "f616313565da4e5abe7c79ee3d708828",
      "8d14ffd6356f42e09d6b9d2719b42c37",
      "4cc4a52210a24a26afcf0f5d95f80644",
      "936a21ba978a42afbaf34587fd97909d",
      "01a103fc7a7444f28a5602e25b7d0407"
     ]
    },
    "id": "ni79EeJDXLBQ",
    "outputId": "917cbc18-8883-4b82-a01a-143f248aa27e"
   },
   "outputs": [
    {
     "data": {
      "application/vnd.jupyter.widget-view+json": {
       "model_id": "17cbdf02680942c7bfe830745d9c4967",
       "version_major": 2,
       "version_minor": 0
      },
      "text/plain": [
       "HBox(children=(FloatProgress(value=1.0, bar_style='info', max=1.0), HTML(value='')))"
      ]
     },
     "metadata": {},
     "output_type": "display_data"
    },
    {
     "name": "stdout",
     "output_type": "stream",
     "text": [
      "\n",
      "Wall time: 13min 9s\n"
     ]
    }
   ],
   "source": [
    "%%time\n",
    "result_tokenization_test = get_tokens(test[['abstract_title', 'Abstract', 'Language']])"
   ]
  },
  {
   "cell_type": "code",
   "execution_count": 42,
   "metadata": {
    "ExecuteTime": {
     "end_time": "2021-09-02T00:31:54.906730Z",
     "start_time": "2021-09-02T00:31:54.895727Z"
    }
   },
   "outputs": [],
   "source": [
    "test['Abstract_tokens'] = result_tokenization_test[0]\n",
    "test['pos_tokens'] = result_tokenization_test[1]"
   ]
  },
  {
   "cell_type": "code",
   "execution_count": 43,
   "metadata": {
    "ExecuteTime": {
     "end_time": "2021-09-02T00:32:00.289353Z",
     "start_time": "2021-09-02T00:31:56.903359Z"
    },
    "id": "0EjRyDw-YRyu"
   },
   "outputs": [],
   "source": [
    "vectorizer_values_test = vectorizer_model.transform(test['Abstract_tokens'])\n",
    "test_tfidf = test.join(pd.DataFrame(vectorizer_values_test.toarray(), \n",
    "                        columns=vectorizer_model.get_feature_names())\n",
    "        )"
   ]
  },
  {
   "cell_type": "code",
   "execution_count": 44,
   "metadata": {
    "ExecuteTime": {
     "end_time": "2021-09-02T00:32:03.237633Z",
     "start_time": "2021-09-02T00:32:01.049614Z"
    }
   },
   "outputs": [],
   "source": [
    "tfidf_POS_values_test = tfidf_POS_model.fit_transform(test['pos_tokens'])\n",
    "test_tfidf = test_tfidf.join(pd.DataFrame(tfidf_POS_values_test.toarray(), \n",
    "                        columns=list(map(lambda x:'_'+x, tfidf_POS_model.get_feature_names())))\n",
    "        )"
   ]
  },
  {
   "cell_type": "markdown",
   "metadata": {
    "id": "pQlkHn1L8RtB"
   },
   "source": [
    "Removing same columns as train dataset:"
   ]
  },
  {
   "cell_type": "code",
   "execution_count": 45,
   "metadata": {
    "ExecuteTime": {
     "end_time": "2021-09-02T00:32:06.877414Z",
     "start_time": "2021-09-02T00:32:04.942385Z"
    },
    "id": "t6f0Tsig7Ati"
   },
   "outputs": [],
   "source": [
    "test_tfidf.drop(COLS, axis=1, inplace=True)"
   ]
  },
  {
   "cell_type": "code",
   "execution_count": 46,
   "metadata": {
    "ExecuteTime": {
     "end_time": "2021-09-02T00:32:07.669312Z",
     "start_time": "2021-09-02T00:32:07.635322Z"
    },
    "colab": {
     "base_uri": "https://localhost:8080/",
     "height": 252
    },
    "id": "KVJPMb-6P9_Y",
    "outputId": "3a1d0eb4-d616-45bd-cc75-084a71425237"
   },
   "outputs": [
    {
     "data": {
      "text/html": [
       "<div>\n",
       "<style scoped>\n",
       "    .dataframe tbody tr th:only-of-type {\n",
       "        vertical-align: middle;\n",
       "    }\n",
       "\n",
       "    .dataframe tbody tr th {\n",
       "        vertical-align: top;\n",
       "    }\n",
       "\n",
       "    .dataframe thead th {\n",
       "        text-align: right;\n",
       "    }\n",
       "</style>\n",
       "<table border=\"1\" class=\"dataframe\">\n",
       "  <thead>\n",
       "    <tr style=\"text-align: right;\">\n",
       "      <th></th>\n",
       "      <th>Year</th>\n",
       "      <th>en</th>\n",
       "      <th>es</th>\n",
       "      <th>pt</th>\n",
       "      <th>aacut</th>\n",
       "      <th>abaix</th>\n",
       "      <th>abandon</th>\n",
       "      <th>abbrevi</th>\n",
       "      <th>abdoman</th>\n",
       "      <th>abdomen</th>\n",
       "      <th>...</th>\n",
       "      <th>_noun</th>\n",
       "      <th>_num</th>\n",
       "      <th>_part</th>\n",
       "      <th>_pron</th>\n",
       "      <th>_propn</th>\n",
       "      <th>_punct</th>\n",
       "      <th>_sconj</th>\n",
       "      <th>_space</th>\n",
       "      <th>_sym</th>\n",
       "      <th>_verb</th>\n",
       "    </tr>\n",
       "  </thead>\n",
       "  <tbody>\n",
       "    <tr>\n",
       "      <th>0</th>\n",
       "      <td>0.933333</td>\n",
       "      <td>1</td>\n",
       "      <td>0</td>\n",
       "      <td>0</td>\n",
       "      <td>0.0</td>\n",
       "      <td>0.0</td>\n",
       "      <td>0.0</td>\n",
       "      <td>0.0</td>\n",
       "      <td>0.0</td>\n",
       "      <td>0.0</td>\n",
       "      <td>...</td>\n",
       "      <td>0.343742</td>\n",
       "      <td>0.227546</td>\n",
       "      <td>0.091307</td>\n",
       "      <td>0.000000</td>\n",
       "      <td>0.127994</td>\n",
       "      <td>0.288743</td>\n",
       "      <td>0.000000</td>\n",
       "      <td>0.574347</td>\n",
       "      <td>0.0</td>\n",
       "      <td>0.252622</td>\n",
       "    </tr>\n",
       "    <tr>\n",
       "      <th>1</th>\n",
       "      <td>0.906667</td>\n",
       "      <td>1</td>\n",
       "      <td>0</td>\n",
       "      <td>0</td>\n",
       "      <td>0.0</td>\n",
       "      <td>0.0</td>\n",
       "      <td>0.0</td>\n",
       "      <td>0.0</td>\n",
       "      <td>0.0</td>\n",
       "      <td>0.0</td>\n",
       "      <td>...</td>\n",
       "      <td>0.402975</td>\n",
       "      <td>0.269479</td>\n",
       "      <td>0.263740</td>\n",
       "      <td>0.000000</td>\n",
       "      <td>0.218357</td>\n",
       "      <td>0.329610</td>\n",
       "      <td>0.000000</td>\n",
       "      <td>0.000000</td>\n",
       "      <td>0.0</td>\n",
       "      <td>0.300682</td>\n",
       "    </tr>\n",
       "    <tr>\n",
       "      <th>2</th>\n",
       "      <td>0.866667</td>\n",
       "      <td>1</td>\n",
       "      <td>0</td>\n",
       "      <td>0</td>\n",
       "      <td>0.0</td>\n",
       "      <td>0.0</td>\n",
       "      <td>0.0</td>\n",
       "      <td>0.0</td>\n",
       "      <td>0.0</td>\n",
       "      <td>0.0</td>\n",
       "      <td>...</td>\n",
       "      <td>0.420221</td>\n",
       "      <td>0.158610</td>\n",
       "      <td>0.098088</td>\n",
       "      <td>0.089628</td>\n",
       "      <td>0.250081</td>\n",
       "      <td>0.322854</td>\n",
       "      <td>0.099350</td>\n",
       "      <td>0.000000</td>\n",
       "      <td>0.0</td>\n",
       "      <td>0.304178</td>\n",
       "    </tr>\n",
       "    <tr>\n",
       "      <th>3</th>\n",
       "      <td>0.813333</td>\n",
       "      <td>0</td>\n",
       "      <td>1</td>\n",
       "      <td>0</td>\n",
       "      <td>0.0</td>\n",
       "      <td>0.0</td>\n",
       "      <td>0.0</td>\n",
       "      <td>0.0</td>\n",
       "      <td>0.0</td>\n",
       "      <td>0.0</td>\n",
       "      <td>...</td>\n",
       "      <td>0.367936</td>\n",
       "      <td>0.000000</td>\n",
       "      <td>0.000000</td>\n",
       "      <td>0.278081</td>\n",
       "      <td>0.458259</td>\n",
       "      <td>0.278288</td>\n",
       "      <td>0.110413</td>\n",
       "      <td>0.000000</td>\n",
       "      <td>0.0</td>\n",
       "      <td>0.301602</td>\n",
       "    </tr>\n",
       "    <tr>\n",
       "      <th>4</th>\n",
       "      <td>0.973333</td>\n",
       "      <td>1</td>\n",
       "      <td>0</td>\n",
       "      <td>0</td>\n",
       "      <td>0.0</td>\n",
       "      <td>0.0</td>\n",
       "      <td>0.0</td>\n",
       "      <td>0.0</td>\n",
       "      <td>0.0</td>\n",
       "      <td>0.0</td>\n",
       "      <td>...</td>\n",
       "      <td>0.408455</td>\n",
       "      <td>0.242442</td>\n",
       "      <td>0.190829</td>\n",
       "      <td>0.216813</td>\n",
       "      <td>0.075284</td>\n",
       "      <td>0.320189</td>\n",
       "      <td>0.193284</td>\n",
       "      <td>0.000000</td>\n",
       "      <td>0.0</td>\n",
       "      <td>0.317323</td>\n",
       "    </tr>\n",
       "  </tbody>\n",
       "</table>\n",
       "<p>5 rows × 8977 columns</p>\n",
       "</div>"
      ],
      "text/plain": [
       "       Year  en  es  pt  aacut  abaix  abandon  abbrevi  abdoman  abdomen  \\\n",
       "0  0.933333   1   0   0    0.0    0.0      0.0      0.0      0.0      0.0   \n",
       "1  0.906667   1   0   0    0.0    0.0      0.0      0.0      0.0      0.0   \n",
       "2  0.866667   1   0   0    0.0    0.0      0.0      0.0      0.0      0.0   \n",
       "3  0.813333   0   1   0    0.0    0.0      0.0      0.0      0.0      0.0   \n",
       "4  0.973333   1   0   0    0.0    0.0      0.0      0.0      0.0      0.0   \n",
       "\n",
       "   ...     _noun      _num     _part     _pron    _propn    _punct    _sconj  \\\n",
       "0  ...  0.343742  0.227546  0.091307  0.000000  0.127994  0.288743  0.000000   \n",
       "1  ...  0.402975  0.269479  0.263740  0.000000  0.218357  0.329610  0.000000   \n",
       "2  ...  0.420221  0.158610  0.098088  0.089628  0.250081  0.322854  0.099350   \n",
       "3  ...  0.367936  0.000000  0.000000  0.278081  0.458259  0.278288  0.110413   \n",
       "4  ...  0.408455  0.242442  0.190829  0.216813  0.075284  0.320189  0.193284   \n",
       "\n",
       "     _space  _sym     _verb  \n",
       "0  0.574347   0.0  0.252622  \n",
       "1  0.000000   0.0  0.300682  \n",
       "2  0.000000   0.0  0.304178  \n",
       "3  0.000000   0.0  0.301602  \n",
       "4  0.000000   0.0  0.317323  \n",
       "\n",
       "[5 rows x 8977 columns]"
      ]
     },
     "execution_count": 46,
     "metadata": {},
     "output_type": "execute_result"
    }
   ],
   "source": [
    "test_tfidf.head()"
   ]
  },
  {
   "cell_type": "code",
   "execution_count": 47,
   "metadata": {
    "ExecuteTime": {
     "end_time": "2021-09-02T00:33:23.404046Z",
     "start_time": "2021-09-02T00:33:23.400081Z"
    }
   },
   "outputs": [],
   "source": [
    "assert test_tfidf.shape[1] == train_tfidf.shape[1]-1, 'Number of input columns must be equal'"
   ]
  },
  {
   "cell_type": "code",
   "execution_count": 48,
   "metadata": {
    "ExecuteTime": {
     "end_time": "2021-09-02T00:33:27.614011Z",
     "start_time": "2021-09-02T00:33:26.847038Z"
    },
    "colab": {
     "base_uri": "https://localhost:8080/",
     "height": 203
    },
    "id": "OKtUN2785U7p",
    "outputId": "c8ece078-483f-42e3-d79a-62a234782c11"
   },
   "outputs": [
    {
     "data": {
      "text/html": [
       "<div>\n",
       "<style scoped>\n",
       "    .dataframe tbody tr th:only-of-type {\n",
       "        vertical-align: middle;\n",
       "    }\n",
       "\n",
       "    .dataframe tbody tr th {\n",
       "        vertical-align: top;\n",
       "    }\n",
       "\n",
       "    .dataframe thead th {\n",
       "        text-align: right;\n",
       "    }\n",
       "</style>\n",
       "<table border=\"1\" class=\"dataframe\">\n",
       "  <thead>\n",
       "    <tr style=\"text-align: right;\">\n",
       "      <th></th>\n",
       "      <th>id</th>\n",
       "      <th>total_rel_score</th>\n",
       "    </tr>\n",
       "  </thead>\n",
       "  <tbody>\n",
       "    <tr>\n",
       "      <th>0</th>\n",
       "      <td>1</td>\n",
       "      <td>0.604005</td>\n",
       "    </tr>\n",
       "    <tr>\n",
       "      <th>1</th>\n",
       "      <td>2</td>\n",
       "      <td>0.579858</td>\n",
       "    </tr>\n",
       "    <tr>\n",
       "      <th>2</th>\n",
       "      <td>3</td>\n",
       "      <td>0.624943</td>\n",
       "    </tr>\n",
       "    <tr>\n",
       "      <th>3</th>\n",
       "      <td>4</td>\n",
       "      <td>0.545077</td>\n",
       "    </tr>\n",
       "    <tr>\n",
       "      <th>4</th>\n",
       "      <td>5</td>\n",
       "      <td>0.576362</td>\n",
       "    </tr>\n",
       "  </tbody>\n",
       "</table>\n",
       "</div>"
      ],
      "text/plain": [
       "   id  total_rel_score\n",
       "0   1         0.604005\n",
       "1   2         0.579858\n",
       "2   3         0.624943\n",
       "3   4         0.545077\n",
       "4   5         0.576362"
      ]
     },
     "execution_count": 48,
     "metadata": {},
     "output_type": "execute_result"
    }
   ],
   "source": [
    "y_pred = full_model.predict(test_tfidf)\n",
    "predictions = pd.DataFrame({'id':id, 'total_rel_score':y_pred})\n",
    "predictions.head()"
   ]
  },
  {
   "cell_type": "code",
   "execution_count": 49,
   "metadata": {
    "ExecuteTime": {
     "end_time": "2021-09-02T00:33:46.021108Z",
     "start_time": "2021-09-02T00:33:45.961090Z"
    },
    "id": "--rBtEMF5zbC"
   },
   "outputs": [],
   "source": [
    "predictions.to_csv('SampleSubmission.csv', index=False)"
   ]
  }
 ],
 "metadata": {
  "colab": {
   "collapsed_sections": [
    "Ij5GCS9ro4ug",
    "3pTSu2fW_XRq",
    "3JnaTddV1unm",
    "x_uFGSdOo5d-",
    "NVgiYKhN5R5k"
   ],
   "name": "recencia.ipynb",
   "provenance": [],
   "toc_visible": true
  },
  "kernelspec": {
   "display_name": "Python 3",
   "language": "python",
   "name": "python3"
  },
  "language_info": {
   "codemirror_mode": {
    "name": "ipython",
    "version": 3
   },
   "file_extension": ".py",
   "mimetype": "text/x-python",
   "name": "python",
   "nbconvert_exporter": "python",
   "pygments_lexer": "ipython3",
   "version": "3.7.6"
  },
  "toc": {
   "base_numbering": 1,
   "nav_menu": {},
   "number_sections": true,
   "sideBar": true,
   "skip_h1_title": false,
   "title_cell": "Table of Contents",
   "title_sidebar": "Contents",
   "toc_cell": false,
   "toc_position": {
    "height": "calc(100% - 180px)",
    "left": "10px",
    "top": "150px",
    "width": "303.825px"
   },
   "toc_section_display": true,
   "toc_window_display": true
  },
  "widgets": {
   "application/vnd.jupyter.widget-state+json": {
    "01a103fc7a7444f28a5602e25b7d0407": {
     "model_module": "@jupyter-widgets/base",
     "model_module_version": "1.2.0",
     "model_name": "LayoutModel",
     "state": {
      "_model_module": "@jupyter-widgets/base",
      "_model_module_version": "1.2.0",
      "_model_name": "LayoutModel",
      "_view_count": null,
      "_view_module": "@jupyter-widgets/base",
      "_view_module_version": "1.2.0",
      "_view_name": "LayoutView",
      "align_content": null,
      "align_items": null,
      "align_self": null,
      "border": null,
      "bottom": null,
      "display": null,
      "flex": null,
      "flex_flow": null,
      "grid_area": null,
      "grid_auto_columns": null,
      "grid_auto_flow": null,
      "grid_auto_rows": null,
      "grid_column": null,
      "grid_gap": null,
      "grid_row": null,
      "grid_template_areas": null,
      "grid_template_columns": null,
      "grid_template_rows": null,
      "height": null,
      "justify_content": null,
      "justify_items": null,
      "left": null,
      "margin": null,
      "max_height": null,
      "max_width": null,
      "min_height": null,
      "min_width": null,
      "object_fit": null,
      "object_position": null,
      "order": null,
      "overflow": null,
      "overflow_x": null,
      "overflow_y": null,
      "padding": null,
      "right": null,
      "top": null,
      "visibility": null,
      "width": null
     }
    },
    "02c36a4bd40340388ed56b4e81619151": {
     "model_module": "@jupyter-widgets/controls",
     "model_module_version": "1.5.0",
     "model_name": "HBoxModel",
     "state": {
      "_dom_classes": [],
      "_model_module": "@jupyter-widgets/controls",
      "_model_module_version": "1.5.0",
      "_model_name": "HBoxModel",
      "_view_count": null,
      "_view_module": "@jupyter-widgets/controls",
      "_view_module_version": "1.5.0",
      "_view_name": "HBoxView",
      "box_style": "",
      "children": [
       "IPY_MODEL_f5a9f020f3d14e5187490c919ad9037b",
       "IPY_MODEL_444570b1e443412c8351d4b2a6910227",
       "IPY_MODEL_951c036ede3542ea938dc801d6be5509"
      ],
      "layout": "IPY_MODEL_833feffdd0c44bc6bbf4b573c880e358"
     }
    },
    "33cae762bfe4403896e34b0691147bc9": {
     "model_module": "@jupyter-widgets/controls",
     "model_module_version": "1.5.0",
     "model_name": "HTMLModel",
     "state": {
      "_dom_classes": [],
      "_model_module": "@jupyter-widgets/controls",
      "_model_module_version": "1.5.0",
      "_model_name": "HTMLModel",
      "_view_count": null,
      "_view_module": "@jupyter-widgets/controls",
      "_view_module_version": "1.5.0",
      "_view_name": "HTMLView",
      "description": "",
      "description_tooltip": null,
      "layout": "IPY_MODEL_01a103fc7a7444f28a5602e25b7d0407",
      "placeholder": "​",
      "style": "IPY_MODEL_936a21ba978a42afbaf34587fd97909d",
      "value": " 10728/? [08:01&lt;00:00, 24.56it/s]"
     }
    },
    "444570b1e443412c8351d4b2a6910227": {
     "model_module": "@jupyter-widgets/controls",
     "model_module_version": "1.5.0",
     "model_name": "FloatProgressModel",
     "state": {
      "_dom_classes": [],
      "_model_module": "@jupyter-widgets/controls",
      "_model_module_version": "1.5.0",
      "_model_name": "FloatProgressModel",
      "_view_count": null,
      "_view_module": "@jupyter-widgets/controls",
      "_view_module_version": "1.5.0",
      "_view_name": "ProgressView",
      "bar_style": "success",
      "description": "",
      "description_tooltip": null,
      "layout": "IPY_MODEL_87de22250c4e470a8b99e29d3f826999",
      "max": 1,
      "min": 0,
      "orientation": "horizontal",
      "style": "IPY_MODEL_d8f18d441d434fb59c3e8f4ca50aaf04",
      "value": 1
     }
    },
    "4cc4a52210a24a26afcf0f5d95f80644": {
     "model_module": "@jupyter-widgets/base",
     "model_module_version": "1.2.0",
     "model_name": "LayoutModel",
     "state": {
      "_model_module": "@jupyter-widgets/base",
      "_model_module_version": "1.2.0",
      "_model_name": "LayoutModel",
      "_view_count": null,
      "_view_module": "@jupyter-widgets/base",
      "_view_module_version": "1.2.0",
      "_view_name": "LayoutView",
      "align_content": null,
      "align_items": null,
      "align_self": null,
      "border": null,
      "bottom": null,
      "display": null,
      "flex": null,
      "flex_flow": null,
      "grid_area": null,
      "grid_auto_columns": null,
      "grid_auto_flow": null,
      "grid_auto_rows": null,
      "grid_column": null,
      "grid_gap": null,
      "grid_row": null,
      "grid_template_areas": null,
      "grid_template_columns": null,
      "grid_template_rows": null,
      "height": null,
      "justify_content": null,
      "justify_items": null,
      "left": null,
      "margin": null,
      "max_height": null,
      "max_width": null,
      "min_height": null,
      "min_width": null,
      "object_fit": null,
      "object_position": null,
      "order": null,
      "overflow": null,
      "overflow_x": null,
      "overflow_y": null,
      "padding": null,
      "right": null,
      "top": null,
      "visibility": null,
      "width": "20px"
     }
    },
    "6989dc6b78084603a62c45973130dbe9": {
     "model_module": "@jupyter-widgets/controls",
     "model_module_version": "1.5.0",
     "model_name": "DescriptionStyleModel",
     "state": {
      "_model_module": "@jupyter-widgets/controls",
      "_model_module_version": "1.5.0",
      "_model_name": "DescriptionStyleModel",
      "_view_count": null,
      "_view_module": "@jupyter-widgets/base",
      "_view_module_version": "1.2.0",
      "_view_name": "StyleView",
      "description_width": ""
     }
    },
    "7a3851785ea6453ba704023af25cb3fd": {
     "model_module": "@jupyter-widgets/base",
     "model_module_version": "1.2.0",
     "model_name": "LayoutModel",
     "state": {
      "_model_module": "@jupyter-widgets/base",
      "_model_module_version": "1.2.0",
      "_model_name": "LayoutModel",
      "_view_count": null,
      "_view_module": "@jupyter-widgets/base",
      "_view_module_version": "1.2.0",
      "_view_name": "LayoutView",
      "align_content": null,
      "align_items": null,
      "align_self": null,
      "border": null,
      "bottom": null,
      "display": null,
      "flex": null,
      "flex_flow": null,
      "grid_area": null,
      "grid_auto_columns": null,
      "grid_auto_flow": null,
      "grid_auto_rows": null,
      "grid_column": null,
      "grid_gap": null,
      "grid_row": null,
      "grid_template_areas": null,
      "grid_template_columns": null,
      "grid_template_rows": null,
      "height": null,
      "justify_content": null,
      "justify_items": null,
      "left": null,
      "margin": null,
      "max_height": null,
      "max_width": null,
      "min_height": null,
      "min_width": null,
      "object_fit": null,
      "object_position": null,
      "order": null,
      "overflow": null,
      "overflow_x": null,
      "overflow_y": null,
      "padding": null,
      "right": null,
      "top": null,
      "visibility": null,
      "width": null
     }
    },
    "7cf66165eeba4d229403eef5f5baaa65": {
     "model_module": "@jupyter-widgets/base",
     "model_module_version": "1.2.0",
     "model_name": "LayoutModel",
     "state": {
      "_model_module": "@jupyter-widgets/base",
      "_model_module_version": "1.2.0",
      "_model_name": "LayoutModel",
      "_view_count": null,
      "_view_module": "@jupyter-widgets/base",
      "_view_module_version": "1.2.0",
      "_view_name": "LayoutView",
      "align_content": null,
      "align_items": null,
      "align_self": null,
      "border": null,
      "bottom": null,
      "display": null,
      "flex": null,
      "flex_flow": null,
      "grid_area": null,
      "grid_auto_columns": null,
      "grid_auto_flow": null,
      "grid_auto_rows": null,
      "grid_column": null,
      "grid_gap": null,
      "grid_row": null,
      "grid_template_areas": null,
      "grid_template_columns": null,
      "grid_template_rows": null,
      "height": null,
      "justify_content": null,
      "justify_items": null,
      "left": null,
      "margin": null,
      "max_height": null,
      "max_width": null,
      "min_height": null,
      "min_width": null,
      "object_fit": null,
      "object_position": null,
      "order": null,
      "overflow": null,
      "overflow_x": null,
      "overflow_y": null,
      "padding": null,
      "right": null,
      "top": null,
      "visibility": null,
      "width": null
     }
    },
    "7edbfbbb249c4dda82e75b7478db7461": {
     "model_module": "@jupyter-widgets/base",
     "model_module_version": "1.2.0",
     "model_name": "LayoutModel",
     "state": {
      "_model_module": "@jupyter-widgets/base",
      "_model_module_version": "1.2.0",
      "_model_name": "LayoutModel",
      "_view_count": null,
      "_view_module": "@jupyter-widgets/base",
      "_view_module_version": "1.2.0",
      "_view_name": "LayoutView",
      "align_content": null,
      "align_items": null,
      "align_self": null,
      "border": null,
      "bottom": null,
      "display": null,
      "flex": null,
      "flex_flow": null,
      "grid_area": null,
      "grid_auto_columns": null,
      "grid_auto_flow": null,
      "grid_auto_rows": null,
      "grid_column": null,
      "grid_gap": null,
      "grid_row": null,
      "grid_template_areas": null,
      "grid_template_columns": null,
      "grid_template_rows": null,
      "height": null,
      "justify_content": null,
      "justify_items": null,
      "left": null,
      "margin": null,
      "max_height": null,
      "max_width": null,
      "min_height": null,
      "min_width": null,
      "object_fit": null,
      "object_position": null,
      "order": null,
      "overflow": null,
      "overflow_x": null,
      "overflow_y": null,
      "padding": null,
      "right": null,
      "top": null,
      "visibility": null,
      "width": null
     }
    },
    "82255f3cbd2943969696125444afa81d": {
     "model_module": "@jupyter-widgets/controls",
     "model_module_version": "1.5.0",
     "model_name": "DescriptionStyleModel",
     "state": {
      "_model_module": "@jupyter-widgets/controls",
      "_model_module_version": "1.5.0",
      "_model_name": "DescriptionStyleModel",
      "_view_count": null,
      "_view_module": "@jupyter-widgets/base",
      "_view_module_version": "1.2.0",
      "_view_name": "StyleView",
      "description_width": ""
     }
    },
    "833feffdd0c44bc6bbf4b573c880e358": {
     "model_module": "@jupyter-widgets/base",
     "model_module_version": "1.2.0",
     "model_name": "LayoutModel",
     "state": {
      "_model_module": "@jupyter-widgets/base",
      "_model_module_version": "1.2.0",
      "_model_name": "LayoutModel",
      "_view_count": null,
      "_view_module": "@jupyter-widgets/base",
      "_view_module_version": "1.2.0",
      "_view_name": "LayoutView",
      "align_content": null,
      "align_items": null,
      "align_self": null,
      "border": null,
      "bottom": null,
      "display": null,
      "flex": null,
      "flex_flow": null,
      "grid_area": null,
      "grid_auto_columns": null,
      "grid_auto_flow": null,
      "grid_auto_rows": null,
      "grid_column": null,
      "grid_gap": null,
      "grid_row": null,
      "grid_template_areas": null,
      "grid_template_columns": null,
      "grid_template_rows": null,
      "height": null,
      "justify_content": null,
      "justify_items": null,
      "left": null,
      "margin": null,
      "max_height": null,
      "max_width": null,
      "min_height": null,
      "min_width": null,
      "object_fit": null,
      "object_position": null,
      "order": null,
      "overflow": null,
      "overflow_x": null,
      "overflow_y": null,
      "padding": null,
      "right": null,
      "top": null,
      "visibility": null,
      "width": null
     }
    },
    "87de22250c4e470a8b99e29d3f826999": {
     "model_module": "@jupyter-widgets/base",
     "model_module_version": "1.2.0",
     "model_name": "LayoutModel",
     "state": {
      "_model_module": "@jupyter-widgets/base",
      "_model_module_version": "1.2.0",
      "_model_name": "LayoutModel",
      "_view_count": null,
      "_view_module": "@jupyter-widgets/base",
      "_view_module_version": "1.2.0",
      "_view_name": "LayoutView",
      "align_content": null,
      "align_items": null,
      "align_self": null,
      "border": null,
      "bottom": null,
      "display": null,
      "flex": null,
      "flex_flow": null,
      "grid_area": null,
      "grid_auto_columns": null,
      "grid_auto_flow": null,
      "grid_auto_rows": null,
      "grid_column": null,
      "grid_gap": null,
      "grid_row": null,
      "grid_template_areas": null,
      "grid_template_columns": null,
      "grid_template_rows": null,
      "height": null,
      "justify_content": null,
      "justify_items": null,
      "left": null,
      "margin": null,
      "max_height": null,
      "max_width": null,
      "min_height": null,
      "min_width": null,
      "object_fit": null,
      "object_position": null,
      "order": null,
      "overflow": null,
      "overflow_x": null,
      "overflow_y": null,
      "padding": null,
      "right": null,
      "top": null,
      "visibility": null,
      "width": "20px"
     }
    },
    "8d14ffd6356f42e09d6b9d2719b42c37": {
     "model_module": "@jupyter-widgets/controls",
     "model_module_version": "1.5.0",
     "model_name": "ProgressStyleModel",
     "state": {
      "_model_module": "@jupyter-widgets/controls",
      "_model_module_version": "1.5.0",
      "_model_name": "ProgressStyleModel",
      "_view_count": null,
      "_view_module": "@jupyter-widgets/base",
      "_view_module_version": "1.2.0",
      "_view_name": "StyleView",
      "bar_color": null,
      "description_width": ""
     }
    },
    "936a21ba978a42afbaf34587fd97909d": {
     "model_module": "@jupyter-widgets/controls",
     "model_module_version": "1.5.0",
     "model_name": "DescriptionStyleModel",
     "state": {
      "_model_module": "@jupyter-widgets/controls",
      "_model_module_version": "1.5.0",
      "_model_name": "DescriptionStyleModel",
      "_view_count": null,
      "_view_module": "@jupyter-widgets/base",
      "_view_module_version": "1.2.0",
      "_view_name": "StyleView",
      "description_width": ""
     }
    },
    "951c036ede3542ea938dc801d6be5509": {
     "model_module": "@jupyter-widgets/controls",
     "model_module_version": "1.5.0",
     "model_name": "HTMLModel",
     "state": {
      "_dom_classes": [],
      "_model_module": "@jupyter-widgets/controls",
      "_model_module_version": "1.5.0",
      "_model_name": "HTMLModel",
      "_view_count": null,
      "_view_module": "@jupyter-widgets/controls",
      "_view_module_version": "1.5.0",
      "_view_name": "HTMLView",
      "description": "",
      "description_tooltip": null,
      "layout": "IPY_MODEL_7edbfbbb249c4dda82e75b7478db7461",
      "placeholder": "​",
      "style": "IPY_MODEL_962ac367ef4e464eba694392782f82cd",
      "value": " 21456/? [16:22&lt;00:00, 23.50it/s]"
     }
    },
    "958c48f07355458f8b53e853099ba692": {
     "model_module": "@jupyter-widgets/controls",
     "model_module_version": "1.5.0",
     "model_name": "FloatProgressModel",
     "state": {
      "_dom_classes": [],
      "_model_module": "@jupyter-widgets/controls",
      "_model_module_version": "1.5.0",
      "_model_name": "FloatProgressModel",
      "_view_count": null,
      "_view_module": "@jupyter-widgets/controls",
      "_view_module_version": "1.5.0",
      "_view_name": "ProgressView",
      "bar_style": "success",
      "description": "",
      "description_tooltip": null,
      "layout": "IPY_MODEL_4cc4a52210a24a26afcf0f5d95f80644",
      "max": 1,
      "min": 0,
      "orientation": "horizontal",
      "style": "IPY_MODEL_8d14ffd6356f42e09d6b9d2719b42c37",
      "value": 1
     }
    },
    "962ac367ef4e464eba694392782f82cd": {
     "model_module": "@jupyter-widgets/controls",
     "model_module_version": "1.5.0",
     "model_name": "DescriptionStyleModel",
     "state": {
      "_model_module": "@jupyter-widgets/controls",
      "_model_module_version": "1.5.0",
      "_model_name": "DescriptionStyleModel",
      "_view_count": null,
      "_view_module": "@jupyter-widgets/base",
      "_view_module_version": "1.2.0",
      "_view_name": "StyleView",
      "description_width": ""
     }
    },
    "d0491a4eb2a64ef4a3fe9fa487053581": {
     "model_module": "@jupyter-widgets/controls",
     "model_module_version": "1.5.0",
     "model_name": "HBoxModel",
     "state": {
      "_dom_classes": [],
      "_model_module": "@jupyter-widgets/controls",
      "_model_module_version": "1.5.0",
      "_model_name": "HBoxModel",
      "_view_count": null,
      "_view_module": "@jupyter-widgets/controls",
      "_view_module_version": "1.5.0",
      "_view_name": "HBoxView",
      "box_style": "",
      "children": [
       "IPY_MODEL_f9cf8ffec1944a7a8bea12fcc8d6bd55",
       "IPY_MODEL_958c48f07355458f8b53e853099ba692",
       "IPY_MODEL_33cae762bfe4403896e34b0691147bc9"
      ],
      "layout": "IPY_MODEL_7cf66165eeba4d229403eef5f5baaa65"
     }
    },
    "d8f18d441d434fb59c3e8f4ca50aaf04": {
     "model_module": "@jupyter-widgets/controls",
     "model_module_version": "1.5.0",
     "model_name": "ProgressStyleModel",
     "state": {
      "_model_module": "@jupyter-widgets/controls",
      "_model_module_version": "1.5.0",
      "_model_name": "ProgressStyleModel",
      "_view_count": null,
      "_view_module": "@jupyter-widgets/base",
      "_view_module_version": "1.2.0",
      "_view_name": "StyleView",
      "bar_color": null,
      "description_width": ""
     }
    },
    "f5a9f020f3d14e5187490c919ad9037b": {
     "model_module": "@jupyter-widgets/controls",
     "model_module_version": "1.5.0",
     "model_name": "HTMLModel",
     "state": {
      "_dom_classes": [],
      "_model_module": "@jupyter-widgets/controls",
      "_model_module_version": "1.5.0",
      "_model_name": "HTMLModel",
      "_view_count": null,
      "_view_module": "@jupyter-widgets/controls",
      "_view_module_version": "1.5.0",
      "_view_name": "HTMLView",
      "description": "",
      "description_tooltip": null,
      "layout": "IPY_MODEL_7a3851785ea6453ba704023af25cb3fd",
      "placeholder": "​",
      "style": "IPY_MODEL_6989dc6b78084603a62c45973130dbe9",
      "value": ""
     }
    },
    "f616313565da4e5abe7c79ee3d708828": {
     "model_module": "@jupyter-widgets/base",
     "model_module_version": "1.2.0",
     "model_name": "LayoutModel",
     "state": {
      "_model_module": "@jupyter-widgets/base",
      "_model_module_version": "1.2.0",
      "_model_name": "LayoutModel",
      "_view_count": null,
      "_view_module": "@jupyter-widgets/base",
      "_view_module_version": "1.2.0",
      "_view_name": "LayoutView",
      "align_content": null,
      "align_items": null,
      "align_self": null,
      "border": null,
      "bottom": null,
      "display": null,
      "flex": null,
      "flex_flow": null,
      "grid_area": null,
      "grid_auto_columns": null,
      "grid_auto_flow": null,
      "grid_auto_rows": null,
      "grid_column": null,
      "grid_gap": null,
      "grid_row": null,
      "grid_template_areas": null,
      "grid_template_columns": null,
      "grid_template_rows": null,
      "height": null,
      "justify_content": null,
      "justify_items": null,
      "left": null,
      "margin": null,
      "max_height": null,
      "max_width": null,
      "min_height": null,
      "min_width": null,
      "object_fit": null,
      "object_position": null,
      "order": null,
      "overflow": null,
      "overflow_x": null,
      "overflow_y": null,
      "padding": null,
      "right": null,
      "top": null,
      "visibility": null,
      "width": null
     }
    },
    "f9cf8ffec1944a7a8bea12fcc8d6bd55": {
     "model_module": "@jupyter-widgets/controls",
     "model_module_version": "1.5.0",
     "model_name": "HTMLModel",
     "state": {
      "_dom_classes": [],
      "_model_module": "@jupyter-widgets/controls",
      "_model_module_version": "1.5.0",
      "_model_name": "HTMLModel",
      "_view_count": null,
      "_view_module": "@jupyter-widgets/controls",
      "_view_module_version": "1.5.0",
      "_view_name": "HTMLView",
      "description": "",
      "description_tooltip": null,
      "layout": "IPY_MODEL_f616313565da4e5abe7c79ee3d708828",
      "placeholder": "​",
      "style": "IPY_MODEL_82255f3cbd2943969696125444afa81d",
      "value": ""
     }
    }
   }
  }
 },
 "nbformat": 4,
 "nbformat_minor": 1
}
