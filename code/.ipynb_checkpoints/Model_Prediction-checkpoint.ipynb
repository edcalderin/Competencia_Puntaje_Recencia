{
 "cells": [
  {
   "cell_type": "markdown",
   "metadata": {
    "id": "3645nYHP5Vrx"
   },
   "source": [
    "# Keyword Recency Score Competition - Model Prediction\n",
    "*Notebook created by Erick Calderin*\n",
    "\n",
    "**Web site:** https://www.datasource.ai/es/home/data-science-competitions-for-startups/predecir-el-puntaje-de-recencia-en-papers-de-investigacion"
   ]
  },
  {
   "cell_type": "markdown",
   "metadata": {
    "id": "k4FyA6GkWWOK"
   },
   "source": [
    "## Modules"
   ]
  },
  {
   "cell_type": "code",
   "execution_count": 15,
   "metadata": {
    "ExecuteTime": {
     "end_time": "2021-09-08T06:34:18.020412Z",
     "start_time": "2021-09-08T06:34:18.015412Z"
    },
    "colab": {
     "base_uri": "https://localhost:8080/"
    },
    "id": "oT_E3HTtWZwT",
    "outputId": "1ef38774-086d-4e4b-96ea-76ff48bf5cc9"
   },
   "outputs": [],
   "source": [
    "# Utilities\n",
    "\n",
    "import pandas as pd\n",
    "import numpy as np\n",
    "import matplotlib.pyplot as plt\n",
    "import seaborn as sns\n",
    "from tqdm.notebook import tqdm"
   ]
  },
  {
   "cell_type": "code",
   "execution_count": 16,
   "metadata": {
    "ExecuteTime": {
     "end_time": "2021-09-08T06:34:26.066300Z",
     "start_time": "2021-09-08T06:34:26.062290Z"
    },
    "id": "QDbHTrTDWirE"
   },
   "outputs": [],
   "source": [
    "# For ML\n",
    "\n",
    "from sklearn.metrics import mean_squared_log_error\n",
    "from sklearn.linear_model import BayesianRidge\n",
    "from sklearn.model_selection import train_test_split\n",
    "from sklearn.preprocessing import OneHotEncoder, MinMaxScaler\n",
    "import pickle"
   ]
  },
  {
   "cell_type": "code",
   "execution_count": 17,
   "metadata": {
    "ExecuteTime": {
     "end_time": "2021-09-08T06:34:27.305477Z",
     "start_time": "2021-09-08T06:34:27.302503Z"
    },
    "id": "c3KaKw1UUsY8"
   },
   "outputs": [],
   "source": [
    "# For NLP\n",
    "\n",
    "import spacy\n",
    "import re\n",
    "from nltk.stem import SnowballStemmer\n",
    "from sklearn.feature_extraction.text import TfidfVectorizer"
   ]
  },
  {
   "cell_type": "markdown",
   "metadata": {
    "id": "qdkuI_m-8zZq"
   },
   "source": [
    "## Importing data\n",
    "\n",
    "Getting training datasets"
   ]
  },
  {
   "cell_type": "code",
   "execution_count": 18,
   "metadata": {
    "ExecuteTime": {
     "end_time": "2021-09-08T06:34:28.854441Z",
     "start_time": "2021-09-08T06:34:28.462354Z"
    },
    "id": "NtGSww8n8tnP"
   },
   "outputs": [],
   "source": [
    "train = pd.read_csv('../data/Train.csv')"
   ]
  },
  {
   "cell_type": "code",
   "execution_count": 19,
   "metadata": {
    "ExecuteTime": {
     "end_time": "2021-09-08T06:34:28.871352Z",
     "start_time": "2021-09-08T06:34:28.856403Z"
    },
    "colab": {
     "base_uri": "https://localhost:8080/",
     "height": 203
    },
    "id": "0tvqpPz1Yr2a",
    "outputId": "97bc249f-0a6d-45a5-a1ab-e79f2bdcd9bd"
   },
   "outputs": [
    {
     "data": {
      "text/html": [
       "<div>\n",
       "<style scoped>\n",
       "    .dataframe tbody tr th:only-of-type {\n",
       "        vertical-align: middle;\n",
       "    }\n",
       "\n",
       "    .dataframe tbody tr th {\n",
       "        vertical-align: top;\n",
       "    }\n",
       "\n",
       "    .dataframe thead th {\n",
       "        text-align: right;\n",
       "    }\n",
       "</style>\n",
       "<table border=\"1\" class=\"dataframe\">\n",
       "  <thead>\n",
       "    <tr style=\"text-align: right;\">\n",
       "      <th></th>\n",
       "      <th>id</th>\n",
       "      <th>Language</th>\n",
       "      <th>Year</th>\n",
       "      <th>Abstract</th>\n",
       "      <th>Title</th>\n",
       "      <th>total_rel_score</th>\n",
       "    </tr>\n",
       "  </thead>\n",
       "  <tbody>\n",
       "    <tr>\n",
       "      <th>0</th>\n",
       "      <td>1</td>\n",
       "      <td>en</td>\n",
       "      <td>2016</td>\n",
       "      <td>The present study investigates an inventory mo...</td>\n",
       "      <td>Replenishment policy for non-instantaneous det...</td>\n",
       "      <td>0.630682</td>\n",
       "    </tr>\n",
       "    <tr>\n",
       "      <th>1</th>\n",
       "      <td>2</td>\n",
       "      <td>en</td>\n",
       "      <td>2019</td>\n",
       "      <td>AIM: To investigate the clinical characteristi...</td>\n",
       "      <td>Analysis of soldiers' orbital wall fracture su...</td>\n",
       "      <td>0.583333</td>\n",
       "    </tr>\n",
       "    <tr>\n",
       "      <th>2</th>\n",
       "      <td>3</td>\n",
       "      <td>en</td>\n",
       "      <td>2019</td>\n",
       "      <td>Aflatoxin M1 (AFM1) and ochratoxin A (OTA), wh...</td>\n",
       "      <td>Modulation of Mucin (MUC2, MUC5AC and MUC5B) m...</td>\n",
       "      <td>0.372222</td>\n",
       "    </tr>\n",
       "    <tr>\n",
       "      <th>3</th>\n",
       "      <td>4</td>\n",
       "      <td>en</td>\n",
       "      <td>2017</td>\n",
       "      <td>Background/Aim: There are still unrevealed tre...</td>\n",
       "      <td>Traditional dentistry knowledge among Serbs in...</td>\n",
       "      <td>0.661765</td>\n",
       "    </tr>\n",
       "    <tr>\n",
       "      <th>4</th>\n",
       "      <td>5</td>\n",
       "      <td>en</td>\n",
       "      <td>2015</td>\n",
       "      <td>Impairment in empathy has been demonstrated in...</td>\n",
       "      <td>Dimensional schizotypy and social cognition: A...</td>\n",
       "      <td>0.373737</td>\n",
       "    </tr>\n",
       "  </tbody>\n",
       "</table>\n",
       "</div>"
      ],
      "text/plain": [
       "   id Language  Year                                           Abstract  \\\n",
       "0   1       en  2016  The present study investigates an inventory mo...   \n",
       "1   2       en  2019  AIM: To investigate the clinical characteristi...   \n",
       "2   3       en  2019  Aflatoxin M1 (AFM1) and ochratoxin A (OTA), wh...   \n",
       "3   4       en  2017  Background/Aim: There are still unrevealed tre...   \n",
       "4   5       en  2015  Impairment in empathy has been demonstrated in...   \n",
       "\n",
       "                                               Title  total_rel_score  \n",
       "0  Replenishment policy for non-instantaneous det...         0.630682  \n",
       "1  Analysis of soldiers' orbital wall fracture su...         0.583333  \n",
       "2  Modulation of Mucin (MUC2, MUC5AC and MUC5B) m...         0.372222  \n",
       "3  Traditional dentistry knowledge among Serbs in...         0.661765  \n",
       "4  Dimensional schizotypy and social cognition: A...         0.373737  "
      ]
     },
     "execution_count": 19,
     "metadata": {},
     "output_type": "execute_result"
    }
   ],
   "source": [
    "train.head()"
   ]
  },
  {
   "cell_type": "code",
   "execution_count": 20,
   "metadata": {
    "ExecuteTime": {
     "end_time": "2021-09-08T06:34:28.894359Z",
     "start_time": "2021-09-08T06:34:28.888349Z"
    },
    "colab": {
     "base_uri": "https://localhost:8080/"
    },
    "id": "VyQnNt2UZG0D",
    "outputId": "0319cb84-13fe-4f01-d56f-7367b9b3037f"
   },
   "outputs": [
    {
     "name": "stdout",
     "output_type": "stream",
     "text": [
      "Train Shape (21456, 6)\n"
     ]
    }
   ],
   "source": [
    "print('Train Shape', train.shape)"
   ]
  },
  {
   "cell_type": "markdown",
   "metadata": {
    "id": "zHcZOHEeo2VP"
   },
   "source": [
    "## Preprocessing"
   ]
  },
  {
   "cell_type": "markdown",
   "metadata": {},
   "source": [
    "__Jump to Trainiing section if you think to use data proprocessed.__"
   ]
  },
  {
   "cell_type": "markdown",
   "metadata": {
    "id": "Ij5GCS9ro4ug"
   },
   "source": [
    "### Creating dummy variables for Language"
   ]
  },
  {
   "cell_type": "code",
   "execution_count": 5,
   "metadata": {
    "ExecuteTime": {
     "end_time": "2021-09-07T21:32:16.217268Z",
     "start_time": "2021-09-07T21:32:16.202236Z"
    },
    "id": "GPCrgqTEpDCq"
   },
   "outputs": [],
   "source": [
    "dummy_language = OneHotEncoder(dtype='int8')\n",
    "df_dummy_language = dummy_language.fit_transform(train[['Language']]).toarray()"
   ]
  },
  {
   "cell_type": "code",
   "execution_count": 6,
   "metadata": {
    "ExecuteTime": {
     "end_time": "2021-09-07T21:32:16.234262Z",
     "start_time": "2021-09-07T21:32:16.219237Z"
    },
    "id": "-h9Fy535r9fk"
   },
   "outputs": [],
   "source": [
    "# Concat new dummy variables with original dataset\n",
    "\n",
    "train = train.join(pd.DataFrame(df_dummy_language, columns=dummy_language.categories_[0]))"
   ]
  },
  {
   "cell_type": "markdown",
   "metadata": {
    "id": "MmjDpkkZRPcQ"
   },
   "source": [
    "### MinMaxScaler to Year"
   ]
  },
  {
   "cell_type": "code",
   "execution_count": 7,
   "metadata": {
    "ExecuteTime": {
     "end_time": "2021-09-07T21:32:16.255245Z",
     "start_time": "2021-09-07T21:32:16.236251Z"
    },
    "id": "B0oSGARLEAoA"
   },
   "outputs": [],
   "source": [
    "minMaxScaler = MinMaxScaler()\n",
    "year_minmax = minMaxScaler.fit_transform(train[['Year']])\n",
    "# Overwrite Year column with new Scaled year\n",
    "train.Year = year_minmax"
   ]
  },
  {
   "cell_type": "markdown",
   "metadata": {
    "id": "Zw9s_PWd2gwb"
   },
   "source": [
    "### Applying NLP"
   ]
  },
  {
   "cell_type": "markdown",
   "metadata": {
    "id": "bc8vZMuK2jrE"
   },
   "source": [
    "##### Tokenizing"
   ]
  },
  {
   "cell_type": "code",
   "execution_count": 8,
   "metadata": {
    "ExecuteTime": {
     "end_time": "2021-09-07T21:32:19.984342Z",
     "start_time": "2021-09-07T21:32:16.257238Z"
    },
    "id": "hJolhaGM2m5a"
   },
   "outputs": [],
   "source": [
    "# Loading spacy for every target language\n",
    "\n",
    "nlp_en = spacy.load('en_core_web_sm')\n",
    "nlp_es = spacy.load('es_core_news_sm')\n",
    "nlp_pt = spacy.load('pt_core_news_sm')\n",
    "\n",
    "stem_en = SnowballStemmer(language='english')\n",
    "stem_es = SnowballStemmer(language='spanish')\n",
    "stem_pt = SnowballStemmer(language='portuguese')"
   ]
  },
  {
   "cell_type": "code",
   "execution_count": 9,
   "metadata": {
    "ExecuteTime": {
     "end_time": "2021-09-07T21:32:20.136372Z",
     "start_time": "2021-09-07T21:32:19.986313Z"
    }
   },
   "outputs": [],
   "source": [
    "# Concatenating Abstract and Title to create a new column\n",
    "\n",
    "train['abstract_title'] = train.Abstract + ' ' + train.Title"
   ]
  },
  {
   "cell_type": "code",
   "execution_count": 10,
   "metadata": {
    "ExecuteTime": {
     "end_time": "2021-09-07T21:32:20.152322Z",
     "start_time": "2021-09-07T21:32:20.138313Z"
    },
    "id": "jlJA0PUp4M6p"
   },
   "outputs": [],
   "source": [
    "# Function for processing abstract\n",
    "\n",
    "def process_abstract(dataframe):\n",
    "    '''\n",
    "    - dataframe: Pandas Dataframe with two columns 'abstract_title' and 'Language'\n",
    "    - Returns a tuple of 6 lists swith useful values for new features\n",
    "        -> tokens_doc: List of processed Abstract text.\n",
    "        -> pos_list: List of processed POS Tags.\n",
    "        -> num_sentences: List of integers values representing nummber of sentences in each abstract\n",
    "        -> num_stopwords: List of integers values representing nummber of stopwords in each abstract\n",
    "        -> num_numbers: List of integers values representing nummber of numbers in each abstract\n",
    "        -> num_dets: List of integers values representing nummber of determinants in each abstract\n",
    "    '''\n",
    "    nlp_dict = {\n",
    "        'en': [nlp_en, stem_en],\n",
    "        'es': [nlp_es, stem_es],\n",
    "        'pt': [nlp_pt, stem_pt]\n",
    "    }\n",
    "    tokens_doc = []\n",
    "    pos_list = []\n",
    "    num_sentences = []\n",
    "    num_stopwords = []\n",
    "    num_numbers = []\n",
    "    num_dets = []\n",
    "    for item in tqdm(dataframe.values):\n",
    "        # Features\n",
    "        abstract_title, language = item        \n",
    "        \n",
    "        nlp_spacy = nlp_dict.get(language)[0]     \n",
    "        nlp_nltk = nlp_dict.get(language)[1]\n",
    "        \n",
    "        ##\n",
    "        tokens, stopwords, numbers, dets = [], [], [], []\n",
    "        \n",
    "        # Re\n",
    "        text_re = re.sub('[^A-ZÜÖÄa-zá-ú]+', ' ', abstract_title).strip()\n",
    "        # Filtering \n",
    "        for word in nlp_spacy(text_re): \n",
    "            if word.pos_ not in ['PUNCT', 'SPACE', 'NUM', 'DET'] and not word.is_stop and word.has_vector:\n",
    "                tokens.append(word.lemma_)\n",
    "            else:\n",
    "                if word.is_stop:\n",
    "                    stopwords.append(word)                    \n",
    "                if word.pos_ == 'NUM':\n",
    "                    numbers.append(word)\n",
    "                if word.pos_ == 'DET':\n",
    "                    dets.append(word)\n",
    "               \n",
    "        tokens = [nlp_nltk.stem(token) for token in tokens]\n",
    "        tokens = [token for token in tokens if len(token)>2]\n",
    "        tokens_doc.append(' '.join(tokens))\n",
    "        \n",
    "         # Assigning values\n",
    "        num_stopwords.append(len(stopwords))\n",
    "        num_numbers.append(len(numbers))\n",
    "        num_dets.append(len(dets))\n",
    "        \n",
    "        # Getting tag position\n",
    "        pos = [word.pos_ for word in nlp_spacy(abstract_title)]\n",
    "        pos_list.append(' '.join(pos))\n",
    "        \n",
    "        # Number sentences\n",
    "        num_sentences.append(len(list(nlp_spacy(abstract_title).sents)))  \n",
    "        \n",
    "    return tokens_doc, pos_list, num_sentences, num_stopwords, num_numbers, num_dets"
   ]
  },
  {
   "cell_type": "code",
   "execution_count": 11,
   "metadata": {
    "ExecuteTime": {
     "end_time": "2021-09-07T22:12:44.070391Z",
     "start_time": "2021-09-07T21:32:20.155361Z"
    }
   },
   "outputs": [
    {
     "data": {
      "application/vnd.jupyter.widget-view+json": {
       "model_id": "536837ed64e74a60a1a15e06a2c0d8ee",
       "version_major": 2,
       "version_minor": 0
      },
      "text/plain": [
       "HBox(children=(FloatProgress(value=0.0, max=21456.0), HTML(value='')))"
      ]
     },
     "metadata": {},
     "output_type": "display_data"
    },
    {
     "name": "stdout",
     "output_type": "stream",
     "text": [
      "\n",
      "Wall time: 40min 23s\n"
     ]
    }
   ],
   "source": [
    "# Calling the previous functions passing as parameter a dataframe with only two columns in thoses positions\n",
    "%%time\n",
    "processed_abstract = process_abstract(train[['abstract_title', 'Language']])"
   ]
  },
  {
   "cell_type": "markdown",
   "metadata": {},
   "source": [
    "Assign function results to its new respective column in this way:"
   ]
  },
  {
   "cell_type": "code",
   "execution_count": 12,
   "metadata": {
    "ExecuteTime": {
     "end_time": "2021-09-07T22:12:44.115315Z",
     "start_time": "2021-09-07T22:12:44.072321Z"
    }
   },
   "outputs": [],
   "source": [
    "train['Abstract_tokens'] = processed_abstract[0]\n",
    "train['pos_tokens'] = processed_abstract[1]\n",
    "train['num_sentences'] = processed_abstract[2]\n",
    "train['num_stopwords'] = processed_abstract[3]\n",
    "train['num_numbers'] = processed_abstract[4]\n",
    "train['num_dets'] = processed_abstract[5]"
   ]
  },
  {
   "cell_type": "code",
   "execution_count": 13,
   "metadata": {
    "ExecuteTime": {
     "end_time": "2021-09-07T22:12:44.152320Z",
     "start_time": "2021-09-07T22:12:44.117317Z"
    },
    "colab": {
     "base_uri": "https://localhost:8080/",
     "height": 203
    },
    "id": "8NLiGv2dGyuQ",
    "outputId": "c7e36f59-91fa-49c8-aa9b-7967f65e589c"
   },
   "outputs": [
    {
     "data": {
      "text/html": [
       "<div>\n",
       "<style scoped>\n",
       "    .dataframe tbody tr th:only-of-type {\n",
       "        vertical-align: middle;\n",
       "    }\n",
       "\n",
       "    .dataframe tbody tr th {\n",
       "        vertical-align: top;\n",
       "    }\n",
       "\n",
       "    .dataframe thead th {\n",
       "        text-align: right;\n",
       "    }\n",
       "</style>\n",
       "<table border=\"1\" class=\"dataframe\">\n",
       "  <thead>\n",
       "    <tr style=\"text-align: right;\">\n",
       "      <th></th>\n",
       "      <th>id</th>\n",
       "      <th>Language</th>\n",
       "      <th>Year</th>\n",
       "      <th>Abstract</th>\n",
       "      <th>Title</th>\n",
       "      <th>total_rel_score</th>\n",
       "      <th>en</th>\n",
       "      <th>es</th>\n",
       "      <th>pt</th>\n",
       "      <th>abstract_title</th>\n",
       "      <th>Abstract_tokens</th>\n",
       "      <th>pos_tokens</th>\n",
       "      <th>num_sentences</th>\n",
       "      <th>num_stopwords</th>\n",
       "      <th>num_numbers</th>\n",
       "      <th>num_dets</th>\n",
       "    </tr>\n",
       "  </thead>\n",
       "  <tbody>\n",
       "    <tr>\n",
       "      <th>0</th>\n",
       "      <td>1</td>\n",
       "      <td>en</td>\n",
       "      <td>0.946667</td>\n",
       "      <td>The present study investigates an inventory mo...</td>\n",
       "      <td>Replenishment policy for non-instantaneous det...</td>\n",
       "      <td>0.630682</td>\n",
       "      <td>1</td>\n",
       "      <td>0</td>\n",
       "      <td>0</td>\n",
       "      <td>The present study investigates an inventory mo...</td>\n",
       "      <td>present studi investig inventori model non ins...</td>\n",
       "      <td>DET ADJ NOUN VERB DET NOUN NOUN ADP ADJ ADJ AD...</td>\n",
       "      <td>10</td>\n",
       "      <td>100</td>\n",
       "      <td>1</td>\n",
       "      <td>26</td>\n",
       "    </tr>\n",
       "    <tr>\n",
       "      <th>1</th>\n",
       "      <td>2</td>\n",
       "      <td>en</td>\n",
       "      <td>0.986667</td>\n",
       "      <td>AIM: To investigate the clinical characteristi...</td>\n",
       "      <td>Analysis of soldiers' orbital wall fracture su...</td>\n",
       "      <td>0.583333</td>\n",
       "      <td>1</td>\n",
       "      <td>0</td>\n",
       "      <td>0</td>\n",
       "      <td>AIM: To investigate the clinical characteristi...</td>\n",
       "      <td>aim investig clinic characterist surgic treatm...</td>\n",
       "      <td>PROPN PUNCT PART VERB DET ADJ NOUN CCONJ ADJ N...</td>\n",
       "      <td>21</td>\n",
       "      <td>93</td>\n",
       "      <td>0</td>\n",
       "      <td>17</td>\n",
       "    </tr>\n",
       "    <tr>\n",
       "      <th>2</th>\n",
       "      <td>3</td>\n",
       "      <td>en</td>\n",
       "      <td>0.986667</td>\n",
       "      <td>Aflatoxin M1 (AFM1) and ochratoxin A (OTA), wh...</td>\n",
       "      <td>Modulation of Mucin (MUC2, MUC5AC and MUC5B) m...</td>\n",
       "      <td>0.372222</td>\n",
       "      <td>1</td>\n",
       "      <td>0</td>\n",
       "      <td>0</td>\n",
       "      <td>Aflatoxin M1 (AFM1) and ochratoxin A (OTA), wh...</td>\n",
       "      <td>aflatoxin afm ochratoxin ota wide coexist milk...</td>\n",
       "      <td>PROPN PROPN PUNCT PROPN PUNCT CCONJ PROPN PROP...</td>\n",
       "      <td>10</td>\n",
       "      <td>88</td>\n",
       "      <td>1</td>\n",
       "      <td>18</td>\n",
       "    </tr>\n",
       "  </tbody>\n",
       "</table>\n",
       "</div>"
      ],
      "text/plain": [
       "   id Language      Year                                           Abstract  \\\n",
       "0   1       en  0.946667  The present study investigates an inventory mo...   \n",
       "1   2       en  0.986667  AIM: To investigate the clinical characteristi...   \n",
       "2   3       en  0.986667  Aflatoxin M1 (AFM1) and ochratoxin A (OTA), wh...   \n",
       "\n",
       "                                               Title  total_rel_score  en  es  \\\n",
       "0  Replenishment policy for non-instantaneous det...         0.630682   1   0   \n",
       "1  Analysis of soldiers' orbital wall fracture su...         0.583333   1   0   \n",
       "2  Modulation of Mucin (MUC2, MUC5AC and MUC5B) m...         0.372222   1   0   \n",
       "\n",
       "   pt                                     abstract_title  \\\n",
       "0   0  The present study investigates an inventory mo...   \n",
       "1   0  AIM: To investigate the clinical characteristi...   \n",
       "2   0  Aflatoxin M1 (AFM1) and ochratoxin A (OTA), wh...   \n",
       "\n",
       "                                     Abstract_tokens  \\\n",
       "0  present studi investig inventori model non ins...   \n",
       "1  aim investig clinic characterist surgic treatm...   \n",
       "2  aflatoxin afm ochratoxin ota wide coexist milk...   \n",
       "\n",
       "                                          pos_tokens  num_sentences  \\\n",
       "0  DET ADJ NOUN VERB DET NOUN NOUN ADP ADJ ADJ AD...             10   \n",
       "1  PROPN PUNCT PART VERB DET ADJ NOUN CCONJ ADJ N...             21   \n",
       "2  PROPN PROPN PUNCT PROPN PUNCT CCONJ PROPN PROP...             10   \n",
       "\n",
       "   num_stopwords  num_numbers  num_dets  \n",
       "0            100            1        26  \n",
       "1             93            0        17  \n",
       "2             88            1        18  "
      ]
     },
     "execution_count": 13,
     "metadata": {},
     "output_type": "execute_result"
    }
   ],
   "source": [
    "train.head(3)"
   ]
  },
  {
   "cell_type": "markdown",
   "metadata": {
    "id": "VfMfiDbXU8YU"
   },
   "source": [
    "##### Vectorization"
   ]
  },
  {
   "cell_type": "markdown",
   "metadata": {},
   "source": [
    "1. Creating new features with tokens gotten from columns 'Abstract_tokens'"
   ]
  },
  {
   "cell_type": "code",
   "execution_count": 14,
   "metadata": {
    "ExecuteTime": {
     "end_time": "2021-09-07T22:12:47.107333Z",
     "start_time": "2021-09-07T22:12:44.155323Z"
    },
    "id": "KXeRCwjEVGfr"
   },
   "outputs": [],
   "source": [
    "tfidf_abs_model = TfidfVectorizer(min_df=7, encoding='ascii', sublinear_tf=True)\n",
    "tfidf_abs_values = tfidf_abs_model.fit_transform(train['Abstract_tokens'])"
   ]
  },
  {
   "cell_type": "code",
   "execution_count": 15,
   "metadata": {
    "ExecuteTime": {
     "end_time": "2021-09-07T22:13:03.949317Z",
     "start_time": "2021-09-07T22:12:47.109312Z"
    },
    "id": "8uV28NoKZ_qi"
   },
   "outputs": [],
   "source": [
    "# Creating a new dataframe including original features and then new ones\n",
    "train_tfidf = train.join(pd.DataFrame(tfidf_abs_values.toarray(), \n",
    "                        # Notice here I add a prefix to avoid erros about equal columns name\n",
    "                        columns=list(map(lambda x:'abs_'+x, tfidf_abs_model.get_feature_names())))\n",
    "        )"
   ]
  },
  {
   "cell_type": "markdown",
   "metadata": {},
   "source": [
    "2. Creating other features but using Position tokens (Spacy) instead. The column used for this is 'pos_tokens'"
   ]
  },
  {
   "cell_type": "code",
   "execution_count": 16,
   "metadata": {
    "ExecuteTime": {
     "end_time": "2021-09-07T22:13:07.530382Z",
     "start_time": "2021-09-07T22:13:03.967365Z"
    }
   },
   "outputs": [],
   "source": [
    "tfidf_pos_model = TfidfVectorizer(sublinear_tf=True)\n",
    "tfidf_pos_values = tfidf_pos_model.fit_transform(train['pos_tokens'])"
   ]
  },
  {
   "cell_type": "code",
   "execution_count": 17,
   "metadata": {
    "ExecuteTime": {
     "end_time": "2021-09-07T22:13:12.383327Z",
     "start_time": "2021-09-07T22:13:07.568328Z"
    }
   },
   "outputs": [],
   "source": [
    "# Joining with previous dataframe\n",
    "train_tfidf = train_tfidf.join(pd.DataFrame(tfidf_pos_values.toarray(), \n",
    "                        # Same here\n",
    "                        columns=list(map(lambda x:'_'+x, tfidf_pos_model.get_feature_names())))\n",
    "        )"
   ]
  },
  {
   "cell_type": "code",
   "execution_count": 18,
   "metadata": {
    "ExecuteTime": {
     "end_time": "2021-09-07T22:13:12.403329Z",
     "start_time": "2021-09-07T22:13:12.390340Z"
    },
    "colab": {
     "base_uri": "https://localhost:8080/"
    },
    "id": "PX5Tk5wnuFIe",
    "outputId": "428bc718-829d-4bda-caa9-c4178bacc320"
   },
   "outputs": [
    {
     "name": "stdout",
     "output_type": "stream",
     "text": [
      "(21456, 16856)\n"
     ]
    }
   ],
   "source": [
    "print(train_tfidf.shape)"
   ]
  },
  {
   "cell_type": "markdown",
   "metadata": {
    "id": "9Rz7YqFrspjN"
   },
   "source": [
    "### Dropping unnecessary columns:"
   ]
  },
  {
   "cell_type": "markdown",
   "metadata": {},
   "source": [
    "This list contains all unsed columns in train and test dataset, so in \"Predictions\" sections will be used as well"
   ]
  },
  {
   "cell_type": "code",
   "execution_count": 19,
   "metadata": {
    "ExecuteTime": {
     "end_time": "2021-09-07T22:13:25.489648Z",
     "start_time": "2021-09-07T22:13:12.413325Z"
    },
    "id": "PebpD0Q4szQg"
   },
   "outputs": [],
   "source": [
    "COLS = ['id', 'Abstract', 'Title', 'Language', 'Abstract_tokens', 'pos_tokens', 'abstract_title']\n",
    "train_tfidf.drop(COLS, axis=1, inplace=True)"
   ]
  },
  {
   "cell_type": "markdown",
   "metadata": {},
   "source": [
    "### Exporting train dataset processed"
   ]
  },
  {
   "cell_type": "markdown",
   "metadata": {},
   "source": [
    "Exporting dataset processed since it takes about 40 minutes"
   ]
  },
  {
   "cell_type": "code",
   "execution_count": 7,
   "metadata": {
    "ExecuteTime": {
     "end_time": "2021-09-08T06:13:44.544406Z",
     "start_time": "2021-09-08T06:13:44.532399Z"
    }
   },
   "outputs": [],
   "source": [
    "train_tfidf.to_csv('../data/processed/train_processed.csv', index=False)"
   ]
  },
  {
   "cell_type": "markdown",
   "metadata": {
    "id": "x_uFGSdOo5d-"
   },
   "source": [
    "## Training"
   ]
  },
  {
   "cell_type": "code",
   "execution_count": null,
   "metadata": {},
   "outputs": [],
   "source": [
    "# Use data preprocessed to save time else it will be neccesary to run processing code\n",
    "train_tfidf = pd.read_csv('../data/processed/train_processed.csv')"
   ]
  },
  {
   "cell_type": "code",
   "execution_count": 21,
   "metadata": {
    "ExecuteTime": {
     "end_time": "2021-09-07T22:13:28.241681Z",
     "start_time": "2021-09-07T22:13:25.720645Z"
    },
    "id": "Xmoe-wNqt0BZ"
   },
   "outputs": [],
   "source": [
    "X = train_tfidf.drop('total_rel_score', axis=1)\n",
    "y = train_tfidf.total_rel_score"
   ]
  },
  {
   "cell_type": "markdown",
   "metadata": {},
   "source": [
    "### Training for validation"
   ]
  },
  {
   "cell_type": "markdown",
   "metadata": {},
   "source": [
    "Using rule 70/30 for train-test split"
   ]
  },
  {
   "cell_type": "code",
   "execution_count": 26,
   "metadata": {
    "ExecuteTime": {
     "end_time": "2021-09-07T02:50:26.348933Z",
     "start_time": "2021-09-07T02:50:20.509968Z"
    },
    "id": "k2UrZAsMt77s"
   },
   "outputs": [],
   "source": [
    "SEED = 42\n",
    "X_train, X_test, y_train, y_test = train_test_split(X, y, test_size=0.3, random_state=SEED, shuffle=True)"
   ]
  },
  {
   "cell_type": "code",
   "execution_count": 27,
   "metadata": {
    "ExecuteTime": {
     "end_time": "2021-09-07T05:27:38.926067Z",
     "start_time": "2021-09-07T02:50:26.383933Z"
    },
    "colab": {
     "base_uri": "https://localhost:8080/"
    },
    "id": "ig99_jGOLZ3t",
    "outputId": "b86a35eb-e6c1-4cd1-b432-401df6587bf4"
   },
   "outputs": [
    {
     "name": "stdout",
     "output_type": "stream",
     "text": [
      "Convergence after  33  iterations\n",
      "Wall time: 2h 37min 11s\n"
     ]
    },
    {
     "data": {
      "text/plain": [
       "BayesianRidge(alpha_1=1e-06, alpha_2=1e-06, alpha_init=None,\n",
       "              compute_score=False, copy_X=True, fit_intercept=True,\n",
       "              lambda_1=1e-06, lambda_2=1e-06, lambda_init=None, n_iter=300,\n",
       "              normalize=False, tol=0.001, verbose=True)"
      ]
     },
     "execution_count": 27,
     "metadata": {},
     "output_type": "execute_result"
    }
   ],
   "source": [
    "%%time\n",
    "model = BayesianRidge(verbose=True)\n",
    "model.fit(X_train, y_train)"
   ]
  },
  {
   "cell_type": "code",
   "execution_count": 28,
   "metadata": {
    "ExecuteTime": {
     "end_time": "2021-09-07T05:43:54.884223Z",
     "start_time": "2021-09-07T05:43:54.770967Z"
    },
    "id": "dvlAC9ZluJ4K"
   },
   "outputs": [],
   "source": [
    "def results_metric(model):\n",
    "    # Predict for train and test\n",
    "    y_pred_train = model.predict(X_train).flatten()\n",
    "    y_pred_test = model.predict(X_test).flatten()\n",
    "\n",
    "    # RMSLE metric\n",
    "    rmsle_train = np.sqrt(mean_squared_log_error(y_train, y_pred_train))\n",
    "    rmsle_test = np.sqrt(mean_squared_log_error(y_test, y_pred_test))\n",
    "\n",
    "    # Plotting results\n",
    "    plt.figure(figsize=(12, 5))\n",
    "    sns.set(color_codes=True)\n",
    "    plt.subplot(1, 2, 1)    \n",
    "    sns.histplot(y_train - y_pred_train, bins=20, kde=True, color='g')\n",
    "    sns.histplot(y_test - y_pred_test, bins=20, kde=True, color='r')\n",
    "    plt.legend(['Train','Test'])\n",
    "    plt.subplot(1, 2, 2)\n",
    "    sns.scatterplot(x=y_test, y=y_pred_test)\n",
    "    sns.set(None)\n",
    "    lims = [\n",
    "        np.min([plt.xlim(), plt.ylim()]),  # min of both axes\n",
    "        np.max([plt.xlim(), plt.ylim()]),  # max of both axes]\n",
    "    ]\n",
    "\n",
    "    plt.plot(lims, lims, 'k-', alpha=0.75, zorder=0)\n",
    "    plt.xlabel('Y Test')\n",
    "    plt.ylabel('Y Pred Test')\n",
    "    print('RMSLE Train', rmsle_train)\n",
    "    print('RMSLE Test', rmsle_test)"
   ]
  },
  {
   "cell_type": "code",
   "execution_count": 29,
   "metadata": {
    "ExecuteTime": {
     "end_time": "2021-09-07T05:44:14.310958Z",
     "start_time": "2021-09-07T05:43:57.164750Z"
    },
    "colab": {
     "base_uri": "https://localhost:8080/",
     "height": 374
    },
    "id": "dLWWh0UyV6BQ",
    "outputId": "73aa4454-2891-4f8c-d23a-4c53afd2ed15"
   },
   "outputs": [
    {
     "name": "stdout",
     "output_type": "stream",
     "text": [
      "RMSLE Train 0.12141460168787017\n",
      "RMSLE Test 0.13447810793179701\n"
     ]
    },
    {
     "data": {
      "image/png": "[encoded data removed]",
      "text/plain": [
       "<Figure size 864x360 with 2 Axes>"
      ]
     },
     "metadata": {
      "needs_background": "light"
     },
     "output_type": "display_data"
    }
   ],
   "source": [
    "results_metric(model)"
   ]
  },
  {
   "cell_type": "markdown",
   "metadata": {
    "id": "s-PRanmQLAGZ"
   },
   "source": [
    "### Training with all data:"
   ]
  },
  {
   "cell_type": "markdown",
   "metadata": {},
   "source": [
    "Based on results of previous model whose used some samples for training and validation, I can decide when it is time to train the model using all data. In this case, I got the best predictions so far, therefore I can go forward with training of a new model."
   ]
  },
  {
   "cell_type": "code",
   "execution_count": 22,
   "metadata": {
    "ExecuteTime": {
     "end_time": "2021-09-08T00:37:44.109832Z",
     "start_time": "2021-09-07T22:13:28.247654Z"
    },
    "colab": {
     "base_uri": "https://localhost:8080/"
    },
    "id": "pEseClWmLCrA",
    "outputId": "93fe60d8-3f75-496c-e4bd-9e853bdef19a"
   },
   "outputs": [
    {
     "name": "stdout",
     "output_type": "stream",
     "text": [
      "Convergence after  29  iterations\n",
      "Wall time: 2h 24min 15s\n"
     ]
    },
    {
     "data": {
      "text/plain": [
       "BayesianRidge(alpha_1=1e-06, alpha_2=1e-06, alpha_init=None,\n",
       "              compute_score=False, copy_X=True, fit_intercept=True,\n",
       "              lambda_1=1e-06, lambda_2=1e-06, lambda_init=None, n_iter=300,\n",
       "              normalize=False, tol=0.001, verbose=True)"
      ]
     },
     "execution_count": 22,
     "metadata": {},
     "output_type": "execute_result"
    }
   ],
   "source": [
    "%%time\n",
    "full_model = BayesianRidge(verbose=True)\n",
    "full_model.fit(X, y)"
   ]
  },
  {
   "cell_type": "markdown",
   "metadata": {},
   "source": [
    "#### Saving model"
   ]
  },
  {
   "cell_type": "code",
   "execution_count": 53,
   "metadata": {
    "ExecuteTime": {
     "end_time": "2021-09-08T01:52:14.947863Z",
     "start_time": "2021-09-08T01:52:14.941897Z"
    }
   },
   "outputs": [],
   "source": [
    "FILENAME = 'full_model.sav'"
   ]
  },
  {
   "cell_type": "code",
   "execution_count": 26,
   "metadata": {
    "ExecuteTime": {
     "end_time": "2021-09-08T00:51:24.584816Z",
     "start_time": "2021-09-08T00:51:11.597144Z"
    }
   },
   "outputs": [],
   "source": [
    "# Saving model\n",
    "pickle.dump(full_model, open(FILENAME, 'wb'))"
   ]
  },
  {
   "cell_type": "code",
   "execution_count": 27,
   "metadata": {
    "ExecuteTime": {
     "end_time": "2021-09-08T00:54:05.590205Z",
     "start_time": "2021-09-08T00:53:54.845682Z"
    }
   },
   "outputs": [],
   "source": [
    "# Testing model saved\n",
    "loaded_model = pickle.load(open(FILENAME, 'rb'))"
   ]
  },
  {
   "cell_type": "code",
   "execution_count": 28,
   "metadata": {
    "ExecuteTime": {
     "end_time": "2021-09-08T00:54:52.357018Z",
     "start_time": "2021-09-08T00:54:25.319157Z"
    }
   },
   "outputs": [
    {
     "name": "stdout",
     "output_type": "stream",
     "text": [
      "Score with recently trained model 0.33081639287682807\n",
      "Score with saved model 0.33081639287682807\n"
     ]
    }
   ],
   "source": [
    "print('Score with recently trained model', full_model.score(X, y))\n",
    "print('Score with saved model', loaded_model.score(X, y))"
   ]
  },
  {
   "cell_type": "markdown",
   "metadata": {},
   "source": [
    "As we can see, the scores are identical, so the model was saved and loaded successfully!!"
   ]
  },
  {
   "cell_type": "markdown",
   "metadata": {
    "id": "NVgiYKhN5R5k"
   },
   "source": [
    "## Predictions"
   ]
  },
  {
   "cell_type": "markdown",
   "metadata": {},
   "source": [
    "__If you used existing processed train dataset, then you must used existing processed test dataset as well.__ Some models were created in processing step, so you could get some errors if you try to process test dataset from zero. If so, jump to _\"Generating predictions\"_ section"
   ]
  },
  {
   "cell_type": "markdown",
   "metadata": {},
   "source": [
    "### Reading test dataset"
   ]
  },
  {
   "cell_type": "code",
   "execution_count": 35,
   "metadata": {
    "ExecuteTime": {
     "end_time": "2021-09-08T00:59:44.576316Z",
     "start_time": "2021-09-08T00:59:44.381289Z"
    }
   },
   "outputs": [],
   "source": [
    "test = pd.read_csv('FinalTest.csv')"
   ]
  },
  {
   "cell_type": "markdown",
   "metadata": {
    "id": "LcYgxs_c54g2"
   },
   "source": [
    "### Preprocessing"
   ]
  },
  {
   "cell_type": "code",
   "execution_count": 36,
   "metadata": {
    "ExecuteTime": {
     "end_time": "2021-09-08T00:59:46.060970Z",
     "start_time": "2021-09-08T00:59:46.044972Z"
    },
    "id": "MLgLjyGu57su"
   },
   "outputs": [],
   "source": [
    "# Creating dummy variables from OneHotEncoder created previosly...\n",
    "dummy_test = dummy_language.transform(test[['Language']]).toarray()\n",
    "\n",
    "# Converting to Dataframe with named columns for dummy\n",
    "dummy_test = pd.DataFrame(dummy_test, columns=dummy_language.categories_[0])\n",
    "\n",
    "# Scaling Year\n",
    "test.Year = minMaxScaler.transform(test[['Year']])\n",
    "\n",
    "# Joining dummy columns to full test dataset\n",
    "test = test.join(dummy_test)"
   ]
  },
  {
   "cell_type": "markdown",
   "metadata": {
    "id": "ZNvBB6h58HHN"
   },
   "source": [
    "Saving Id column for submission csv file:"
   ]
  },
  {
   "cell_type": "code",
   "execution_count": 37,
   "metadata": {
    "ExecuteTime": {
     "end_time": "2021-09-08T00:59:51.169711Z",
     "start_time": "2021-09-08T00:59:51.164710Z"
    },
    "id": "RFEiRjav7Zhv"
   },
   "outputs": [],
   "source": [
    "id = test.id"
   ]
  },
  {
   "cell_type": "markdown",
   "metadata": {
    "id": "AQxgnIGXXJDo"
   },
   "source": [
    "#### Applying NLP"
   ]
  },
  {
   "cell_type": "code",
   "execution_count": 38,
   "metadata": {
    "ExecuteTime": {
     "end_time": "2021-09-08T01:00:10.028484Z",
     "start_time": "2021-09-08T01:00:09.978509Z"
    }
   },
   "outputs": [],
   "source": [
    "test['abstract_title'] = test.Abstract + ' ' + test.Title"
   ]
  },
  {
   "cell_type": "code",
   "execution_count": 39,
   "metadata": {
    "ExecuteTime": {
     "end_time": "2021-09-08T01:20:22.559746Z",
     "start_time": "2021-09-08T01:00:12.427686Z"
    },
    "colab": {
     "base_uri": "https://localhost:8080/",
     "height": 82,
     "referenced_widgets": [
      "d0491a4eb2a64ef4a3fe9fa487053581",
      "7cf66165eeba4d229403eef5f5baaa65",
      "f9cf8ffec1944a7a8bea12fcc8d6bd55",
      "958c48f07355458f8b53e853099ba692",
      "33cae762bfe4403896e34b0691147bc9",
      "82255f3cbd2943969696125444afa81d",
      "f616313565da4e5abe7c79ee3d708828",
      "8d14ffd6356f42e09d6b9d2719b42c37",
      "4cc4a52210a24a26afcf0f5d95f80644",
      "936a21ba978a42afbaf34587fd97909d",
      "01a103fc7a7444f28a5602e25b7d0407"
     ]
    },
    "id": "ni79EeJDXLBQ",
    "outputId": "917cbc18-8883-4b82-a01a-143f248aa27e"
   },
   "outputs": [
    {
     "data": {
      "application/vnd.jupyter.widget-view+json": {
       "model_id": "8c63ae6da48c43f8b6ac028af4b963ef",
       "version_major": 2,
       "version_minor": 0
      },
      "text/plain": [
       "HBox(children=(FloatProgress(value=0.0, max=10728.0), HTML(value='')))"
      ]
     },
     "metadata": {},
     "output_type": "display_data"
    },
    {
     "name": "stdout",
     "output_type": "stream",
     "text": [
      "\n",
      "Wall time: 20min 10s\n"
     ]
    }
   ],
   "source": [
    "%%time\n",
    "processed_abstract_test = process_abstract(test[['abstract_title', 'Language']])"
   ]
  },
  {
   "cell_type": "markdown",
   "metadata": {},
   "source": [
    "Assign function results to its new respective column in this way:"
   ]
  },
  {
   "cell_type": "code",
   "execution_count": 41,
   "metadata": {
    "ExecuteTime": {
     "end_time": "2021-09-08T01:20:34.305871Z",
     "start_time": "2021-09-08T01:20:34.276893Z"
    }
   },
   "outputs": [],
   "source": [
    "test['Abstract_tokens'] = processed_abstract_test[0]\n",
    "test['pos_tokens'] = processed_abstract_test[1]\n",
    "test['num_sentences'] = processed_abstract_test[2]\n",
    "test['num_stopwords'] = processed_abstract_test[3]\n",
    "test['num_numbers'] = processed_abstract_test[4]\n",
    "test['num_dets'] = processed_abstract_test[5]"
   ]
  },
  {
   "cell_type": "markdown",
   "metadata": {
    "ExecuteTime": {
     "end_time": "2021-09-08T01:20:22.570740Z",
     "start_time": "2021-09-08T01:20:22.562720Z"
    }
   },
   "source": [
    "Transforming new abstract to a Tfidf matrix using the trained model."
   ]
  },
  {
   "cell_type": "code",
   "execution_count": 42,
   "metadata": {
    "ExecuteTime": {
     "end_time": "2021-09-08T01:22:54.029434Z",
     "start_time": "2021-09-08T01:22:48.109439Z"
    },
    "id": "0EjRyDw-YRyu"
   },
   "outputs": [],
   "source": [
    "transformed_values = tfidf_abs_model.transform(test['Abstract_tokens'])\n",
    "test_tfidf = test.join(pd.DataFrame(transformed_values.toarray(), \n",
    "                         # Do not forget add a prefix to avoid errors with equal column names.\n",
    "                        columns=list(map(lambda x:'abs_'+x, tfidf_abs_model.get_feature_names())))\n",
    "        )"
   ]
  },
  {
   "cell_type": "code",
   "execution_count": 44,
   "metadata": {
    "ExecuteTime": {
     "end_time": "2021-09-08T01:24:30.874464Z",
     "start_time": "2021-09-08T01:24:28.229378Z"
    }
   },
   "outputs": [],
   "source": [
    "transformed_values = tfidf_pos_model.fit_transform(test['pos_tokens'])\n",
    "test_tfidf = test_tfidf.join(pd.DataFrame(transformed_values.toarray(), \n",
    "                        # Same here                 \n",
    "                        columns=list(map(lambda x:'_'+x, tfidf_pos_model.get_feature_names())))\n",
    "        )"
   ]
  },
  {
   "cell_type": "markdown",
   "metadata": {
    "id": "pQlkHn1L8RtB"
   },
   "source": [
    "Removing same columns as train dataset:"
   ]
  },
  {
   "cell_type": "code",
   "execution_count": 45,
   "metadata": {
    "ExecuteTime": {
     "end_time": "2021-09-08T01:24:57.441210Z",
     "start_time": "2021-09-08T01:24:50.790181Z"
    },
    "id": "t6f0Tsig7Ati"
   },
   "outputs": [],
   "source": [
    "test_tfidf.drop(COLS, axis=1, inplace=True)"
   ]
  },
  {
   "cell_type": "code",
   "execution_count": 46,
   "metadata": {
    "ExecuteTime": {
     "end_time": "2021-09-08T01:24:57.586193Z",
     "start_time": "2021-09-08T01:24:57.450182Z"
    },
    "colab": {
     "base_uri": "https://localhost:8080/",
     "height": 252
    },
    "id": "KVJPMb-6P9_Y",
    "outputId": "3a1d0eb4-d616-45bd-cc75-084a71425237"
   },
   "outputs": [
    {
     "data": {
      "text/html": [
       "<div>\n",
       "<style scoped>\n",
       "    .dataframe tbody tr th:only-of-type {\n",
       "        vertical-align: middle;\n",
       "    }\n",
       "\n",
       "    .dataframe tbody tr th {\n",
       "        vertical-align: top;\n",
       "    }\n",
       "\n",
       "    .dataframe thead th {\n",
       "        text-align: right;\n",
       "    }\n",
       "</style>\n",
       "<table border=\"1\" class=\"dataframe\">\n",
       "  <thead>\n",
       "    <tr style=\"text-align: right;\">\n",
       "      <th></th>\n",
       "      <th>Year</th>\n",
       "      <th>en</th>\n",
       "      <th>es</th>\n",
       "      <th>pt</th>\n",
       "      <th>num_sentences</th>\n",
       "      <th>num_stopwords</th>\n",
       "      <th>num_numbers</th>\n",
       "      <th>num_dets</th>\n",
       "      <th>abs_aaa</th>\n",
       "      <th>abs_aacut</th>\n",
       "      <th>...</th>\n",
       "      <th>_noun</th>\n",
       "      <th>_num</th>\n",
       "      <th>_part</th>\n",
       "      <th>_pron</th>\n",
       "      <th>_propn</th>\n",
       "      <th>_punct</th>\n",
       "      <th>_sconj</th>\n",
       "      <th>_space</th>\n",
       "      <th>_sym</th>\n",
       "      <th>_verb</th>\n",
       "    </tr>\n",
       "  </thead>\n",
       "  <tbody>\n",
       "    <tr>\n",
       "      <th>0</th>\n",
       "      <td>0.960000</td>\n",
       "      <td>1</td>\n",
       "      <td>0</td>\n",
       "      <td>0</td>\n",
       "      <td>5</td>\n",
       "      <td>36</td>\n",
       "      <td>0</td>\n",
       "      <td>10</td>\n",
       "      <td>0.0</td>\n",
       "      <td>0.0</td>\n",
       "      <td>...</td>\n",
       "      <td>0.423730</td>\n",
       "      <td>0.000000</td>\n",
       "      <td>0.201059</td>\n",
       "      <td>0.182007</td>\n",
       "      <td>0.287596</td>\n",
       "      <td>0.350268</td>\n",
       "      <td>0.120971</td>\n",
       "      <td>0.000000</td>\n",
       "      <td>0.00000</td>\n",
       "      <td>0.346242</td>\n",
       "    </tr>\n",
       "    <tr>\n",
       "      <th>1</th>\n",
       "      <td>0.933333</td>\n",
       "      <td>1</td>\n",
       "      <td>0</td>\n",
       "      <td>0</td>\n",
       "      <td>5</td>\n",
       "      <td>59</td>\n",
       "      <td>1</td>\n",
       "      <td>22</td>\n",
       "      <td>0.0</td>\n",
       "      <td>0.0</td>\n",
       "      <td>...</td>\n",
       "      <td>0.432460</td>\n",
       "      <td>0.109622</td>\n",
       "      <td>0.116400</td>\n",
       "      <td>0.178407</td>\n",
       "      <td>0.255571</td>\n",
       "      <td>0.353303</td>\n",
       "      <td>0.000000</td>\n",
       "      <td>0.000000</td>\n",
       "      <td>0.00000</td>\n",
       "      <td>0.313513</td>\n",
       "    </tr>\n",
       "    <tr>\n",
       "      <th>2</th>\n",
       "      <td>0.973333</td>\n",
       "      <td>0</td>\n",
       "      <td>0</td>\n",
       "      <td>1</td>\n",
       "      <td>8</td>\n",
       "      <td>66</td>\n",
       "      <td>0</td>\n",
       "      <td>19</td>\n",
       "      <td>0.0</td>\n",
       "      <td>0.0</td>\n",
       "      <td>...</td>\n",
       "      <td>0.439112</td>\n",
       "      <td>0.000000</td>\n",
       "      <td>0.000000</td>\n",
       "      <td>0.172271</td>\n",
       "      <td>0.088397</td>\n",
       "      <td>0.301407</td>\n",
       "      <td>0.114500</td>\n",
       "      <td>0.190407</td>\n",
       "      <td>0.00000</td>\n",
       "      <td>0.359247</td>\n",
       "    </tr>\n",
       "    <tr>\n",
       "      <th>3</th>\n",
       "      <td>0.720000</td>\n",
       "      <td>1</td>\n",
       "      <td>0</td>\n",
       "      <td>0</td>\n",
       "      <td>12</td>\n",
       "      <td>46</td>\n",
       "      <td>0</td>\n",
       "      <td>21</td>\n",
       "      <td>0.0</td>\n",
       "      <td>0.0</td>\n",
       "      <td>...</td>\n",
       "      <td>0.367579</td>\n",
       "      <td>0.000000</td>\n",
       "      <td>0.167514</td>\n",
       "      <td>0.000000</td>\n",
       "      <td>0.360854</td>\n",
       "      <td>0.324177</td>\n",
       "      <td>0.000000</td>\n",
       "      <td>0.000000</td>\n",
       "      <td>0.17128</td>\n",
       "      <td>0.283540</td>\n",
       "    </tr>\n",
       "    <tr>\n",
       "      <th>4</th>\n",
       "      <td>0.906667</td>\n",
       "      <td>1</td>\n",
       "      <td>0</td>\n",
       "      <td>0</td>\n",
       "      <td>8</td>\n",
       "      <td>74</td>\n",
       "      <td>6</td>\n",
       "      <td>18</td>\n",
       "      <td>0.0</td>\n",
       "      <td>0.0</td>\n",
       "      <td>...</td>\n",
       "      <td>0.333799</td>\n",
       "      <td>0.268164</td>\n",
       "      <td>0.186902</td>\n",
       "      <td>0.000000</td>\n",
       "      <td>0.308272</td>\n",
       "      <td>0.262696</td>\n",
       "      <td>0.216499</td>\n",
       "      <td>0.421199</td>\n",
       "      <td>0.00000</td>\n",
       "      <td>0.267783</td>\n",
       "    </tr>\n",
       "  </tbody>\n",
       "</table>\n",
       "<p>5 rows × 16848 columns</p>\n",
       "</div>"
      ],
      "text/plain": [
       "       Year  en  es  pt  num_sentences  num_stopwords  num_numbers  num_dets  \\\n",
       "0  0.960000   1   0   0              5             36            0        10   \n",
       "1  0.933333   1   0   0              5             59            1        22   \n",
       "2  0.973333   0   0   1              8             66            0        19   \n",
       "3  0.720000   1   0   0             12             46            0        21   \n",
       "4  0.906667   1   0   0              8             74            6        18   \n",
       "\n",
       "   abs_aaa  abs_aacut  ...     _noun      _num     _part     _pron    _propn  \\\n",
       "0      0.0        0.0  ...  0.423730  0.000000  0.201059  0.182007  0.287596   \n",
       "1      0.0        0.0  ...  0.432460  0.109622  0.116400  0.178407  0.255571   \n",
       "2      0.0        0.0  ...  0.439112  0.000000  0.000000  0.172271  0.088397   \n",
       "3      0.0        0.0  ...  0.367579  0.000000  0.167514  0.000000  0.360854   \n",
       "4      0.0        0.0  ...  0.333799  0.268164  0.186902  0.000000  0.308272   \n",
       "\n",
       "     _punct    _sconj    _space     _sym     _verb  \n",
       "0  0.350268  0.120971  0.000000  0.00000  0.346242  \n",
       "1  0.353303  0.000000  0.000000  0.00000  0.313513  \n",
       "2  0.301407  0.114500  0.190407  0.00000  0.359247  \n",
       "3  0.324177  0.000000  0.000000  0.17128  0.283540  \n",
       "4  0.262696  0.216499  0.421199  0.00000  0.267783  \n",
       "\n",
       "[5 rows x 16848 columns]"
      ]
     },
     "execution_count": 46,
     "metadata": {},
     "output_type": "execute_result"
    }
   ],
   "source": [
    "test_tfidf.head()"
   ]
  },
  {
   "cell_type": "code",
   "execution_count": 47,
   "metadata": {
    "ExecuteTime": {
     "end_time": "2021-09-08T01:24:57.599177Z",
     "start_time": "2021-09-08T01:24:57.590176Z"
    }
   },
   "outputs": [],
   "source": [
    "assert test_tfidf.shape[1] == train_tfidf.shape[1]-1, 'Number of input columns must be equal'"
   ]
  },
  {
   "cell_type": "markdown",
   "metadata": {},
   "source": [
    "### Exporting test dataset processed"
   ]
  },
  {
   "cell_type": "code",
   "execution_count": null,
   "metadata": {},
   "outputs": [],
   "source": [
    "test_tfidf.to_csv('../data/processed/test_processed.csv', index=False)"
   ]
  },
  {
   "cell_type": "markdown",
   "metadata": {},
   "source": [
    "### Generating predictions"
   ]
  },
  {
   "cell_type": "code",
   "execution_count": null,
   "metadata": {},
   "outputs": [],
   "source": [
    "test_tfidf = pd.read_csv('../data/processed/test_processed.csv')"
   ]
  },
  {
   "cell_type": "markdown",
   "metadata": {},
   "source": [
    "Finally, here are the predictions using full model:"
   ]
  },
  {
   "cell_type": "code",
   "execution_count": 50,
   "metadata": {
    "ExecuteTime": {
     "end_time": "2021-09-08T01:28:43.385730Z",
     "start_time": "2021-09-08T01:28:41.849770Z"
    },
    "colab": {
     "base_uri": "https://localhost:8080/",
     "height": 203
    },
    "id": "OKtUN2785U7p",
    "outputId": "c8ece078-483f-42e3-d79a-62a234782c11"
   },
   "outputs": [],
   "source": [
    "# y_pred = loaded_model.predict(test_tfidf) # Uncomment this line if you want use saved model\n",
    "\n",
    "y_pred = full_model.predict(test_tfidf)"
   ]
  },
  {
   "cell_type": "markdown",
   "metadata": {},
   "source": [
    "Creating dataframe for submission:"
   ]
  },
  {
   "cell_type": "code",
   "execution_count": 51,
   "metadata": {
    "ExecuteTime": {
     "end_time": "2021-09-08T01:28:59.720536Z",
     "start_time": "2021-09-08T01:28:59.709563Z"
    }
   },
   "outputs": [
    {
     "data": {
      "text/html": [
       "<div>\n",
       "<style scoped>\n",
       "    .dataframe tbody tr th:only-of-type {\n",
       "        vertical-align: middle;\n",
       "    }\n",
       "\n",
       "    .dataframe tbody tr th {\n",
       "        vertical-align: top;\n",
       "    }\n",
       "\n",
       "    .dataframe thead th {\n",
       "        text-align: right;\n",
       "    }\n",
       "</style>\n",
       "<table border=\"1\" class=\"dataframe\">\n",
       "  <thead>\n",
       "    <tr style=\"text-align: right;\">\n",
       "      <th></th>\n",
       "      <th>id</th>\n",
       "      <th>total_rel_score</th>\n",
       "    </tr>\n",
       "  </thead>\n",
       "  <tbody>\n",
       "    <tr>\n",
       "      <th>0</th>\n",
       "      <td>1</td>\n",
       "      <td>0.567207</td>\n",
       "    </tr>\n",
       "    <tr>\n",
       "      <th>1</th>\n",
       "      <td>2</td>\n",
       "      <td>0.593121</td>\n",
       "    </tr>\n",
       "    <tr>\n",
       "      <th>2</th>\n",
       "      <td>3</td>\n",
       "      <td>0.519062</td>\n",
       "    </tr>\n",
       "    <tr>\n",
       "      <th>3</th>\n",
       "      <td>4</td>\n",
       "      <td>0.742265</td>\n",
       "    </tr>\n",
       "    <tr>\n",
       "      <th>4</th>\n",
       "      <td>5</td>\n",
       "      <td>0.595801</td>\n",
       "    </tr>\n",
       "  </tbody>\n",
       "</table>\n",
       "</div>"
      ],
      "text/plain": [
       "   id  total_rel_score\n",
       "0   1         0.567207\n",
       "1   2         0.593121\n",
       "2   3         0.519062\n",
       "3   4         0.742265\n",
       "4   5         0.595801"
      ]
     },
     "execution_count": 51,
     "metadata": {},
     "output_type": "execute_result"
    }
   ],
   "source": [
    "predictions = pd.DataFrame({'id':id, 'total_rel_score': y_pred})\n",
    "predictions.head()"
   ]
  },
  {
   "cell_type": "code",
   "execution_count": 52,
   "metadata": {
    "ExecuteTime": {
     "end_time": "2021-09-08T01:29:13.417522Z",
     "start_time": "2021-09-08T01:29:13.180523Z"
    },
    "id": "--rBtEMF5zbC"
   },
   "outputs": [],
   "source": [
    "predictions.to_csv('SampleSubmission.csv', index=False)"
   ]
  }
 ],
 "metadata": {
  "colab": {
   "collapsed_sections": [
    "Ij5GCS9ro4ug",
    "3pTSu2fW_XRq",
    "3JnaTddV1unm",
    "x_uFGSdOo5d-",
    "NVgiYKhN5R5k"
   ],
   "name": "recencia.ipynb",
   "provenance": [],
   "toc_visible": true
  },
  "kernelspec": {
   "display_name": "Python 3",
   "language": "python",
   "name": "python3"
  },
  "language_info": {
   "codemirror_mode": {
    "name": "ipython",
    "version": 3
   },
   "file_extension": ".py",
   "mimetype": "text/x-python",
   "name": "python",
   "nbconvert_exporter": "python",
   "pygments_lexer": "ipython3",
   "version": "3.7.6"
  },
  "toc": {
   "base_numbering": 1,
   "nav_menu": {},
   "number_sections": true,
   "sideBar": true,
   "skip_h1_title": false,
   "title_cell": "Table of Contents",
   "title_sidebar": "Contents",
   "toc_cell": false,
   "toc_position": {
    "height": "calc(100% - 180px)",
    "left": "10px",
    "top": "150px",
    "width": "303.825px"
   },
   "toc_section_display": true,
   "toc_window_display": true
  },
  "widgets": {
   "application/vnd.jupyter.widget-state+json": {
    "01a103fc7a7444f28a5602e25b7d0407": {
     "model_module": "@jupyter-widgets/base",
     "model_module_version": "1.2.0",
     "model_name": "LayoutModel",
     "state": {
      "_model_module": "@jupyter-widgets/base",
      "_model_module_version": "1.2.0",
      "_model_name": "LayoutModel",
      "_view_count": null,
      "_view_module": "@jupyter-widgets/base",
      "_view_module_version": "1.2.0",
      "_view_name": "LayoutView",
      "align_content": null,
      "align_items": null,
      "align_self": null,
      "border": null,
      "bottom": null,
      "display": null,
      "flex": null,
      "flex_flow": null,
      "grid_area": null,
      "grid_auto_columns": null,
      "grid_auto_flow": null,
      "grid_auto_rows": null,
      "grid_column": null,
      "grid_gap": null,
      "grid_row": null,
      "grid_template_areas": null,
      "grid_template_columns": null,
      "grid_template_rows": null,
      "height": null,
      "justify_content": null,
      "justify_items": null,
      "left": null,
      "margin": null,
      "max_height": null,
      "max_width": null,
      "min_height": null,
      "min_width": null,
      "object_fit": null,
      "object_position": null,
      "order": null,
      "overflow": null,
      "overflow_x": null,
      "overflow_y": null,
      "padding": null,
      "right": null,
      "top": null,
      "visibility": null,
      "width": null
     }
    },
    "02c36a4bd40340388ed56b4e81619151": {
     "model_module": "@jupyter-widgets/controls",
     "model_module_version": "1.5.0",
     "model_name": "HBoxModel",
     "state": {
      "_dom_classes": [],
      "_model_module": "@jupyter-widgets/controls",
      "_model_module_version": "1.5.0",
      "_model_name": "HBoxModel",
      "_view_count": null,
      "_view_module": "@jupyter-widgets/controls",
      "_view_module_version": "1.5.0",
      "_view_name": "HBoxView",
      "box_style": "",
      "children": [
       "IPY_MODEL_f5a9f020f3d14e5187490c919ad9037b",
       "IPY_MODEL_444570b1e443412c8351d4b2a6910227",
       "IPY_MODEL_951c036ede3542ea938dc801d6be5509"
      ],
      "layout": "IPY_MODEL_833feffdd0c44bc6bbf4b573c880e358"
     }
    },
    "33cae762bfe4403896e34b0691147bc9": {
     "model_module": "@jupyter-widgets/controls",
     "model_module_version": "1.5.0",
     "model_name": "HTMLModel",
     "state": {
      "_dom_classes": [],
      "_model_module": "@jupyter-widgets/controls",
      "_model_module_version": "1.5.0",
      "_model_name": "HTMLModel",
      "_view_count": null,
      "_view_module": "@jupyter-widgets/controls",
      "_view_module_version": "1.5.0",
      "_view_name": "HTMLView",
      "description": "",
      "description_tooltip": null,
      "layout": "IPY_MODEL_01a103fc7a7444f28a5602e25b7d0407",
      "placeholder": "​",
      "style": "IPY_MODEL_936a21ba978a42afbaf34587fd97909d",
      "value": " 10728/? [08:01&lt;00:00, 24.56it/s]"
     }
    },
    "444570b1e443412c8351d4b2a6910227": {
     "model_module": "@jupyter-widgets/controls",
     "model_module_version": "1.5.0",
     "model_name": "FloatProgressModel",
     "state": {
      "_dom_classes": [],
      "_model_module": "@jupyter-widgets/controls",
      "_model_module_version": "1.5.0",
      "_model_name": "FloatProgressModel",
      "_view_count": null,
      "_view_module": "@jupyter-widgets/controls",
      "_view_module_version": "1.5.0",
      "_view_name": "ProgressView",
      "bar_style": "success",
      "description": "",
      "description_tooltip": null,
      "layout": "IPY_MODEL_87de22250c4e470a8b99e29d3f826999",
      "max": 1,
      "min": 0,
      "orientation": "horizontal",
      "style": "IPY_MODEL_d8f18d441d434fb59c3e8f4ca50aaf04",
      "value": 1
     }
    },
    "4cc4a52210a24a26afcf0f5d95f80644": {
     "model_module": "@jupyter-widgets/base",
     "model_module_version": "1.2.0",
     "model_name": "LayoutModel",
     "state": {
      "_model_module": "@jupyter-widgets/base",
      "_model_module_version": "1.2.0",
      "_model_name": "LayoutModel",
      "_view_count": null,
      "_view_module": "@jupyter-widgets/base",
      "_view_module_version": "1.2.0",
      "_view_name": "LayoutView",
      "align_content": null,
      "align_items": null,
      "align_self": null,
      "border": null,
      "bottom": null,
      "display": null,
      "flex": null,
      "flex_flow": null,
      "grid_area": null,
      "grid_auto_columns": null,
      "grid_auto_flow": null,
      "grid_auto_rows": null,
      "grid_column": null,
      "grid_gap": null,
      "grid_row": null,
      "grid_template_areas": null,
      "grid_template_columns": null,
      "grid_template_rows": null,
      "height": null,
      "justify_content": null,
      "justify_items": null,
      "left": null,
      "margin": null,
      "max_height": null,
      "max_width": null,
      "min_height": null,
      "min_width": null,
      "object_fit": null,
      "object_position": null,
      "order": null,
      "overflow": null,
      "overflow_x": null,
      "overflow_y": null,
      "padding": null,
      "right": null,
      "top": null,
      "visibility": null,
      "width": "20px"
     }
    },
    "6989dc6b78084603a62c45973130dbe9": {
     "model_module": "@jupyter-widgets/controls",
     "model_module_version": "1.5.0",
     "model_name": "DescriptionStyleModel",
     "state": {
      "_model_module": "@jupyter-widgets/controls",
      "_model_module_version": "1.5.0",
      "_model_name": "DescriptionStyleModel",
      "_view_count": null,
      "_view_module": "@jupyter-widgets/base",
      "_view_module_version": "1.2.0",
      "_view_name": "StyleView",
      "description_width": ""
     }
    },
    "7a3851785ea6453ba704023af25cb3fd": {
     "model_module": "@jupyter-widgets/base",
     "model_module_version": "1.2.0",
     "model_name": "LayoutModel",
     "state": {
      "_model_module": "@jupyter-widgets/base",
      "_model_module_version": "1.2.0",
      "_model_name": "LayoutModel",
      "_view_count": null,
      "_view_module": "@jupyter-widgets/base",
      "_view_module_version": "1.2.0",
      "_view_name": "LayoutView",
      "align_content": null,
      "align_items": null,
      "align_self": null,
      "border": null,
      "bottom": null,
      "display": null,
      "flex": null,
      "flex_flow": null,
      "grid_area": null,
      "grid_auto_columns": null,
      "grid_auto_flow": null,
      "grid_auto_rows": null,
      "grid_column": null,
      "grid_gap": null,
      "grid_row": null,
      "grid_template_areas": null,
      "grid_template_columns": null,
      "grid_template_rows": null,
      "height": null,
      "justify_content": null,
      "justify_items": null,
      "left": null,
      "margin": null,
      "max_height": null,
      "max_width": null,
      "min_height": null,
      "min_width": null,
      "object_fit": null,
      "object_position": null,
      "order": null,
      "overflow": null,
      "overflow_x": null,
      "overflow_y": null,
      "padding": null,
      "right": null,
      "top": null,
      "visibility": null,
      "width": null
     }
    },
    "7cf66165eeba4d229403eef5f5baaa65": {
     "model_module": "@jupyter-widgets/base",
     "model_module_version": "1.2.0",
     "model_name": "LayoutModel",
     "state": {
      "_model_module": "@jupyter-widgets/base",
      "_model_module_version": "1.2.0",
      "_model_name": "LayoutModel",
      "_view_count": null,
      "_view_module": "@jupyter-widgets/base",
      "_view_module_version": "1.2.0",
      "_view_name": "LayoutView",
      "align_content": null,
      "align_items": null,
      "align_self": null,
      "border": null,
      "bottom": null,
      "display": null,
      "flex": null,
      "flex_flow": null,
      "grid_area": null,
      "grid_auto_columns": null,
      "grid_auto_flow": null,
      "grid_auto_rows": null,
      "grid_column": null,
      "grid_gap": null,
      "grid_row": null,
      "grid_template_areas": null,
      "grid_template_columns": null,
      "grid_template_rows": null,
      "height": null,
      "justify_content": null,
      "justify_items": null,
      "left": null,
      "margin": null,
      "max_height": null,
      "max_width": null,
      "min_height": null,
      "min_width": null,
      "object_fit": null,
      "object_position": null,
      "order": null,
      "overflow": null,
      "overflow_x": null,
      "overflow_y": null,
      "padding": null,
      "right": null,
      "top": null,
      "visibility": null,
      "width": null
     }
    },
    "7edbfbbb249c4dda82e75b7478db7461": {
     "model_module": "@jupyter-widgets/base",
     "model_module_version": "1.2.0",
     "model_name": "LayoutModel",
     "state": {
      "_model_module": "@jupyter-widgets/base",
      "_model_module_version": "1.2.0",
      "_model_name": "LayoutModel",
      "_view_count": null,
      "_view_module": "@jupyter-widgets/base",
      "_view_module_version": "1.2.0",
      "_view_name": "LayoutView",
      "align_content": null,
      "align_items": null,
      "align_self": null,
      "border": null,
      "bottom": null,
      "display": null,
      "flex": null,
      "flex_flow": null,
      "grid_area": null,
      "grid_auto_columns": null,
      "grid_auto_flow": null,
      "grid_auto_rows": null,
      "grid_column": null,
      "grid_gap": null,
      "grid_row": null,
      "grid_template_areas": null,
      "grid_template_columns": null,
      "grid_template_rows": null,
      "height": null,
      "justify_content": null,
      "justify_items": null,
      "left": null,
      "margin": null,
      "max_height": null,
      "max_width": null,
      "min_height": null,
      "min_width": null,
      "object_fit": null,
      "object_position": null,
      "order": null,
      "overflow": null,
      "overflow_x": null,
      "overflow_y": null,
      "padding": null,
      "right": null,
      "top": null,
      "visibility": null,
      "width": null
     }
    },
    "82255f3cbd2943969696125444afa81d": {
     "model_module": "@jupyter-widgets/controls",
     "model_module_version": "1.5.0",
     "model_name": "DescriptionStyleModel",
     "state": {
      "_model_module": "@jupyter-widgets/controls",
      "_model_module_version": "1.5.0",
      "_model_name": "DescriptionStyleModel",
      "_view_count": null,
      "_view_module": "@jupyter-widgets/base",
      "_view_module_version": "1.2.0",
      "_view_name": "StyleView",
      "description_width": ""
     }
    },
    "833feffdd0c44bc6bbf4b573c880e358": {
     "model_module": "@jupyter-widgets/base",
     "model_module_version": "1.2.0",
     "model_name": "LayoutModel",
     "state": {
      "_model_module": "@jupyter-widgets/base",
      "_model_module_version": "1.2.0",
      "_model_name": "LayoutModel",
      "_view_count": null,
      "_view_module": "@jupyter-widgets/base",
      "_view_module_version": "1.2.0",
      "_view_name": "LayoutView",
      "align_content": null,
      "align_items": null,
      "align_self": null,
      "border": null,
      "bottom": null,
      "display": null,
      "flex": null,
      "flex_flow": null,
      "grid_area": null,
      "grid_auto_columns": null,
      "grid_auto_flow": null,
      "grid_auto_rows": null,
      "grid_column": null,
      "grid_gap": null,
      "grid_row": null,
      "grid_template_areas": null,
      "grid_template_columns": null,
      "grid_template_rows": null,
      "height": null,
      "justify_content": null,
      "justify_items": null,
      "left": null,
      "margin": null,
      "max_height": null,
      "max_width": null,
      "min_height": null,
      "min_width": null,
      "object_fit": null,
      "object_position": null,
      "order": null,
      "overflow": null,
      "overflow_x": null,
      "overflow_y": null,
      "padding": null,
      "right": null,
      "top": null,
      "visibility": null,
      "width": null
     }
    },
    "87de22250c4e470a8b99e29d3f826999": {
     "model_module": "@jupyter-widgets/base",
     "model_module_version": "1.2.0",
     "model_name": "LayoutModel",
     "state": {
      "_model_module": "@jupyter-widgets/base",
      "_model_module_version": "1.2.0",
      "_model_name": "LayoutModel",
      "_view_count": null,
      "_view_module": "@jupyter-widgets/base",
      "_view_module_version": "1.2.0",
      "_view_name": "LayoutView",
      "align_content": null,
      "align_items": null,
      "align_self": null,
      "border": null,
      "bottom": null,
      "display": null,
      "flex": null,
      "flex_flow": null,
      "grid_area": null,
      "grid_auto_columns": null,
      "grid_auto_flow": null,
      "grid_auto_rows": null,
      "grid_column": null,
      "grid_gap": null,
      "grid_row": null,
      "grid_template_areas": null,
      "grid_template_columns": null,
      "grid_template_rows": null,
      "height": null,
      "justify_content": null,
      "justify_items": null,
      "left": null,
      "margin": null,
      "max_height": null,
      "max_width": null,
      "min_height": null,
      "min_width": null,
      "object_fit": null,
      "object_position": null,
      "order": null,
      "overflow": null,
      "overflow_x": null,
      "overflow_y": null,
      "padding": null,
      "right": null,
      "top": null,
      "visibility": null,
      "width": "20px"
     }
    },
    "8d14ffd6356f42e09d6b9d2719b42c37": {
     "model_module": "@jupyter-widgets/controls",
     "model_module_version": "1.5.0",
     "model_name": "ProgressStyleModel",
     "state": {
      "_model_module": "@jupyter-widgets/controls",
      "_model_module_version": "1.5.0",
      "_model_name": "ProgressStyleModel",
      "_view_count": null,
      "_view_module": "@jupyter-widgets/base",
      "_view_module_version": "1.2.0",
      "_view_name": "StyleView",
      "bar_color": null,
      "description_width": ""
     }
    },
    "936a21ba978a42afbaf34587fd97909d": {
     "model_module": "@jupyter-widgets/controls",
     "model_module_version": "1.5.0",
     "model_name": "DescriptionStyleModel",
     "state": {
      "_model_module": "@jupyter-widgets/controls",
      "_model_module_version": "1.5.0",
      "_model_name": "DescriptionStyleModel",
      "_view_count": null,
      "_view_module": "@jupyter-widgets/base",
      "_view_module_version": "1.2.0",
      "_view_name": "StyleView",
      "description_width": ""
     }
    },
    "951c036ede3542ea938dc801d6be5509": {
     "model_module": "@jupyter-widgets/controls",
     "model_module_version": "1.5.0",
     "model_name": "HTMLModel",
     "state": {
      "_dom_classes": [],
      "_model_module": "@jupyter-widgets/controls",
      "_model_module_version": "1.5.0",
      "_model_name": "HTMLModel",
      "_view_count": null,
      "_view_module": "@jupyter-widgets/controls",
      "_view_module_version": "1.5.0",
      "_view_name": "HTMLView",
      "description": "",
      "description_tooltip": null,
      "layout": "IPY_MODEL_7edbfbbb249c4dda82e75b7478db7461",
      "placeholder": "​",
      "style": "IPY_MODEL_962ac367ef4e464eba694392782f82cd",
      "value": " 21456/? [16:22&lt;00:00, 23.50it/s]"
     }
    },
    "958c48f07355458f8b53e853099ba692": {
     "model_module": "@jupyter-widgets/controls",
     "model_module_version": "1.5.0",
     "model_name": "FloatProgressModel",
     "state": {
      "_dom_classes": [],
      "_model_module": "@jupyter-widgets/controls",
      "_model_module_version": "1.5.0",
      "_model_name": "FloatProgressModel",
      "_view_count": null,
      "_view_module": "@jupyter-widgets/controls",
      "_view_module_version": "1.5.0",
      "_view_name": "ProgressView",
      "bar_style": "success",
      "description": "",
      "description_tooltip": null,
      "layout": "IPY_MODEL_4cc4a52210a24a26afcf0f5d95f80644",
      "max": 1,
      "min": 0,
      "orientation": "horizontal",
      "style": "IPY_MODEL_8d14ffd6356f42e09d6b9d2719b42c37",
      "value": 1
     }
    },
    "962ac367ef4e464eba694392782f82cd": {
     "model_module": "@jupyter-widgets/controls",
     "model_module_version": "1.5.0",
     "model_name": "DescriptionStyleModel",
     "state": {
      "_model_module": "@jupyter-widgets/controls",
      "_model_module_version": "1.5.0",
      "_model_name": "DescriptionStyleModel",
      "_view_count": null,
      "_view_module": "@jupyter-widgets/base",
      "_view_module_version": "1.2.0",
      "_view_name": "StyleView",
      "description_width": ""
     }
    },
    "d0491a4eb2a64ef4a3fe9fa487053581": {
     "model_module": "@jupyter-widgets/controls",
     "model_module_version": "1.5.0",
     "model_name": "HBoxModel",
     "state": {
      "_dom_classes": [],
      "_model_module": "@jupyter-widgets/controls",
      "_model_module_version": "1.5.0",
      "_model_name": "HBoxModel",
      "_view_count": null,
      "_view_module": "@jupyter-widgets/controls",
      "_view_module_version": "1.5.0",
      "_view_name": "HBoxView",
      "box_style": "",
      "children": [
       "IPY_MODEL_f9cf8ffec1944a7a8bea12fcc8d6bd55",
       "IPY_MODEL_958c48f07355458f8b53e853099ba692",
       "IPY_MODEL_33cae762bfe4403896e34b0691147bc9"
      ],
      "layout": "IPY_MODEL_7cf66165eeba4d229403eef5f5baaa65"
     }
    },
    "d8f18d441d434fb59c3e8f4ca50aaf04": {
     "model_module": "@jupyter-widgets/controls",
     "model_module_version": "1.5.0",
     "model_name": "ProgressStyleModel",
     "state": {
      "_model_module": "@jupyter-widgets/controls",
      "_model_module_version": "1.5.0",
      "_model_name": "ProgressStyleModel",
      "_view_count": null,
      "_view_module": "@jupyter-widgets/base",
      "_view_module_version": "1.2.0",
      "_view_name": "StyleView",
      "bar_color": null,
      "description_width": ""
     }
    },
    "f5a9f020f3d14e5187490c919ad9037b": {
     "model_module": "@jupyter-widgets/controls",
     "model_module_version": "1.5.0",
     "model_name": "HTMLModel",
     "state": {
      "_dom_classes": [],
      "_model_module": "@jupyter-widgets/controls",
      "_model_module_version": "1.5.0",
      "_model_name": "HTMLModel",
      "_view_count": null,
      "_view_module": "@jupyter-widgets/controls",
      "_view_module_version": "1.5.0",
      "_view_name": "HTMLView",
      "description": "",
      "description_tooltip": null,
      "layout": "IPY_MODEL_7a3851785ea6453ba704023af25cb3fd",
      "placeholder": "​",
      "style": "IPY_MODEL_6989dc6b78084603a62c45973130dbe9",
      "value": ""
     }
    },
    "f616313565da4e5abe7c79ee3d708828": {
     "model_module": "@jupyter-widgets/base",
     "model_module_version": "1.2.0",
     "model_name": "LayoutModel",
     "state": {
      "_model_module": "@jupyter-widgets/base",
      "_model_module_version": "1.2.0",
      "_model_name": "LayoutModel",
      "_view_count": null,
      "_view_module": "@jupyter-widgets/base",
      "_view_module_version": "1.2.0",
      "_view_name": "LayoutView",
      "align_content": null,
      "align_items": null,
      "align_self": null,
      "border": null,
      "bottom": null,
      "display": null,
      "flex": null,
      "flex_flow": null,
      "grid_area": null,
      "grid_auto_columns": null,
      "grid_auto_flow": null,
      "grid_auto_rows": null,
      "grid_column": null,
      "grid_gap": null,
      "grid_row": null,
      "grid_template_areas": null,
      "grid_template_columns": null,
      "grid_template_rows": null,
      "height": null,
      "justify_content": null,
      "justify_items": null,
      "left": null,
      "margin": null,
      "max_height": null,
      "max_width": null,
      "min_height": null,
      "min_width": null,
      "object_fit": null,
      "object_position": null,
      "order": null,
      "overflow": null,
      "overflow_x": null,
      "overflow_y": null,
      "padding": null,
      "right": null,
      "top": null,
      "visibility": null,
      "width": null
     }
    },
    "f9cf8ffec1944a7a8bea12fcc8d6bd55": {
     "model_module": "@jupyter-widgets/controls",
     "model_module_version": "1.5.0",
     "model_name": "HTMLModel",
     "state": {
      "_dom_classes": [],
      "_model_module": "@jupyter-widgets/controls",
      "_model_module_version": "1.5.0",
      "_model_name": "HTMLModel",
      "_view_count": null,
      "_view_module": "@jupyter-widgets/controls",
      "_view_module_version": "1.5.0",
      "_view_name": "HTMLView",
      "description": "",
      "description_tooltip": null,
      "layout": "IPY_MODEL_f616313565da4e5abe7c79ee3d708828",
      "placeholder": "​",
      "style": "IPY_MODEL_82255f3cbd2943969696125444afa81d",
      "value": ""
     }
    }
   }
  }
 },
 "nbformat": 4,
 "nbformat_minor": 4
}
